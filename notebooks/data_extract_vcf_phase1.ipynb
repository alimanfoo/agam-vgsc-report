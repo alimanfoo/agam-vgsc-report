{
 "cells": [
  {
   "cell_type": "code",
   "execution_count": 1,
   "metadata": {
    "collapsed": false,
    "deletable": true,
    "editable": true
   },
   "outputs": [
    {
     "data": {
      "text/html": [
       "<style type=\"text/css\">\n",
       ".container {\n",
       "    width: 100%;\n",
       "}\n",
       "#maintoolbar {\n",
       "    display: none;\n",
       "}\n",
       "#header-container {\n",
       "    display: none;\n",
       "}\n",
       "div#notebook {\n",
       "    padding-top: 0;\n",
       "}\n",
       "</style>"
      ],
      "text/plain": [
       "<IPython.core.display.HTML object>"
      ]
     },
     "metadata": {},
     "output_type": "display_data"
    }
   ],
   "source": [
    "%run setup.ipynb"
   ]
  },
  {
   "cell_type": "code",
   "execution_count": 2,
   "metadata": {
    "collapsed": false,
    "deletable": true,
    "editable": true
   },
   "outputs": [
    {
     "data": {
      "text/plain": [
       "<__main__.SeqFeature at 0x7fb3602406a0>"
      ]
     },
     "execution_count": 2,
     "metadata": {},
     "output_type": "execute_result"
    }
   ],
   "source": [
    "region_vgsc = SeqFeature('2L', 2358158, 2431617)\n",
    "region_vgsc"
   ]
  },
  {
   "cell_type": "code",
   "execution_count": 3,
   "metadata": {
    "collapsed": false
   },
   "outputs": [
    {
     "data": {
      "text/plain": [
       "'2L:2358158-2431617'"
      ]
     },
     "execution_count": 3,
     "metadata": {},
     "output_type": "execute_result"
    }
   ],
   "source": [
    "region_vgsc.region_str"
   ]
  },
  {
   "cell_type": "code",
   "execution_count": 4,
   "metadata": {
    "collapsed": false
   },
   "outputs": [
    {
     "data": {
      "text/plain": [
       "'../data/ag1000g.phase1.ar3.2L.2358158.2431617.vcf'"
      ]
     },
     "execution_count": 4,
     "metadata": {},
     "output_type": "execute_result"
    }
   ],
   "source": [
    "input_filename = '../ngs.sanger.ac.uk/production/ag1000g/phase1/AR3/variation/main/vcf/ag1000g.phase1.ar3.%s.vcf.gz' % region_vgsc.seqid\n",
    "output_filename = '../data/ag1000g.phase1.ar3.%s.%s.%s.vcf' % tuple(region_vgsc)\n",
    "output_filename"
   ]
  },
  {
   "cell_type": "code",
   "execution_count": 5,
   "metadata": {
    "collapsed": false
   },
   "outputs": [
    {
     "name": "stdout",
     "output_type": "stream",
     "text": [
      "\r\n",
      "About:   VCF/BCF conversion, view, subset and filter VCF/BCF files.\r\n",
      "Usage:   bcftools view [options] <in.vcf.gz> [region1 [...]]\r\n",
      "\r\n",
      "Output options:\r\n",
      "    -G,   --drop-genotypes              drop individual genotype information (after subsetting if -s option set)\r\n",
      "    -h/H, --header-only/--no-header     print the header only/suppress the header in VCF output\r\n",
      "    -l,   --compression-level [0-9]     compression level: 0 uncompressed, 1 best speed, 9 best compression [-1]\r\n",
      "          --no-version                  do not append version and command line to the header\r\n",
      "    -o,   --output-file <file>          output file name [stdout]\r\n",
      "    -O,   --output-type <b|u|z|v>       b: compressed BCF, u: uncompressed BCF, z: compressed VCF, v: uncompressed VCF [v]\r\n",
      "    -r, --regions <region>              restrict to comma-separated list of regions\r\n",
      "    -R, --regions-file <file>           restrict to regions listed in a file\r\n",
      "    -t, --targets [^]<region>           similar to -r but streams rather than index-jumps. Exclude regions with \"^\" prefix\r\n",
      "    -T, --targets-file [^]<file>        similar to -R but streams rather than index-jumps. Exclude regions with \"^\" prefix\r\n",
      "        --threads <int>                 number of extra output compression threads [0]\r\n",
      "\r\n",
      "Subset options:\r\n",
      "    -a, --trim-alt-alleles        trim alternate alleles not seen in the subset\r\n",
      "    -I, --no-update               do not (re)calculate INFO fields for the subset (currently INFO/AC and INFO/AN)\r\n",
      "    -s, --samples [^]<list>       comma separated list of samples to include (or exclude with \"^\" prefix)\r\n",
      "    -S, --samples-file [^]<file>  file of samples to include (or exclude with \"^\" prefix)\r\n",
      "        --force-samples           only warn about unknown subset samples\r\n",
      "\r\n",
      "Filter options:\r\n",
      "    -c/C, --min-ac/--max-ac <int>[:<type>]      minimum/maximum count for non-reference (nref), 1st alternate (alt1), least frequent\r\n",
      "                                                   (minor), most frequent (major) or sum of all but most frequent (nonmajor) alleles [nref]\r\n",
      "    -f,   --apply-filters <list>                require at least one of the listed FILTER strings (e.g. \"PASS,.\")\r\n",
      "    -g,   --genotype [^]<hom|het|miss>          require one or more hom/het/missing genotype or, if prefixed with \"^\", exclude sites with hom/het/missing genotypes\r\n",
      "    -i/e, --include/--exclude <expr>            select/exclude sites for which the expression is true (see man page for details)\r\n",
      "    -k/n, --known/--novel                       select known/novel sites only (ID is not/is '.')\r\n",
      "    -m/M, --min-alleles/--max-alleles <int>     minimum/maximum number of alleles listed in REF and ALT (e.g. -m2 -M2 for biallelic sites)\r\n",
      "    -p/P, --phased/--exclude-phased             select/exclude sites where all samples are phased\r\n",
      "    -q/Q, --min-af/--max-af <float>[:<type>]    minimum/maximum frequency for non-reference (nref), 1st alternate (alt1), least frequent\r\n",
      "                                                   (minor), most frequent (major) or sum of all but most frequent (nonmajor) alleles [nref]\r\n",
      "    -u/U, --uncalled/--exclude-uncalled         select/exclude sites without a called genotype\r\n",
      "    -v/V, --types/--exclude-types <list>        select/exclude comma-separated list of variant types: snps,indels,mnps,other [null]\r\n",
      "    -x/X, --private/--exclude-private           select/exclude sites where the non-reference alleles are exclusive (private) to the subset samples\r\n",
      "\r\n"
     ]
    }
   ],
   "source": [
    "!bcftools view"
   ]
  },
  {
   "cell_type": "code",
   "execution_count": 9,
   "metadata": {
    "collapsed": true
   },
   "outputs": [],
   "source": [
    "# only run if needed\n",
    "if not os.path.exists(output_filename + '.gz'):\n",
    "    !bcftools view \\\n",
    "        --output-file {output_filename} \\\n",
    "        --output-type v \\\n",
    "        --regions {region_vgsc.region_str} \\\n",
    "        {input_filename} && \\\n",
    "        bgzip -f {output_filename} && \\\n",
    "        tabix -p vcf -f {output_filename}.gz"
   ]
  },
  {
   "cell_type": "code",
   "execution_count": 10,
   "metadata": {
    "collapsed": false,
    "deletable": true,
    "editable": true
   },
   "outputs": [
    {
     "name": "stdout",
     "output_type": "stream",
     "text": [
      "total 34M\r\n",
      "-rw-r--r-- 1 aliman kwiat-cluster-users  28M Feb 27 12:59 ag1000g.phase1.ar3.2L.2358158.2431617.vcf.gz\r\n",
      "-rw-r--r-- 1 aliman kwiat-cluster-users  187 Feb 27 12:59 ag1000g.phase1.ar3.2L.2358158.2431617.vcf.gz.tbi\r\n",
      "-rw-rw-r-- 1 aliman                2834 2.6M Feb 23 09:42 Anopheles-gambiae-PEST_BASEFEATURES_AgamP4.4.gff3.gz\r\n",
      "-rw-rw-r-- 1 aliman                2834  47K Feb 23 09:42 davies_vgsc_model_20170125.gff3\r\n",
      "-rw-rw-r-- 1 aliman                2834 1.5M Feb 27 12:35 demo.npy\r\n",
      "-rw-r--r-- 1 aliman kwiat-cluster-users  19K Feb 27 11:45 domestica_gambiae_map.txt\r\n",
      "-rw-r--r-- 1 aliman kwiat-cluster-users 4.3K Feb 27 11:45 domestica_gambiae_PROT_MEGA.fas\r\n",
      "-rw-r--r-- 1 aliman kwiat-cluster-users 4.2K Feb 27 11:45 domestica_gambiae_PROT_MEGA.fas.flat\r\n",
      "-rw-r--r-- 1 aliman kwiat-cluster-users   66 Feb 27 11:45 domestica_gambiae_PROT_MEGA.fas.gdx\r\n",
      "-rw-rw-r-- 1 aliman                2834  11M Feb 27 12:29 tbl_variants_phase1.pkl\r\n",
      "-rw-rw-r-- 1 aliman                2834 4.3M Feb 27 12:29 tbl_variants_phase1.txt\r\n"
     ]
    }
   ],
   "source": [
    "!ls -lh ../data"
   ]
  },
  {
   "cell_type": "code",
   "execution_count": null,
   "metadata": {
    "collapsed": true
   },
   "outputs": [],
   "source": []
  }
 ],
 "metadata": {
  "kernelspec": {
   "display_name": "Python 3",
   "language": "python",
   "name": "python3"
  },
  "language_info": {
   "codemirror_mode": {
    "name": "ipython",
    "version": 3
   },
   "file_extension": ".py",
   "mimetype": "text/x-python",
   "name": "python",
   "nbconvert_exporter": "python",
   "pygments_lexer": "ipython3",
   "version": "3.5.3"
  }
 },
 "nbformat": 4,
 "nbformat_minor": 2
}
