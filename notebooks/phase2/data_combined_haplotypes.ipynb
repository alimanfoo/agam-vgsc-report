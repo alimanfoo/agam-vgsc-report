{
 "cells": [
  {
   "cell_type": "markdown",
   "metadata": {},
   "source": [
    "This notebook weaves together the haplotype scaffold at biallelic sites phased via shapeit2 with the multiallelic and other extra (e.g., non-PASS) variants phased via mvncall."
   ]
  },
  {
   "cell_type": "code",
   "execution_count": 1,
   "metadata": {},
   "outputs": [
    {
     "data": {
      "text/html": [
       "<style type=\"text/css\">\n",
       ".container {\n",
       "    width: 100%;\n",
       "}\n",
       "div#notebook {\n",
       "    padding-top: 1em;\n",
       "}\n",
       "#header-container {\n",
       "    display: none;\n",
       "}\n",
       "#header-bar {\n",
       "    display: none;\n",
       "}\n",
       "#maintoolbar {\n",
       "    display: none;\n",
       "}\n",
       "#menubar-container {\n",
       "    position: fixed;\n",
       "    margin-top: 0;\n",
       "}\n",
       "#site {\n",
       "    height: auto !important;\n",
       "}\n",
       "</style>"
      ],
      "text/plain": [
       "<IPython.core.display.HTML object>"
      ]
     },
     "metadata": {},
     "output_type": "display_data"
    }
   ],
   "source": [
    "%run setup.ipynb"
   ]
  },
  {
   "cell_type": "code",
   "execution_count": 2,
   "metadata": {},
   "outputs": [
    {
     "data": {
      "text/plain": [
       "(<HDF5 dataset \"genotype\": shape (8906423, 1164, 2), type \"|i1\">,\n",
       " (131072, 60, 2))"
      ]
     },
     "execution_count": 2,
     "metadata": {},
     "output_type": "execute_result"
    }
   ],
   "source": [
    "# haplotype scaffold\n",
    "callset_phased = phase2_ar1.callset_phased\n",
    "gt_phased = callset_phased['2L']['calldata/genotype']\n",
    "gt_phased, gt_phased.chunks"
   ]
  },
  {
   "cell_type": "code",
   "execution_count": 3,
   "metadata": {},
   "outputs": [
    {
     "data": {
      "text/plain": [
       "((8906423,), (8906423, 1164, 2))"
      ]
     },
     "execution_count": 3,
     "metadata": {},
     "output_type": "execute_result"
    }
   ],
   "source": [
    "pos_phased = allel.SortedIndex(callset_phased['2L']['variants/POS'])\n",
    "pos_phased.shape, gt_phased.shape"
   ]
  },
  {
   "cell_type": "code",
   "execution_count": 4,
   "metadata": {},
   "outputs": [
    {
     "data": {
      "text/plain": [
       "slice(0, 390585, None)"
      ]
     },
     "execution_count": 4,
     "metadata": {},
     "output_type": "execute_result"
    }
   ],
   "source": [
    "# define region we're going to analyse\n",
    "loc_region = pos_phased.locate_range(0, 6000000)\n",
    "loc_region"
   ]
  },
  {
   "cell_type": "code",
   "execution_count": 5,
   "metadata": {},
   "outputs": [
    {
     "data": {
      "text/html": [
       "<div>\n",
       "<style>\n",
       "    .dataframe thead tr:only-child th {\n",
       "        text-align: right;\n",
       "    }\n",
       "\n",
       "    .dataframe thead th {\n",
       "        text-align: left;\n",
       "    }\n",
       "\n",
       "    .dataframe tbody tr th {\n",
       "        vertical-align: top;\n",
       "    }\n",
       "</style>\n",
       "<table border=\"1\" class=\"dataframe\">\n",
       "  <thead>\n",
       "    <tr style=\"text-align: right;\">\n",
       "      <th></th>\n",
       "      <th>src_code</th>\n",
       "      <th>population</th>\n",
       "      <th>country</th>\n",
       "      <th>region</th>\n",
       "      <th>contributor</th>\n",
       "      <th>contact</th>\n",
       "      <th>year</th>\n",
       "      <th>m_s</th>\n",
       "      <th>sex</th>\n",
       "      <th>n_sequences</th>\n",
       "      <th>mean_coverage</th>\n",
       "    </tr>\n",
       "    <tr>\n",
       "      <th>ox_code</th>\n",
       "      <th></th>\n",
       "      <th></th>\n",
       "      <th></th>\n",
       "      <th></th>\n",
       "      <th></th>\n",
       "      <th></th>\n",
       "      <th></th>\n",
       "      <th></th>\n",
       "      <th></th>\n",
       "      <th></th>\n",
       "      <th></th>\n",
       "    </tr>\n",
       "  </thead>\n",
       "  <tbody>\n",
       "    <tr>\n",
       "      <th>AA0040-C</th>\n",
       "      <td>Twifo_Praso__E2</td>\n",
       "      <td>GHcol</td>\n",
       "      <td>Ghana</td>\n",
       "      <td>Twifo_Praso</td>\n",
       "      <td>David Weetman</td>\n",
       "      <td>NaN</td>\n",
       "      <td>2012.0</td>\n",
       "      <td>M</td>\n",
       "      <td>F</td>\n",
       "      <td>95033368</td>\n",
       "      <td>30.99</td>\n",
       "    </tr>\n",
       "    <tr>\n",
       "      <th>AA0041-C</th>\n",
       "      <td>Twifo_Praso__H3</td>\n",
       "      <td>GHcol</td>\n",
       "      <td>Ghana</td>\n",
       "      <td>Twifo_Praso</td>\n",
       "      <td>David Weetman</td>\n",
       "      <td>NaN</td>\n",
       "      <td>2012.0</td>\n",
       "      <td>M</td>\n",
       "      <td>F</td>\n",
       "      <td>95843804</td>\n",
       "      <td>31.70</td>\n",
       "    </tr>\n",
       "    <tr>\n",
       "      <th>AA0042-C</th>\n",
       "      <td>Takoradi_C7</td>\n",
       "      <td>GHcol</td>\n",
       "      <td>Ghana</td>\n",
       "      <td>Takoradi</td>\n",
       "      <td>David Weetman</td>\n",
       "      <td>NaN</td>\n",
       "      <td>2012.0</td>\n",
       "      <td>M</td>\n",
       "      <td>F</td>\n",
       "      <td>107420666</td>\n",
       "      <td>35.65</td>\n",
       "    </tr>\n",
       "    <tr>\n",
       "      <th>AA0043-C</th>\n",
       "      <td>Takoradi_H8</td>\n",
       "      <td>GHcol</td>\n",
       "      <td>Ghana</td>\n",
       "      <td>Takoradi</td>\n",
       "      <td>David Weetman</td>\n",
       "      <td>NaN</td>\n",
       "      <td>2012.0</td>\n",
       "      <td>M</td>\n",
       "      <td>F</td>\n",
       "      <td>95993752</td>\n",
       "      <td>29.46</td>\n",
       "    </tr>\n",
       "    <tr>\n",
       "      <th>AA0044-C</th>\n",
       "      <td>Takoradi_D10</td>\n",
       "      <td>GHcol</td>\n",
       "      <td>Ghana</td>\n",
       "      <td>Takoradi</td>\n",
       "      <td>David Weetman</td>\n",
       "      <td>NaN</td>\n",
       "      <td>2012.0</td>\n",
       "      <td>M</td>\n",
       "      <td>F</td>\n",
       "      <td>103044262</td>\n",
       "      <td>33.67</td>\n",
       "    </tr>\n",
       "  </tbody>\n",
       "</table>\n",
       "</div>"
      ],
      "text/plain": [
       "                 src_code population country       region    contributor  \\\n",
       "ox_code                                                                    \n",
       "AA0040-C  Twifo_Praso__E2      GHcol   Ghana  Twifo_Praso  David Weetman   \n",
       "AA0041-C  Twifo_Praso__H3      GHcol   Ghana  Twifo_Praso  David Weetman   \n",
       "AA0042-C      Takoradi_C7      GHcol   Ghana     Takoradi  David Weetman   \n",
       "AA0043-C      Takoradi_H8      GHcol   Ghana     Takoradi  David Weetman   \n",
       "AA0044-C     Takoradi_D10      GHcol   Ghana     Takoradi  David Weetman   \n",
       "\n",
       "         contact    year m_s sex  n_sequences  mean_coverage  \n",
       "ox_code                                                       \n",
       "AA0040-C     NaN  2012.0   M   F     95033368          30.99  \n",
       "AA0041-C     NaN  2012.0   M   F     95843804          31.70  \n",
       "AA0042-C     NaN  2012.0   M   F    107420666          35.65  \n",
       "AA0043-C     NaN  2012.0   M   F     95993752          29.46  \n",
       "AA0044-C     NaN  2012.0   M   F    103044262          33.67  "
      ]
     },
     "execution_count": 5,
     "metadata": {},
     "output_type": "execute_result"
    }
   ],
   "source": [
    "# locate wild-caught samples\n",
    "df_samples = phase2_ar1.df_samples\n",
    "df_samples.head()"
   ]
  },
  {
   "cell_type": "code",
   "execution_count": 6,
   "metadata": {},
   "outputs": [
    {
     "data": {
      "text/plain": [
       "1142"
      ]
     },
     "execution_count": 6,
     "metadata": {},
     "output_type": "execute_result"
    }
   ],
   "source": [
    "len(df_samples)"
   ]
  },
  {
   "cell_type": "code",
   "execution_count": 7,
   "metadata": {},
   "outputs": [
    {
     "data": {
      "text/plain": [
       "(['AA0040-C', 'AA0041-C', 'AA0042-C', 'AA0043-C', 'AA0044-C'], 1164)"
      ]
     },
     "execution_count": 7,
     "metadata": {},
     "output_type": "execute_result"
    }
   ],
   "source": [
    "callset_samples = callset_phased['2L']['samples'][:].astype('U').tolist()\n",
    "callset_samples[:5], len(callset_samples)"
   ]
  },
  {
   "cell_type": "code",
   "execution_count": 8,
   "metadata": {},
   "outputs": [
    {
     "data": {
      "text/plain": [
       "[0, 1, 2, 3, 4]"
      ]
     },
     "execution_count": 8,
     "metadata": {},
     "output_type": "execute_result"
    }
   ],
   "source": [
    "sample_indices = [callset_samples.index(s) for s in df_samples.index.values]\n",
    "sample_indices[:5]"
   ]
  },
  {
   "cell_type": "code",
   "execution_count": 9,
   "metadata": {},
   "outputs": [
    {
     "data": {
      "text/plain": [
       "True"
      ]
     },
     "execution_count": 9,
     "metadata": {},
     "output_type": "execute_result"
    }
   ],
   "source": [
    "np.all(np.diff(sample_indices) == 1)"
   ]
  },
  {
   "cell_type": "code",
   "execution_count": 10,
   "metadata": {},
   "outputs": [
    {
     "data": {
      "text/plain": [
       "((390585,), (390585, 1142, 2), dtype('int8'))"
      ]
     },
     "execution_count": 10,
     "metadata": {},
     "output_type": "execute_result"
    }
   ],
   "source": [
    "# extract data for region, remove colony parents \n",
    "pos_phased_region = pos_phased[loc_region]\n",
    "gt_phased_region = gt_phased[loc_region].astype('i1').take(sample_indices, axis=1)\n",
    "pos_phased_region.shape, gt_phased_region.shape, gt_phased_region.dtype"
   ]
  },
  {
   "cell_type": "code",
   "execution_count": 11,
   "metadata": {
    "collapsed": true
   },
   "outputs": [],
   "source": [
    "# TODO\n",
    "\n",
    "# load mvn haplotypes\n",
    "# callset_extras = np.load('../data/phasing_extra_phase1.mvncall.200.npz')\n",
    "# pos_extras = callset_extras['variants']['POS']\n",
    "# gt_extras = callset_extras['calldata']['genotype']\n",
    "# pos_extras.shape, gt_extras.shape"
   ]
  },
  {
   "cell_type": "code",
   "execution_count": 12,
   "metadata": {
    "collapsed": true
   },
   "outputs": [],
   "source": [
    "# TODO\n",
    "\n",
    "# # concatenate\n",
    "# gt_combined = np.concatenate([gt_phased_region, gt_extras], axis=0)\n",
    "# pos_combined = np.concatenate([pos_phased_region, pos_extras], axis=0)\n",
    "\n",
    "# # sort by position\n",
    "# idx_sorted = np.argsort(pos_combined)\n",
    "# gt_combined = gt_combined[idx_sorted]\n",
    "# pos_combined = pos_combined[idx_sorted]\n",
    "\n",
    "# TODO remove this hack\n",
    "gt_combined = gt_phased_region\n",
    "pos_combined = pos_phased_region"
   ]
  },
  {
   "cell_type": "code",
   "execution_count": 13,
   "metadata": {},
   "outputs": [
    {
     "data": {
      "text/plain": [
       "array([(b'intergenic_region', b'.', b'.'),\n",
       "       (b'intergenic_region', b'.', b'.'),\n",
       "       (b'intergenic_region', b'.', b'.'), ...,\n",
       "       (b'intergenic_region', b'.', b'.'),\n",
       "       (b'intergenic_region', b'.', b'.'),\n",
       "       (b'intergenic_region', b'.', b'.')], \n",
       "      dtype=[('Annotation', 'S34'), ('HGVS_p', 'S14'), ('HGVS_c', 'S12')])"
      ]
     },
     "execution_count": 13,
     "metadata": {},
     "output_type": "execute_result"
    }
   ],
   "source": [
    "# obtain data from unphased callset - only needed for variant annotations\n",
    "callset_snpeff = phase2_ar1.callset_snpeff_agamp42\n",
    "pos_all = allel.SortedIndex(callset_snpeff['2L']['variants/POS'])\n",
    "ann_all = callset_snpeff['2L']['variants/ANN'][:][['Annotation', 'HGVS_p', 'HGVS_c']]\n",
    "ann_all"
   ]
  },
  {
   "cell_type": "code",
   "execution_count": 14,
   "metadata": {},
   "outputs": [
    {
     "data": {
      "text/plain": [
       "390585"
      ]
     },
     "execution_count": 14,
     "metadata": {},
     "output_type": "execute_result"
    }
   ],
   "source": [
    "# locate the intersection with unphased callset - needed to tie in annotations\n",
    "loc1, _ = pos_all.locate_intersection(pos_combined)\n",
    "np.count_nonzero(loc1)"
   ]
  },
  {
   "cell_type": "code",
   "execution_count": 15,
   "metadata": {},
   "outputs": [
    {
     "data": {
      "text/plain": [
       "array([(b'intergenic_region', b'.', b'.'),\n",
       "       (b'intergenic_region', b'.', b'.'),\n",
       "       (b'intergenic_region', b'.', b'.'), ...,\n",
       "       (b'upstream_gene_variant', b'.', b'n.-9A>T'),\n",
       "       (b'upstream_gene_variant', b'.', b'n.-9G>T'),\n",
       "       (b'upstream_gene_variant', b'.', b'n.-9C>G')], \n",
       "      dtype=[('Annotation', 'S34'), ('HGVS_p', 'S14'), ('HGVS_c', 'S12')])"
      ]
     },
     "execution_count": 15,
     "metadata": {},
     "output_type": "execute_result"
    }
   ],
   "source": [
    "# extract annotations for the phased variants\n",
    "ann_combined = ann_all[loc1]\n",
    "ann_combined"
   ]
  },
  {
   "cell_type": "code",
   "execution_count": 16,
   "metadata": {
    "collapsed": true
   },
   "outputs": [],
   "source": [
    "# save\n",
    "haps_combined = allel.GenotypeArray(gt_combined).to_haplotypes()\n",
    "np.savez_compressed('../../data/phase2/haps.npz', haplotypes=haps_combined, POS=pos_combined, ANN=ann_combined)"
   ]
  },
  {
   "cell_type": "code",
   "execution_count": 17,
   "metadata": {},
   "outputs": [
    {
     "data": {
      "text/plain": [
       "892096140"
      ]
     },
     "execution_count": 17,
     "metadata": {},
     "output_type": "execute_result"
    }
   ],
   "source": [
    "haps_combined.nbytes"
   ]
  },
  {
   "cell_type": "code",
   "execution_count": 18,
   "metadata": {},
   "outputs": [
    {
     "name": "stdout",
     "output_type": "stream",
     "text": [
      "-rw-r--r-- 1 aliman aliman 17M Nov  3 12:50 ../../data/phase2/haps.npz\r\n"
     ]
    }
   ],
   "source": [
    "!ls -lh ../../data/phase2/haps.npz"
   ]
  },
  {
   "cell_type": "code",
   "execution_count": null,
   "metadata": {
    "collapsed": true
   },
   "outputs": [],
   "source": []
  }
 ],
 "metadata": {
  "kernelspec": {
   "display_name": "Python 3",
   "language": "python",
   "name": "python3"
  },
  "language_info": {
   "codemirror_mode": {
    "name": "ipython",
    "version": 3
   },
   "file_extension": ".py",
   "mimetype": "text/x-python",
   "name": "python",
   "nbconvert_exporter": "python",
   "pygments_lexer": "ipython3",
   "version": "3.5.3"
  }
 },
 "nbformat": 4,
 "nbformat_minor": 2
}
