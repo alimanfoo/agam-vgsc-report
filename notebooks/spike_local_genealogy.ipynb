{
 "cells": [
  {
   "cell_type": "markdown",
   "metadata": {},
   "source": [
    "## Setup"
   ]
  },
  {
   "cell_type": "code",
   "execution_count": 1,
   "metadata": {},
   "outputs": [
    {
     "data": {
      "text/html": [
       "<style type=\"text/css\">\n",
       ".container {\n",
       "    width: 100%;\n",
       "}\n",
       "div#notebook {\n",
       "    padding-top: 1em;\n",
       "}\n",
       "#header-container {\n",
       "    display: none;\n",
       "}\n",
       "#header-bar {\n",
       "    display: none;\n",
       "}\n",
       "#maintoolbar {\n",
       "    display: none;\n",
       "}\n",
       "#menubar-container {\n",
       "    position: fixed;\n",
       "    margin-top: 0;\n",
       "}\n",
       "#site {\n",
       "    height: auto !important;\n",
       "}\n",
       "</style>"
      ],
      "text/plain": [
       "<IPython.core.display.HTML object>"
      ]
     },
     "metadata": {},
     "output_type": "display_data"
    }
   ],
   "source": [
    "%run setup.ipynb"
   ]
  },
  {
   "cell_type": "code",
   "execution_count": 2,
   "metadata": {},
   "outputs": [],
   "source": [
    "%matplotlib notebook\n",
    "%reload_ext autoreload\n",
    "%autoreload 1\n",
    "%aimport hapclust\n",
    "#import hapclust"
   ]
  },
  {
   "cell_type": "code",
   "execution_count": 33,
   "metadata": {
    "collapsed": true
   },
   "outputs": [],
   "source": [
    "h = [[0, 0, 1, 1],\n",
    "     [1, 1, 0, 0],\n",
    "     [0, 0, 0, 0],\n",
    "     [0, 0, 0, 0],\n",
    "     [0, 1, 0, 1]]"
   ]
  },
  {
   "cell_type": "code",
   "execution_count": 110,
   "metadata": {},
   "outputs": [
    {
     "data": {
      "text/plain": [
       "(array([-1, -1, -1, -1]), array([-1,  4, -1, -1]))"
      ]
     },
     "execution_count": 110,
     "metadata": {},
     "output_type": "execute_result"
    }
   ],
   "source": [
    "hapclust.locate_recomb_4gr_both(h, idx_core=2, include_core=False)"
   ]
  },
  {
   "cell_type": "code",
   "execution_count": 123,
   "metadata": {
    "collapsed": true
   },
   "outputs": [],
   "source": [
    "# setup haplotype data\n",
    "callset_phased = phase1_ar31.callset_phased\n",
    "genotypes_phased = allel.GenotypeDaskArray(callset_phased['2L/calldata/genotype'])\n",
    "pos_phased = allel.SortedIndex(callset_phased['2L/variants/POS'])"
   ]
  },
  {
   "cell_type": "code",
   "execution_count": 124,
   "metadata": {
    "collapsed": true
   },
   "outputs": [],
   "source": [
    "pos_kdr_s = 2422651\n",
    "pos_kdr_f = 2422652"
   ]
  },
  {
   "cell_type": "code",
   "execution_count": 141,
   "metadata": {},
   "outputs": [
    {
     "data": {
      "text/html": [
       "<div class=\"allel allel-DisplayAs1D\"><span>&lt;SortedIndex shape=(281831,) dtype=int32&gt;</span><table><thead><tr><th style=\"text-align: center\">0</th><th style=\"text-align: center\">1</th><th style=\"text-align: center\">2</th><th style=\"text-align: center\">3</th><th style=\"text-align: center\">4</th><th style=\"text-align: center\">...</th><th style=\"text-align: center\">281826</th><th style=\"text-align: center\">281827</th><th style=\"text-align: center\">281828</th><th style=\"text-align: center\">281829</th><th style=\"text-align: center\">281830</th></tr></thead><tbody><tr><td style=\"text-align: center\">44688</td><td style=\"text-align: center\">44691</td><td style=\"text-align: center\">44732</td><td style=\"text-align: center\">44736</td><td style=\"text-align: center\">44756</td><td style=\"text-align: center\">...</td><td style=\"text-align: center\">4996563</td><td style=\"text-align: center\">4996572</td><td style=\"text-align: center\">4996573</td><td style=\"text-align: center\">4996579</td><td style=\"text-align: center\">4996582</td></tr></tbody></table></div>"
      ],
      "text/plain": [
       "<SortedIndex shape=(281831,) dtype=int32>\n",
       "[44688, 44691, 44732, 44736, 44756, ..., 4996563, 4996572, 4996573, 4996579, 4996582]"
      ]
     },
     "execution_count": 141,
     "metadata": {},
     "output_type": "execute_result"
    }
   ],
   "source": [
    "loc_region = pos_phased.locate_range(0, 5000000)\n",
    "pos_phased_region = pos_phased[loc_region]\n",
    "pos_phased_region"
   ]
  },
  {
   "cell_type": "code",
   "execution_count": 142,
   "metadata": {},
   "outputs": [
    {
     "data": {
      "text/html": [
       "<div class=\"allel allel-DisplayAs2D\"><span>&lt;HaplotypeArray shape=(281831, 1530) dtype=int8&gt;</span><table><thead><tr><th></th><th style=\"text-align: center\">0</th><th style=\"text-align: center\">1</th><th style=\"text-align: center\">2</th><th style=\"text-align: center\">3</th><th style=\"text-align: center\">4</th><th style=\"text-align: center\">...</th><th style=\"text-align: center\">1525</th><th style=\"text-align: center\">1526</th><th style=\"text-align: center\">1527</th><th style=\"text-align: center\">1528</th><th style=\"text-align: center\">1529</th></tr></thead><tbody><tr><th style=\"text-align: center; background-color: white; border-right: 1px solid black; \">0</th><td style=\"text-align: center\">0</td><td style=\"text-align: center\">0</td><td style=\"text-align: center\">0</td><td style=\"text-align: center\">0</td><td style=\"text-align: center\">0</td><td style=\"text-align: center\">...</td><td style=\"text-align: center\">0</td><td style=\"text-align: center\">0</td><td style=\"text-align: center\">0</td><td style=\"text-align: center\">0</td><td style=\"text-align: center\">0</td></tr><tr><th style=\"text-align: center; background-color: white; border-right: 1px solid black; \">1</th><td style=\"text-align: center\">0</td><td style=\"text-align: center\">0</td><td style=\"text-align: center\">0</td><td style=\"text-align: center\">0</td><td style=\"text-align: center\">0</td><td style=\"text-align: center\">...</td><td style=\"text-align: center\">0</td><td style=\"text-align: center\">0</td><td style=\"text-align: center\">0</td><td style=\"text-align: center\">0</td><td style=\"text-align: center\">0</td></tr><tr><th style=\"text-align: center; background-color: white; border-right: 1px solid black; \">2</th><td style=\"text-align: center\">0</td><td style=\"text-align: center\">0</td><td style=\"text-align: center\">0</td><td style=\"text-align: center\">0</td><td style=\"text-align: center\">0</td><td style=\"text-align: center\">...</td><td style=\"text-align: center\">0</td><td style=\"text-align: center\">0</td><td style=\"text-align: center\">0</td><td style=\"text-align: center\">0</td><td style=\"text-align: center\">0</td></tr><tr><th style=\"text-align: center; background-color: white; border-right: 1px solid black; \">...</th><td style=\"text-align: center\" colspan=\"12\">...</td></tr><tr><th style=\"text-align: center; background-color: white; border-right: 1px solid black; \">281828</th><td style=\"text-align: center\">0</td><td style=\"text-align: center\">0</td><td style=\"text-align: center\">0</td><td style=\"text-align: center\">0</td><td style=\"text-align: center\">0</td><td style=\"text-align: center\">...</td><td style=\"text-align: center\">0</td><td style=\"text-align: center\">0</td><td style=\"text-align: center\">0</td><td style=\"text-align: center\">0</td><td style=\"text-align: center\">0</td></tr><tr><th style=\"text-align: center; background-color: white; border-right: 1px solid black; \">281829</th><td style=\"text-align: center\">0</td><td style=\"text-align: center\">0</td><td style=\"text-align: center\">0</td><td style=\"text-align: center\">0</td><td style=\"text-align: center\">0</td><td style=\"text-align: center\">...</td><td style=\"text-align: center\">0</td><td style=\"text-align: center\">0</td><td style=\"text-align: center\">0</td><td style=\"text-align: center\">0</td><td style=\"text-align: center\">0</td></tr><tr><th style=\"text-align: center; background-color: white; border-right: 1px solid black; \">281830</th><td style=\"text-align: center\">0</td><td style=\"text-align: center\">0</td><td style=\"text-align: center\">0</td><td style=\"text-align: center\">0</td><td style=\"text-align: center\">0</td><td style=\"text-align: center\">...</td><td style=\"text-align: center\">0</td><td style=\"text-align: center\">0</td><td style=\"text-align: center\">0</td><td style=\"text-align: center\">0</td><td style=\"text-align: center\">0</td></tr></tbody></table></div>"
      ],
      "text/plain": [
       "<HaplotypeArray shape=(281831, 1530) dtype=int8>\n",
       "0 0 0 0 0 ... 0 0 0 0 0\n",
       "0 0 0 0 0 ... 0 0 0 0 0\n",
       "0 0 0 0 0 ... 0 0 0 0 0\n",
       "...\n",
       "0 0 0 0 0 ... 0 0 0 0 0\n",
       "0 0 0 0 0 ... 0 0 0 0 0\n",
       "0 0 0 0 0 ... 0 0 0 0 0"
      ]
     },
     "execution_count": 142,
     "metadata": {},
     "output_type": "execute_result"
    }
   ],
   "source": [
    "# exclude cross parents\n",
    "haps_phased_region = genotypes_phased[loc_region].to_haplotypes()[:, :-16].compute()\n",
    "haps_phased_region"
   ]
  },
  {
   "cell_type": "code",
   "execution_count": null,
   "metadata": {
    "collapsed": true
   },
   "outputs": [],
   "source": []
  },
  {
   "cell_type": "code",
   "execution_count": 170,
   "metadata": {
    "collapsed": true
   },
   "outputs": [],
   "source": [
    "pos = pos_phased_region\n",
    "haps = haps_phased_region\n",
    "n_variants = haps.shape[0]\n",
    "n_haplotypes = haps.shape[1]"
   ]
  },
  {
   "cell_type": "code",
   "execution_count": 171,
   "metadata": {},
   "outputs": [
    {
     "data": {
      "text/plain": [
       "26001"
      ]
     },
     "execution_count": 171,
     "metadata": {},
     "output_type": "execute_result"
    }
   ],
   "source": [
    "idx_core = pos.locate_key(pos_kdr_f)\n",
    "idx_core"
   ]
  },
  {
   "cell_type": "code",
   "execution_count": 172,
   "metadata": {},
   "outputs": [
    {
     "name": "stdout",
     "output_type": "stream",
     "text": [
      "CPU times: user 6.89 s, sys: 0 ns, total: 6.89 s\n",
      "Wall time: 6.89 s\n"
     ]
    }
   ],
   "source": [
    "%%time\n",
    "breaks_l, breaks_r = hapclust.locate_recomb_4gr_both(haps, idx_core=idx_core)"
   ]
  },
  {
   "cell_type": "code",
   "execution_count": 173,
   "metadata": {},
   "outputs": [
    {
     "data": {
      "text/plain": [
       "115"
      ]
     },
     "execution_count": 173,
     "metadata": {},
     "output_type": "execute_result"
    }
   ],
   "source": [
    "np.count_nonzero(breaks_l < 0)"
   ]
  },
  {
   "cell_type": "code",
   "execution_count": 174,
   "metadata": {},
   "outputs": [
    {
     "data": {
      "text/plain": [
       "0"
      ]
     },
     "execution_count": 174,
     "metadata": {},
     "output_type": "execute_result"
    }
   ],
   "source": [
    "np.count_nonzero(breaks_r < 0)"
   ]
  },
  {
   "cell_type": "code",
   "execution_count": 175,
   "metadata": {
    "collapsed": true
   },
   "outputs": [],
   "source": [
    "%matplotlib inline\n",
    "import matplotlib as pyplot"
   ]
  },
  {
   "cell_type": "code",
   "execution_count": 176,
   "metadata": {},
   "outputs": [
    {
     "data": {
      "image/png": "[encoded data removed]",
      "text/plain": [
       "<matplotlib.figure.Figure at 0x7f5cd1e394e0>"
      ]
     },
     "metadata": {},
     "output_type": "display_data"
    }
   ],
   "source": [
    "plt.figure(figsize=(16, 6))\n",
    "l = breaks_l.copy()\n",
    "l[l < 0] = 0\n",
    "r = breaks_r.copy()\n",
    "r[r < 0] = haps_phased_region.n_variants - 1\n",
    "lp = np.asarray(pos_phased_region)[l]\n",
    "rp = np.asarray(pos_phased_region)[r]\n",
    "d = rp - lp \n",
    "plt.hist(d, bins=np.logspace(1, 7, 100))\n",
    "plt.xscale('log');"
   ]
  },
  {
   "cell_type": "code",
   "execution_count": 164,
   "metadata": {
    "scrolled": true
   },
   "outputs": [
    {
     "data": {
      "image/png": "[encoded data removed]",
      "text/plain": [
       "<matplotlib.figure.Figure at 0x7f5ce5ca7390>"
      ]
     },
     "metadata": {},
     "output_type": "display_data"
    }
   ],
   "source": [
    "plt.figure(figsize=(16, 6))\n",
    "l = breaks_l.copy()\n",
    "l[l < 0] = 0\n",
    "r = breaks_r.copy()\n",
    "r[r < 0] = haps_phased_region.n_variants - 1\n",
    "lp = np.asarray(pos_phased_region)[l]\n",
    "rp = np.asarray(pos_phased_region)[r]\n",
    "d = rp - lp \n",
    "plt.hist(d, bins=np.logspace(1, 7, 100))\n",
    "plt.xscale('log');"
   ]
  },
  {
   "cell_type": "code",
   "execution_count": 178,
   "metadata": {
    "collapsed": true
   },
   "outputs": [],
   "source": [
    "# pairwise shared physical length\n",
    "pspl = np.zeros((n_haplotypes, n_haplotypes), dtype=int)\n",
    "# pairwise number of differences\n",
    "pdiff = np.zeros((n_haplotypes, n_haplotypes), dtype=int)"
   ]
  },
  {
   "cell_type": "code",
   "execution_count": 179,
   "metadata": {
    "collapsed": true
   },
   "outputs": [],
   "source": [
    "breaks_l[breaks_l < 0] = 0\n",
    "breaks_r[breaks_r < 0] = n_variants - 1"
   ]
  },
  {
   "cell_type": "code",
   "execution_count": 186,
   "metadata": {
    "collapsed": true
   },
   "outputs": [],
   "source": [
    "haps_f = haps.copy(order='F')"
   ]
  },
  {
   "cell_type": "code",
   "execution_count": 188,
   "metadata": {},
   "outputs": [
    {
     "name": "stdout",
     "output_type": "stream",
     "text": [
      "CPU times: user 36.4 s, sys: 220 ms, total: 36.6 s\n",
      "Wall time: 36.4 s\n"
     ]
    }
   ],
   "source": [
    "%%time\n",
    "for i in range(n_haplotypes):\n",
    "    for j in range(i+1, n_haplotypes):\n",
    "        # \"vidx\" = variant index\n",
    "        # TODO randomise break position between informative variants\n",
    "        pair_left_break_vidx = breaks_l[[i, j]].max()\n",
    "        pair_left_break_pos = pos[pair_left_break_vidx]\n",
    "        pair_right_break_vidx = breaks_r[[i, j]].min()\n",
    "        pair_right_break_pos = pos[pair_right_break_vidx]\n",
    "        pair_shared_physical_length = pair_right_break_pos - pair_left_break_pos\n",
    "        pspl[i, j] = pair_shared_physical_length\n",
    "        pspl[j, i] = pair_shared_physical_length\n",
    "        pair_differences = np.count_nonzero(\n",
    "            haps_f[pair_left_break_vidx + 1:pair_right_break_vidx, i] != haps[pair_left_break_vidx + 1:pair_right_break_vidx, j]\n",
    "        )\n",
    "        pdiff[i, j] = pair_differences\n",
    "        pdiff[j, i] = pair_differences"
   ]
  },
  {
   "cell_type": "code",
   "execution_count": 189,
   "metadata": {
    "collapsed": true
   },
   "outputs": [],
   "source": [
    "from scipy.spatial.distance import squareform"
   ]
  },
  {
   "cell_type": "code",
   "execution_count": 190,
   "metadata": {},
   "outputs": [],
   "source": [
    "x = squareform(pspl)\n",
    "y = squareform(pdiff)"
   ]
  },
  {
   "cell_type": "code",
   "execution_count": 219,
   "metadata": {},
   "outputs": [
    {
     "data": {
      "image/png": "[encoded data removed]",
      "text/plain": [
       "<matplotlib.figure.Figure at 0x7f5ce6616f98>"
      ]
     },
     "metadata": {},
     "output_type": "display_data"
    }
   ],
   "source": [
    "fig = plt.figure(figsize=(6, 6), dpi=120)\n",
    "ax = fig.add_subplot(111)\n",
    "ax.plot(x, y, marker=',', color='k', linestyle=' ')\n",
    "ax.set_xlabel('Shared physical length (bp)')\n",
    "ax.set_ylabel('No. differences');"
   ]
  },
  {
   "cell_type": "code",
   "execution_count": 220,
   "metadata": {},
   "outputs": [
    {
     "data": {
      "image/png": "[encoded data removed]",
      "text/plain": [
       "<matplotlib.figure.Figure at 0x7f5ce5aa7a20>"
      ]
     },
     "metadata": {},
     "output_type": "display_data"
    }
   ],
   "source": [
    "fig = plt.figure(figsize=(6, 6), dpi=120)\n",
    "ax = fig.add_subplot(111)\n",
    "ax.plot(x, y, marker=',', linestyle=' ', color='k')\n",
    "ax.set_xlabel('Shared physical length (bp)')\n",
    "ax.set_ylabel('No. differences')\n",
    "ax.set_xscale('log');"
   ]
  },
  {
   "cell_type": "code",
   "execution_count": 195,
   "metadata": {
    "collapsed": true
   },
   "outputs": [],
   "source": [
    "def t_hat(s, d, m=3.5e-9, r=2e-8):\n",
    "    return (1 + s) / (2 * ((d * r) + (d * m)))\n",
    "    "
   ]
  },
  {
   "cell_type": "code",
   "execution_count": 214,
   "metadata": {},
   "outputs": [
    {
     "data": {
      "text/plain": [
       "array([   385.86919235,  37721.63452624,    282.03583999, ...,\n",
       "          287.58892729,     80.55227932,    287.58892729])"
      ]
     },
     "execution_count": 214,
     "metadata": {},
     "output_type": "execute_result"
    }
   ],
   "source": [
    "t = t_hat(y, x)\n",
    "t"
   ]
  },
  {
   "cell_type": "code",
   "execution_count": 225,
   "metadata": {},
   "outputs": [
    {
     "data": {
      "text/plain": [
       "94173.993179112207"
      ]
     },
     "execution_count": 225,
     "metadata": {},
     "output_type": "execute_result"
    }
   ],
   "source": [
    "t.max()"
   ]
  },
  {
   "cell_type": "code",
   "execution_count": 229,
   "metadata": {},
   "outputs": [
    {
     "data": {
      "image/png": "[encoded data removed]",
      "text/plain": [
       "<matplotlib.figure.Figure at 0x7f5cd0139320>"
      ]
     },
     "metadata": {},
     "output_type": "display_data"
    }
   ],
   "source": [
    "fig, ax = plt.subplots(figsize=(7, 4), dpi=120)\n",
    "ax.hist(t, bins=np.logspace(1, 5.5, 50))\n",
    "ax.set_xscale('log')\n",
    "ax.set_xlabel('Age (generations)');"
   ]
  },
  {
   "cell_type": "code",
   "execution_count": 221,
   "metadata": {},
   "outputs": [
    {
     "data": {
      "image/png": "[encoded data removed]",
      "text/plain": [
       "<matplotlib.figure.Figure at 0x7f5cdc08cba8>"
      ]
     },
     "metadata": {},
     "output_type": "display_data"
    }
   ],
   "source": [
    "fig = plt.figure(figsize=(6, 6), dpi=120)\n",
    "ax = fig.add_subplot(111)\n",
    "ax.plot(x, t, marker=',', color='k', linestyle=' ')\n",
    "ax.set_xlabel('Shared physical length (bp)')\n",
    "ax.set_ylabel('Age (generations)');"
   ]
  },
  {
   "cell_type": "code",
   "execution_count": 222,
   "metadata": {},
   "outputs": [
    {
     "data": {
      "image/png": "[encoded data removed]",
      "text/plain": [
       "<matplotlib.figure.Figure at 0x7f5cd1d82a90>"
      ]
     },
     "metadata": {},
     "output_type": "display_data"
    }
   ],
   "source": [
    "fig = plt.figure(figsize=(6, 6), dpi=120)\n",
    "ax = fig.add_subplot(111)\n",
    "ax.plot(x, t, marker=',', color='k', linestyle=' ')\n",
    "ax.set_xlabel('Shared physical length (bp)')\n",
    "ax.set_ylabel('Age (generations)')\n",
    "ax.set_yscale('log');"
   ]
  },
  {
   "cell_type": "code",
   "execution_count": 223,
   "metadata": {},
   "outputs": [
    {
     "data": {
      "image/png": "[encoded data removed]",
      "text/plain": [
       "<matplotlib.figure.Figure at 0x7f5cd008cf28>"
      ]
     },
     "metadata": {},
     "output_type": "display_data"
    }
   ],
   "source": [
    "fig = plt.figure(figsize=(6, 6), dpi=120)\n",
    "ax = fig.add_subplot(111)\n",
    "ax.plot(x, t, marker=',', color='k', linestyle=' ')\n",
    "ax.set_xlabel('Shared physical length (bp)')\n",
    "ax.set_ylabel('Age (generations)')\n",
    "ax.set_yscale('log')\n",
    "ax.set_xscale('log');"
   ]
  },
  {
   "cell_type": "code",
   "execution_count": 196,
   "metadata": {},
   "outputs": [
    {
     "data": {
      "text/plain": [
       "21.27659574468085"
      ]
     },
     "execution_count": 196,
     "metadata": {},
     "output_type": "execute_result"
    }
   ],
   "source": [
    "t_hat(0, 1e6)"
   ]
  },
  {
   "cell_type": "code",
   "execution_count": 198,
   "metadata": {},
   "outputs": [
    {
     "data": {
      "text/plain": [
       "42.5531914893617"
      ]
     },
     "execution_count": 198,
     "metadata": {},
     "output_type": "execute_result"
    }
   ],
   "source": [
    "t_hat(1, 1e6)"
   ]
  },
  {
   "cell_type": "code",
   "execution_count": 199,
   "metadata": {},
   "outputs": [
    {
     "data": {
      "text/plain": [
       "63.829787234042556"
      ]
     },
     "execution_count": 199,
     "metadata": {},
     "output_type": "execute_result"
    }
   ],
   "source": [
    "t_hat(2, 1e6)"
   ]
  },
  {
   "cell_type": "code",
   "execution_count": 202,
   "metadata": {},
   "outputs": [
    {
     "data": {
      "text/plain": [
       "21297.872340425532"
      ]
     },
     "execution_count": 202,
     "metadata": {},
     "output_type": "execute_result"
    }
   ],
   "source": [
    "t_hat(1000, 1e6)"
   ]
  },
  {
   "cell_type": "code",
   "execution_count": 197,
   "metadata": {},
   "outputs": [
    {
     "data": {
      "text/plain": [
       "212.7659574468085"
      ]
     },
     "execution_count": 197,
     "metadata": {},
     "output_type": "execute_result"
    }
   ],
   "source": [
    "t_hat(0, 1e5)"
   ]
  },
  {
   "cell_type": "markdown",
   "metadata": {
    "collapsed": true
   },
   "source": [
    "## Legacy"
   ]
  },
  {
   "cell_type": "code",
   "execution_count": 111,
   "metadata": {
    "collapsed": true
   },
   "outputs": [],
   "source": [
    "# obtain data from unphased callset - only needed for variant annotations\n",
    "callset_pass = phase1_ar31.callset_pass\n",
    "pos_pass = allel.SortedIndex(callset_pass['2L/variants/POS'])\n",
    "ann_pass = callset_pass['2L/variants/ANN'][:][['Annotation', 'HGVS_p']]"
   ]
  },
  {
   "cell_type": "code",
   "execution_count": 112,
   "metadata": {
    "collapsed": true
   },
   "outputs": [],
   "source": [
    "# setup haplotype data\n",
    "callset_phased = phase1_ar31.callset_phased\n",
    "genotypes_phased = allel.GenotypeDaskArray(callset_phased['2L/calldata/genotype'])\n",
    "pos_phased = allel.SortedIndex(callset_phased['2L/variants/POS'])"
   ]
  },
  {
   "cell_type": "code",
   "execution_count": 113,
   "metadata": {
    "collapsed": true
   },
   "outputs": [],
   "source": [
    "pos_kdr_s = 2422651\n",
    "pos_kdr_f = 2422652"
   ]
  },
  {
   "cell_type": "code",
   "execution_count": 114,
   "metadata": {},
   "outputs": [
    {
     "data": {
      "text/html": [
       "<div class=\"allel allel-DisplayAs1D\"><span>&lt;SortedIndex shape=(163963,) dtype=int32&gt;</span><table><thead><tr><th style=\"text-align: center\">0</th><th style=\"text-align: center\">1</th><th style=\"text-align: center\">2</th><th style=\"text-align: center\">3</th><th style=\"text-align: center\">4</th><th style=\"text-align: center\">...</th><th style=\"text-align: center\">163958</th><th style=\"text-align: center\">163959</th><th style=\"text-align: center\">163960</th><th style=\"text-align: center\">163961</th><th style=\"text-align: center\">163962</th></tr></thead><tbody><tr><td style=\"text-align: center\">44688</td><td style=\"text-align: center\">44691</td><td style=\"text-align: center\">44732</td><td style=\"text-align: center\">44736</td><td style=\"text-align: center\">44756</td><td style=\"text-align: center\">...</td><td style=\"text-align: center\">3997372</td><td style=\"text-align: center\">3997373</td><td style=\"text-align: center\">3997378</td><td style=\"text-align: center\">3997381</td><td style=\"text-align: center\">3997386</td></tr></tbody></table></div>"
      ],
      "text/plain": [
       "<SortedIndex shape=(163963,) dtype=int32>\n",
       "[44688, 44691, 44732, 44736, 44756, ..., 3997372, 3997373, 3997378, 3997381, 3997386]"
      ]
     },
     "execution_count": 114,
     "metadata": {},
     "output_type": "execute_result"
    }
   ],
   "source": [
    "# define region we're going to analyse\n",
    "loc_region = pos_phased.locate_range(0, 4000000)\n",
    "pos_phased_region = pos_phased[loc_region]\n",
    "pos_phased_region"
   ]
  },
  {
   "cell_type": "code",
   "execution_count": 115,
   "metadata": {},
   "outputs": [
    {
     "data": {
      "text/plain": [
       "163963"
      ]
     },
     "execution_count": 115,
     "metadata": {},
     "output_type": "execute_result"
    }
   ],
   "source": [
    "# locate the intersection with unphased callset - needed to tie in annotations\n",
    "loc1, _ = pos_pass.locate_intersection(pos_phased_region)\n",
    "np.count_nonzero(loc1)"
   ]
  },
  {
   "cell_type": "code",
   "execution_count": 116,
   "metadata": {},
   "outputs": [
    {
     "data": {
      "text/plain": [
       "Counter({b'3_prime_UTR_variant': 2941,\n",
       "         b'5_prime_UTR_premature_start_codon_': 306,\n",
       "         b'5_prime_UTR_variant': 1677,\n",
       "         b'downstream_gene_variant': 18539,\n",
       "         b'initiator_codon_variant': 3,\n",
       "         b'intergenic_region': 54849,\n",
       "         b'intragenic_variant': 48,\n",
       "         b'intron_variant': 32362,\n",
       "         b'missense_variant': 5805,\n",
       "         b'missense_variant&splice_region_var': 70,\n",
       "         b'splice_acceptor_variant&intron_var': 24,\n",
       "         b'splice_donor_variant&intron_varian': 27,\n",
       "         b'splice_region_variant': 36,\n",
       "         b'splice_region_variant&intron_varia': 649,\n",
       "         b'splice_region_variant&stop_retaine': 5,\n",
       "         b'splice_region_variant&synonymous_v': 87,\n",
       "         b'start_lost': 9,\n",
       "         b'stop_gained': 37,\n",
       "         b'stop_lost&splice_region_variant': 4,\n",
       "         b'stop_retained_variant': 5,\n",
       "         b'synonymous_variant': 8636,\n",
       "         b'upstream_gene_variant': 37844})"
      ]
     },
     "execution_count": 116,
     "metadata": {},
     "output_type": "execute_result"
    }
   ],
   "source": [
    "ann_phased_region = ann_pass[loc1]\n",
    "collections.Counter(ann_phased_region['Annotation'])"
   ]
  },
  {
   "cell_type": "code",
   "execution_count": 117,
   "metadata": {
    "collapsed": true
   },
   "outputs": [],
   "source": [
    "# exclude cross parents\n",
    "haps_phased_region = genotypes_phased[loc_region].to_haplotypes()[:, :-16].compute()"
   ]
  },
  {
   "cell_type": "code",
   "execution_count": 118,
   "metadata": {
    "collapsed": true
   },
   "outputs": [],
   "source": [
    "# perform allele count - needed to locate singletons\n",
    "ac_phased_region = haps_phased_region.count_alleles(max_allele=1)"
   ]
  },
  {
   "cell_type": "code",
   "execution_count": 119,
   "metadata": {},
   "outputs": [
    {
     "data": {
      "text/plain": [
       "(156848, (163963,))"
      ]
     },
     "execution_count": 119,
     "metadata": {},
     "output_type": "execute_result"
    }
   ],
   "source": [
    "# define types of variants to include in EHH analysis - should be mostly neutral\n",
    "loc_type_neutral = ((ann_phased_region['Annotation'] == b'intergenic_region') | \n",
    "                    (ann_phased_region['Annotation'] == b'intron_variant') |\n",
    "                    (ann_phased_region['Annotation'] == b'downstream_gene_variant') |\n",
    "                    (ann_phased_region['Annotation'] == b'upstream_gene_variant') |\n",
    "                    (ann_phased_region['Annotation'] == b'synonymous_variant') |\n",
    "                    (ann_phased_region['Annotation'] == b'3_prime_UTR_variant') |\n",
    "                    (ann_phased_region['Annotation'] == b'5_prime_UTR_variant') \n",
    "                    )\n",
    "np.count_nonzero(loc_type_neutral), loc_type_neutral.shape"
   ]
  },
  {
   "cell_type": "code",
   "execution_count": 120,
   "metadata": {
    "collapsed": true
   },
   "outputs": [],
   "source": [
    "haps_neutral = haps_phased_region[loc_type_neutral]\n",
    "pos_neutral = pos_phased_region[loc_type_neutral]"
   ]
  },
  {
   "cell_type": "code",
   "execution_count": 121,
   "metadata": {},
   "outputs": [
    {
     "data": {
      "text/html": [
       "<div>\n",
       "<style>\n",
       "    .dataframe thead tr:only-child th {\n",
       "        text-align: right;\n",
       "    }\n",
       "\n",
       "    .dataframe thead th {\n",
       "        text-align: left;\n",
       "    }\n",
       "\n",
       "    .dataframe tbody tr th {\n",
       "        vertical-align: top;\n",
       "    }\n",
       "</style>\n",
       "<table border=\"1\" class=\"dataframe\">\n",
       "  <thead>\n",
       "    <tr style=\"text-align: right;\">\n",
       "      <th></th>\n",
       "      <th>label</th>\n",
       "      <th>ox_code</th>\n",
       "      <th>population</th>\n",
       "      <th>label_aug</th>\n",
       "      <th>country</th>\n",
       "      <th>region</th>\n",
       "      <th>sex</th>\n",
       "      <th>m_s</th>\n",
       "      <th>kt_2la</th>\n",
       "      <th>kt_2rb</th>\n",
       "    </tr>\n",
       "    <tr>\n",
       "      <th>index</th>\n",
       "      <th></th>\n",
       "      <th></th>\n",
       "      <th></th>\n",
       "      <th></th>\n",
       "      <th></th>\n",
       "      <th></th>\n",
       "      <th></th>\n",
       "      <th></th>\n",
       "      <th></th>\n",
       "      <th></th>\n",
       "    </tr>\n",
       "  </thead>\n",
       "  <tbody>\n",
       "    <tr>\n",
       "      <th>0</th>\n",
       "      <td>AB0085-Ca</td>\n",
       "      <td>AB0085-C</td>\n",
       "      <td>BFS</td>\n",
       "      <td>AB0085-Ca [Burkina Faso, Pala, S, F]</td>\n",
       "      <td>Burkina Faso</td>\n",
       "      <td>Pala</td>\n",
       "      <td>F</td>\n",
       "      <td>S</td>\n",
       "      <td>2.0</td>\n",
       "      <td>2.0</td>\n",
       "    </tr>\n",
       "    <tr>\n",
       "      <th>1</th>\n",
       "      <td>AB0085-Cb</td>\n",
       "      <td>AB0085-C</td>\n",
       "      <td>BFS</td>\n",
       "      <td>AB0085-Cb [Burkina Faso, Pala, S, F]</td>\n",
       "      <td>Burkina Faso</td>\n",
       "      <td>Pala</td>\n",
       "      <td>F</td>\n",
       "      <td>S</td>\n",
       "      <td>2.0</td>\n",
       "      <td>2.0</td>\n",
       "    </tr>\n",
       "    <tr>\n",
       "      <th>2</th>\n",
       "      <td>AB0087-Ca</td>\n",
       "      <td>AB0087-C</td>\n",
       "      <td>BFM</td>\n",
       "      <td>AB0087-Ca [Burkina Faso, Bana, M, F]</td>\n",
       "      <td>Burkina Faso</td>\n",
       "      <td>Bana</td>\n",
       "      <td>F</td>\n",
       "      <td>M</td>\n",
       "      <td>2.0</td>\n",
       "      <td>1.0</td>\n",
       "    </tr>\n",
       "    <tr>\n",
       "      <th>3</th>\n",
       "      <td>AB0087-Cb</td>\n",
       "      <td>AB0087-C</td>\n",
       "      <td>BFM</td>\n",
       "      <td>AB0087-Cb [Burkina Faso, Bana, M, F]</td>\n",
       "      <td>Burkina Faso</td>\n",
       "      <td>Bana</td>\n",
       "      <td>F</td>\n",
       "      <td>M</td>\n",
       "      <td>2.0</td>\n",
       "      <td>1.0</td>\n",
       "    </tr>\n",
       "    <tr>\n",
       "      <th>4</th>\n",
       "      <td>AB0088-Ca</td>\n",
       "      <td>AB0088-C</td>\n",
       "      <td>BFM</td>\n",
       "      <td>AB0088-Ca [Burkina Faso, Bana, M, F]</td>\n",
       "      <td>Burkina Faso</td>\n",
       "      <td>Bana</td>\n",
       "      <td>F</td>\n",
       "      <td>M</td>\n",
       "      <td>2.0</td>\n",
       "      <td>0.0</td>\n",
       "    </tr>\n",
       "  </tbody>\n",
       "</table>\n",
       "</div>"
      ],
      "text/plain": [
       "           label   ox_code population                             label_aug  \\\n",
       "index                                                                         \n",
       "0      AB0085-Ca  AB0085-C        BFS  AB0085-Ca [Burkina Faso, Pala, S, F]   \n",
       "1      AB0085-Cb  AB0085-C        BFS  AB0085-Cb [Burkina Faso, Pala, S, F]   \n",
       "2      AB0087-Ca  AB0087-C        BFM  AB0087-Ca [Burkina Faso, Bana, M, F]   \n",
       "3      AB0087-Cb  AB0087-C        BFM  AB0087-Cb [Burkina Faso, Bana, M, F]   \n",
       "4      AB0088-Ca  AB0088-C        BFM  AB0088-Ca [Burkina Faso, Bana, M, F]   \n",
       "\n",
       "            country region sex m_s  kt_2la  kt_2rb  \n",
       "index                                               \n",
       "0      Burkina Faso   Pala   F   S     2.0     2.0  \n",
       "1      Burkina Faso   Pala   F   S     2.0     2.0  \n",
       "2      Burkina Faso   Bana   F   M     2.0     1.0  \n",
       "3      Burkina Faso   Bana   F   M     2.0     1.0  \n",
       "4      Burkina Faso   Bana   F   M     2.0     0.0  "
      ]
     },
     "execution_count": 121,
     "metadata": {},
     "output_type": "execute_result"
    }
   ],
   "source": [
    "# read in haplotype metadata to get population\n",
    "df_haplotypes = phase1_ar31.df_haplotypes\n",
    "df_haplotypes = df_haplotypes[df_haplotypes.population != 'colony']\n",
    "df_haplotypes.head()"
   ]
  },
  {
   "cell_type": "code",
   "execution_count": 122,
   "metadata": {
    "collapsed": true
   },
   "outputs": [],
   "source": [
    "core_pos = pos_kdr_f"
   ]
  },
  {
   "cell_type": "code",
   "execution_count": 15,
   "metadata": {
    "collapsed": true
   },
   "outputs": [],
   "source": [
    "# split the dataset into flanks\n",
    "dist_right, dist_left, haps_right, haps_left = hapclust.split_flanks(\n",
    "    haps_phased_region, pos_phased_region, core_pos\n",
    ")"
   ]
  },
  {
   "cell_type": "code",
   "execution_count": 16,
   "metadata": {
    "collapsed": true
   },
   "outputs": [],
   "source": [
    "# split the dataset (neutral variants only) into flanks\n",
    "dist_neutral_right, dist_neutral_left, haps_neutral_right, haps_neutral_left = hapclust.split_flanks(\n",
    "    haps_neutral, pos_neutral, core_pos\n",
    ")"
   ]
  },
  {
   "cell_type": "code",
   "execution_count": 17,
   "metadata": {},
   "outputs": [
    {
     "data": {
      "text/html": [
       "<div class=\"allel allel-DisplayAs2D\"><span>&lt;HaplotypeArray shape=(137962, 1530) dtype=int8&gt;</span><table><thead><tr><th></th><th style=\"text-align: center\">0</th><th style=\"text-align: center\">1</th><th style=\"text-align: center\">2</th><th style=\"text-align: center\">3</th><th style=\"text-align: center\">4</th><th style=\"text-align: center\">...</th><th style=\"text-align: center\">1525</th><th style=\"text-align: center\">1526</th><th style=\"text-align: center\">1527</th><th style=\"text-align: center\">1528</th><th style=\"text-align: center\">1529</th></tr></thead><tbody><tr><th style=\"text-align: center; background-color: white; border-right: 1px solid black; \">0</th><td style=\"text-align: center\">1</td><td style=\"text-align: center\">1</td><td style=\"text-align: center\">0</td><td style=\"text-align: center\">1</td><td style=\"text-align: center\">1</td><td style=\"text-align: center\">...</td><td style=\"text-align: center\">1</td><td style=\"text-align: center\">1</td><td style=\"text-align: center\">1</td><td style=\"text-align: center\">1</td><td style=\"text-align: center\">1</td></tr><tr><th style=\"text-align: center; background-color: white; border-right: 1px solid black; \">1</th><td style=\"text-align: center\">0</td><td style=\"text-align: center\">0</td><td style=\"text-align: center\">0</td><td style=\"text-align: center\">0</td><td style=\"text-align: center\">0</td><td style=\"text-align: center\">...</td><td style=\"text-align: center\">0</td><td style=\"text-align: center\">0</td><td style=\"text-align: center\">0</td><td style=\"text-align: center\">0</td><td style=\"text-align: center\">0</td></tr><tr><th style=\"text-align: center; background-color: white; border-right: 1px solid black; \">2</th><td style=\"text-align: center\">0</td><td style=\"text-align: center\">0</td><td style=\"text-align: center\">0</td><td style=\"text-align: center\">0</td><td style=\"text-align: center\">0</td><td style=\"text-align: center\">...</td><td style=\"text-align: center\">0</td><td style=\"text-align: center\">0</td><td style=\"text-align: center\">0</td><td style=\"text-align: center\">0</td><td style=\"text-align: center\">0</td></tr><tr><th style=\"text-align: center; background-color: white; border-right: 1px solid black; \">...</th><td style=\"text-align: center\" colspan=\"12\">...</td></tr><tr><th style=\"text-align: center; background-color: white; border-right: 1px solid black; \">137959</th><td style=\"text-align: center\">0</td><td style=\"text-align: center\">0</td><td style=\"text-align: center\">0</td><td style=\"text-align: center\">0</td><td style=\"text-align: center\">0</td><td style=\"text-align: center\">...</td><td style=\"text-align: center\">0</td><td style=\"text-align: center\">0</td><td style=\"text-align: center\">0</td><td style=\"text-align: center\">0</td><td style=\"text-align: center\">0</td></tr><tr><th style=\"text-align: center; background-color: white; border-right: 1px solid black; \">137960</th><td style=\"text-align: center\">0</td><td style=\"text-align: center\">0</td><td style=\"text-align: center\">0</td><td style=\"text-align: center\">0</td><td style=\"text-align: center\">0</td><td style=\"text-align: center\">...</td><td style=\"text-align: center\">0</td><td style=\"text-align: center\">0</td><td style=\"text-align: center\">0</td><td style=\"text-align: center\">0</td><td style=\"text-align: center\">0</td></tr><tr><th style=\"text-align: center; background-color: white; border-right: 1px solid black; \">137961</th><td style=\"text-align: center\">0</td><td style=\"text-align: center\">0</td><td style=\"text-align: center\">0</td><td style=\"text-align: center\">0</td><td style=\"text-align: center\">0</td><td style=\"text-align: center\">...</td><td style=\"text-align: center\">0</td><td style=\"text-align: center\">0</td><td style=\"text-align: center\">0</td><td style=\"text-align: center\">0</td><td style=\"text-align: center\">0</td></tr></tbody></table></div>"
      ],
      "text/plain": [
       "<HaplotypeArray shape=(137962, 1530) dtype=int8>\n",
       "1 1 0 1 1 ... 1 1 1 1 1\n",
       "0 0 0 0 0 ... 0 0 0 0 0\n",
       "0 0 0 0 0 ... 0 0 0 0 0\n",
       "...\n",
       "0 0 0 0 0 ... 0 0 0 0 0\n",
       "0 0 0 0 0 ... 0 0 0 0 0\n",
       "0 0 0 0 0 ... 0 0 0 0 0"
      ]
     },
     "execution_count": 17,
     "metadata": {},
     "output_type": "execute_result"
    }
   ],
   "source": [
    "haps_right"
   ]
  },
  {
   "cell_type": "code",
   "execution_count": 18,
   "metadata": {},
   "outputs": [
    {
     "data": {
      "text/html": [
       "<div class=\"allel allel-DisplayAs2D\"><span>&lt;HaplotypeArray shape=(131569, 1530) dtype=int8&gt;</span><table><thead><tr><th></th><th style=\"text-align: center\">0</th><th style=\"text-align: center\">1</th><th style=\"text-align: center\">2</th><th style=\"text-align: center\">3</th><th style=\"text-align: center\">4</th><th style=\"text-align: center\">...</th><th style=\"text-align: center\">1525</th><th style=\"text-align: center\">1526</th><th style=\"text-align: center\">1527</th><th style=\"text-align: center\">1528</th><th style=\"text-align: center\">1529</th></tr></thead><tbody><tr><th style=\"text-align: center; background-color: white; border-right: 1px solid black; \">0</th><td style=\"text-align: center\">0</td><td style=\"text-align: center\">0</td><td style=\"text-align: center\">0</td><td style=\"text-align: center\">0</td><td style=\"text-align: center\">0</td><td style=\"text-align: center\">...</td><td style=\"text-align: center\">0</td><td style=\"text-align: center\">0</td><td style=\"text-align: center\">0</td><td style=\"text-align: center\">0</td><td style=\"text-align: center\">0</td></tr><tr><th style=\"text-align: center; background-color: white; border-right: 1px solid black; \">1</th><td style=\"text-align: center\">0</td><td style=\"text-align: center\">0</td><td style=\"text-align: center\">0</td><td style=\"text-align: center\">0</td><td style=\"text-align: center\">0</td><td style=\"text-align: center\">...</td><td style=\"text-align: center\">0</td><td style=\"text-align: center\">0</td><td style=\"text-align: center\">0</td><td style=\"text-align: center\">0</td><td style=\"text-align: center\">0</td></tr><tr><th style=\"text-align: center; background-color: white; border-right: 1px solid black; \">2</th><td style=\"text-align: center\">0</td><td style=\"text-align: center\">0</td><td style=\"text-align: center\">0</td><td style=\"text-align: center\">0</td><td style=\"text-align: center\">0</td><td style=\"text-align: center\">...</td><td style=\"text-align: center\">0</td><td style=\"text-align: center\">0</td><td style=\"text-align: center\">0</td><td style=\"text-align: center\">0</td><td style=\"text-align: center\">0</td></tr><tr><th style=\"text-align: center; background-color: white; border-right: 1px solid black; \">...</th><td style=\"text-align: center\" colspan=\"12\">...</td></tr><tr><th style=\"text-align: center; background-color: white; border-right: 1px solid black; \">131566</th><td style=\"text-align: center\">0</td><td style=\"text-align: center\">0</td><td style=\"text-align: center\">0</td><td style=\"text-align: center\">0</td><td style=\"text-align: center\">0</td><td style=\"text-align: center\">...</td><td style=\"text-align: center\">0</td><td style=\"text-align: center\">0</td><td style=\"text-align: center\">0</td><td style=\"text-align: center\">0</td><td style=\"text-align: center\">0</td></tr><tr><th style=\"text-align: center; background-color: white; border-right: 1px solid black; \">131567</th><td style=\"text-align: center\">0</td><td style=\"text-align: center\">0</td><td style=\"text-align: center\">0</td><td style=\"text-align: center\">0</td><td style=\"text-align: center\">0</td><td style=\"text-align: center\">...</td><td style=\"text-align: center\">0</td><td style=\"text-align: center\">0</td><td style=\"text-align: center\">0</td><td style=\"text-align: center\">0</td><td style=\"text-align: center\">0</td></tr><tr><th style=\"text-align: center; background-color: white; border-right: 1px solid black; \">131568</th><td style=\"text-align: center\">0</td><td style=\"text-align: center\">0</td><td style=\"text-align: center\">0</td><td style=\"text-align: center\">0</td><td style=\"text-align: center\">0</td><td style=\"text-align: center\">...</td><td style=\"text-align: center\">0</td><td style=\"text-align: center\">0</td><td style=\"text-align: center\">0</td><td style=\"text-align: center\">0</td><td style=\"text-align: center\">0</td></tr></tbody></table></div>"
      ],
      "text/plain": [
       "<HaplotypeArray shape=(131569, 1530) dtype=int8>\n",
       "0 0 0 0 0 ... 0 0 0 0 0\n",
       "0 0 0 0 0 ... 0 0 0 0 0\n",
       "0 0 0 0 0 ... 0 0 0 0 0\n",
       "...\n",
       "0 0 0 0 0 ... 0 0 0 0 0\n",
       "0 0 0 0 0 ... 0 0 0 0 0\n",
       "0 0 0 0 0 ... 0 0 0 0 0"
      ]
     },
     "execution_count": 18,
     "metadata": {},
     "output_type": "execute_result"
    }
   ],
   "source": [
    "haps_neutral_right"
   ]
  },
  {
   "cell_type": "code",
   "execution_count": 19,
   "metadata": {},
   "outputs": [
    {
     "data": {
      "text/html": [
       "<div class=\"allel allel-DisplayAs2D\"><span>&lt;HaplotypeArray shape=(26001, 1530) dtype=int8&gt;</span><table><thead><tr><th></th><th style=\"text-align: center\">0</th><th style=\"text-align: center\">1</th><th style=\"text-align: center\">2</th><th style=\"text-align: center\">3</th><th style=\"text-align: center\">4</th><th style=\"text-align: center\">...</th><th style=\"text-align: center\">1525</th><th style=\"text-align: center\">1526</th><th style=\"text-align: center\">1527</th><th style=\"text-align: center\">1528</th><th style=\"text-align: center\">1529</th></tr></thead><tbody><tr><th style=\"text-align: center; background-color: white; border-right: 1px solid black; \">0</th><td style=\"text-align: center\">0</td><td style=\"text-align: center\">0</td><td style=\"text-align: center\">0</td><td style=\"text-align: center\">0</td><td style=\"text-align: center\">0</td><td style=\"text-align: center\">...</td><td style=\"text-align: center\">0</td><td style=\"text-align: center\">0</td><td style=\"text-align: center\">0</td><td style=\"text-align: center\">0</td><td style=\"text-align: center\">0</td></tr><tr><th style=\"text-align: center; background-color: white; border-right: 1px solid black; \">1</th><td style=\"text-align: center\">0</td><td style=\"text-align: center\">0</td><td style=\"text-align: center\">0</td><td style=\"text-align: center\">0</td><td style=\"text-align: center\">0</td><td style=\"text-align: center\">...</td><td style=\"text-align: center\">0</td><td style=\"text-align: center\">0</td><td style=\"text-align: center\">0</td><td style=\"text-align: center\">0</td><td style=\"text-align: center\">0</td></tr><tr><th style=\"text-align: center; background-color: white; border-right: 1px solid black; \">2</th><td style=\"text-align: center\">0</td><td style=\"text-align: center\">0</td><td style=\"text-align: center\">0</td><td style=\"text-align: center\">0</td><td style=\"text-align: center\">0</td><td style=\"text-align: center\">...</td><td style=\"text-align: center\">0</td><td style=\"text-align: center\">0</td><td style=\"text-align: center\">0</td><td style=\"text-align: center\">0</td><td style=\"text-align: center\">0</td></tr><tr><th style=\"text-align: center; background-color: white; border-right: 1px solid black; \">...</th><td style=\"text-align: center\" colspan=\"12\">...</td></tr><tr><th style=\"text-align: center; background-color: white; border-right: 1px solid black; \">25998</th><td style=\"text-align: center\">0</td><td style=\"text-align: center\">0</td><td style=\"text-align: center\">0</td><td style=\"text-align: center\">0</td><td style=\"text-align: center\">0</td><td style=\"text-align: center\">...</td><td style=\"text-align: center\">0</td><td style=\"text-align: center\">0</td><td style=\"text-align: center\">0</td><td style=\"text-align: center\">0</td><td style=\"text-align: center\">0</td></tr><tr><th style=\"text-align: center; background-color: white; border-right: 1px solid black; \">25999</th><td style=\"text-align: center\">0</td><td style=\"text-align: center\">0</td><td style=\"text-align: center\">0</td><td style=\"text-align: center\">0</td><td style=\"text-align: center\">0</td><td style=\"text-align: center\">...</td><td style=\"text-align: center\">0</td><td style=\"text-align: center\">0</td><td style=\"text-align: center\">0</td><td style=\"text-align: center\">0</td><td style=\"text-align: center\">0</td></tr><tr><th style=\"text-align: center; background-color: white; border-right: 1px solid black; \">26000</th><td style=\"text-align: center\">0</td><td style=\"text-align: center\">0</td><td style=\"text-align: center\">0</td><td style=\"text-align: center\">0</td><td style=\"text-align: center\">0</td><td style=\"text-align: center\">...</td><td style=\"text-align: center\">0</td><td style=\"text-align: center\">0</td><td style=\"text-align: center\">0</td><td style=\"text-align: center\">0</td><td style=\"text-align: center\">0</td></tr></tbody></table></div>"
      ],
      "text/plain": [
       "<HaplotypeArray shape=(26001, 1530) dtype=int8>\n",
       "0 0 0 0 0 ... 0 0 0 0 0\n",
       "0 0 0 0 0 ... 0 0 0 0 0\n",
       "0 0 0 0 0 ... 0 0 0 0 0\n",
       "...\n",
       "0 0 0 0 0 ... 0 0 0 0 0\n",
       "0 0 0 0 0 ... 0 0 0 0 0\n",
       "0 0 0 0 0 ... 0 0 0 0 0"
      ]
     },
     "execution_count": 19,
     "metadata": {},
     "output_type": "execute_result"
    }
   ],
   "source": [
    "haps_left"
   ]
  },
  {
   "cell_type": "code",
   "execution_count": 20,
   "metadata": {},
   "outputs": [
    {
     "data": {
      "text/html": [
       "<div class=\"allel allel-DisplayAs2D\"><span>&lt;HaplotypeArray shape=(25279, 1530) dtype=int8&gt;</span><table><thead><tr><th></th><th style=\"text-align: center\">0</th><th style=\"text-align: center\">1</th><th style=\"text-align: center\">2</th><th style=\"text-align: center\">3</th><th style=\"text-align: center\">4</th><th style=\"text-align: center\">...</th><th style=\"text-align: center\">1525</th><th style=\"text-align: center\">1526</th><th style=\"text-align: center\">1527</th><th style=\"text-align: center\">1528</th><th style=\"text-align: center\">1529</th></tr></thead><tbody><tr><th style=\"text-align: center; background-color: white; border-right: 1px solid black; \">0</th><td style=\"text-align: center\">0</td><td style=\"text-align: center\">0</td><td style=\"text-align: center\">0</td><td style=\"text-align: center\">0</td><td style=\"text-align: center\">0</td><td style=\"text-align: center\">...</td><td style=\"text-align: center\">0</td><td style=\"text-align: center\">0</td><td style=\"text-align: center\">0</td><td style=\"text-align: center\">0</td><td style=\"text-align: center\">0</td></tr><tr><th style=\"text-align: center; background-color: white; border-right: 1px solid black; \">1</th><td style=\"text-align: center\">0</td><td style=\"text-align: center\">0</td><td style=\"text-align: center\">0</td><td style=\"text-align: center\">0</td><td style=\"text-align: center\">0</td><td style=\"text-align: center\">...</td><td style=\"text-align: center\">0</td><td style=\"text-align: center\">0</td><td style=\"text-align: center\">0</td><td style=\"text-align: center\">0</td><td style=\"text-align: center\">0</td></tr><tr><th style=\"text-align: center; background-color: white; border-right: 1px solid black; \">2</th><td style=\"text-align: center\">0</td><td style=\"text-align: center\">0</td><td style=\"text-align: center\">0</td><td style=\"text-align: center\">0</td><td style=\"text-align: center\">0</td><td style=\"text-align: center\">...</td><td style=\"text-align: center\">0</td><td style=\"text-align: center\">0</td><td style=\"text-align: center\">0</td><td style=\"text-align: center\">0</td><td style=\"text-align: center\">0</td></tr><tr><th style=\"text-align: center; background-color: white; border-right: 1px solid black; \">...</th><td style=\"text-align: center\" colspan=\"12\">...</td></tr><tr><th style=\"text-align: center; background-color: white; border-right: 1px solid black; \">25276</th><td style=\"text-align: center\">0</td><td style=\"text-align: center\">0</td><td style=\"text-align: center\">0</td><td style=\"text-align: center\">0</td><td style=\"text-align: center\">0</td><td style=\"text-align: center\">...</td><td style=\"text-align: center\">0</td><td style=\"text-align: center\">0</td><td style=\"text-align: center\">0</td><td style=\"text-align: center\">0</td><td style=\"text-align: center\">0</td></tr><tr><th style=\"text-align: center; background-color: white; border-right: 1px solid black; \">25277</th><td style=\"text-align: center\">0</td><td style=\"text-align: center\">0</td><td style=\"text-align: center\">0</td><td style=\"text-align: center\">0</td><td style=\"text-align: center\">0</td><td style=\"text-align: center\">...</td><td style=\"text-align: center\">0</td><td style=\"text-align: center\">0</td><td style=\"text-align: center\">0</td><td style=\"text-align: center\">0</td><td style=\"text-align: center\">0</td></tr><tr><th style=\"text-align: center; background-color: white; border-right: 1px solid black; \">25278</th><td style=\"text-align: center\">0</td><td style=\"text-align: center\">0</td><td style=\"text-align: center\">0</td><td style=\"text-align: center\">0</td><td style=\"text-align: center\">0</td><td style=\"text-align: center\">...</td><td style=\"text-align: center\">0</td><td style=\"text-align: center\">0</td><td style=\"text-align: center\">0</td><td style=\"text-align: center\">0</td><td style=\"text-align: center\">0</td></tr></tbody></table></div>"
      ],
      "text/plain": [
       "<HaplotypeArray shape=(25279, 1530) dtype=int8>\n",
       "0 0 0 0 0 ... 0 0 0 0 0\n",
       "0 0 0 0 0 ... 0 0 0 0 0\n",
       "0 0 0 0 0 ... 0 0 0 0 0\n",
       "...\n",
       "0 0 0 0 0 ... 0 0 0 0 0\n",
       "0 0 0 0 0 ... 0 0 0 0 0\n",
       "0 0 0 0 0 ... 0 0 0 0 0"
      ]
     },
     "execution_count": 20,
     "metadata": {},
     "output_type": "execute_result"
    }
   ],
   "source": [
    "haps_neutral_left"
   ]
  },
  {
   "cell_type": "code",
   "execution_count": 21,
   "metadata": {
    "collapsed": true
   },
   "outputs": [],
   "source": [
    "def hl(n, randomize=True, seed=None):\n",
    "\n",
    "    breaks = hapclust.locate_breakpoints_by_4gametes(hs[:, :n], randomize=randomize, seed=seed)\n",
    "    print(breaks)\n",
    "\n",
    "    # fix non-breaks\n",
    "    breaks[breaks == hs.shape[0]] = hs.shape[0] - 1\n",
    "\n",
    "    # compute pairwise shared length\n",
    "    psl = np.zeros((n, n))\n",
    "    \n",
    "    breaks_pdist = np.zeros((n, n), dtype=int)\n",
    "    for i, j in itertools.combinations(range(n), 2):\n",
    "        d = min(breaks_dist[[i, j]])\n",
    "        breaks_pdist[i, j] = d\n",
    "        breaks_pdist[j, i] = d\n",
    "\n",
    "    breaks_pdist_cond = scipy.spatial.distance.squareform(breaks_pdist)\n",
    "\n",
    "    return breaks_pdist_cond\n"
   ]
  },
  {
   "cell_type": "markdown",
   "metadata": {},
   "source": [
    "## Legacy"
   ]
  },
  {
   "cell_type": "code",
   "execution_count": 1,
   "metadata": {},
   "outputs": [
    {
     "data": {
      "text/html": [
       "<style type=\"text/css\">\n",
       ".container {\n",
       "    width: 100%;\n",
       "}\n",
       "div#notebook {\n",
       "    padding-top: 1em;\n",
       "}\n",
       "#header-container {\n",
       "    display: none;\n",
       "}\n",
       "#header-bar {\n",
       "    display: none;\n",
       "}\n",
       "#maintoolbar {\n",
       "    display: none;\n",
       "}\n",
       "#menubar-container {\n",
       "    position: fixed;\n",
       "    margin-top: 0;\n",
       "}\n",
       "#site {\n",
       "    height: auto !important;\n",
       "}\n",
       "</style>"
      ],
      "text/plain": [
       "<IPython.core.display.HTML object>"
      ]
     },
     "metadata": {},
     "output_type": "display_data"
    }
   ],
   "source": [
    "%run setup.ipynb\n",
    "\n",
    "%matplotlib notebook\n",
    "%reload_ext autoreload\n",
    "%autoreload 1\n",
    "%aimport hapclust\n",
    "# import hapclust"
   ]
  },
  {
   "cell_type": "code",
   "execution_count": 2,
   "metadata": {
    "collapsed": true
   },
   "outputs": [],
   "source": [
    "callset_phased = phase1_ar31.callset_phased\n",
    "genotypes_phased = allel.GenotypeDaskArray(callset_phased['2L/calldata/genotype'])\n",
    "pos_phased = allel.SortedIndex(callset_phased['2L/variants/POS'])"
   ]
  },
  {
   "cell_type": "code",
   "execution_count": 3,
   "metadata": {
    "collapsed": true
   },
   "outputs": [],
   "source": [
    "pos_kdr_s = 2422651\n",
    "pos_kdr_f = 2422652"
   ]
  },
  {
   "cell_type": "code",
   "execution_count": 4,
   "metadata": {},
   "outputs": [
    {
     "data": {
      "text/html": [
       "<div class=\"allel allel-DisplayAs1D\"><span>&lt;SortedIndex shape=(163963,) dtype=int32&gt;</span><table><thead><tr><th style=\"text-align: center\">0</th><th style=\"text-align: center\">1</th><th style=\"text-align: center\">2</th><th style=\"text-align: center\">3</th><th style=\"text-align: center\">4</th><th style=\"text-align: center\">...</th><th style=\"text-align: center\">163958</th><th style=\"text-align: center\">163959</th><th style=\"text-align: center\">163960</th><th style=\"text-align: center\">163961</th><th style=\"text-align: center\">163962</th></tr></thead><tbody><tr><td style=\"text-align: center\">44688</td><td style=\"text-align: center\">44691</td><td style=\"text-align: center\">44732</td><td style=\"text-align: center\">44736</td><td style=\"text-align: center\">44756</td><td style=\"text-align: center\">...</td><td style=\"text-align: center\">3997372</td><td style=\"text-align: center\">3997373</td><td style=\"text-align: center\">3997378</td><td style=\"text-align: center\">3997381</td><td style=\"text-align: center\">3997386</td></tr></tbody></table></div>"
      ],
      "text/plain": [
       "<SortedIndex shape=(163963,) dtype=int32>\n",
       "[44688, 44691, 44732, 44736, 44756, ..., 3997372, 3997373, 3997378, 3997381, 3997386]"
      ]
     },
     "execution_count": 4,
     "metadata": {},
     "output_type": "execute_result"
    }
   ],
   "source": [
    "# define region we're going to analyse\n",
    "loc_region = pos_phased.locate_range(0, 4000000)\n",
    "pos_phased_region = pos_phased[loc_region]\n",
    "pos_phased_region"
   ]
  },
  {
   "cell_type": "code",
   "execution_count": 5,
   "metadata": {},
   "outputs": [
    {
     "data": {
      "text/html": [
       "<div>\n",
       "<style>\n",
       "    .dataframe thead tr:only-child th {\n",
       "        text-align: right;\n",
       "    }\n",
       "\n",
       "    .dataframe thead th {\n",
       "        text-align: left;\n",
       "    }\n",
       "\n",
       "    .dataframe tbody tr th {\n",
       "        vertical-align: top;\n",
       "    }\n",
       "</style>\n",
       "<table border=\"1\" class=\"dataframe\">\n",
       "  <thead>\n",
       "    <tr style=\"text-align: right;\">\n",
       "      <th></th>\n",
       "      <th>label</th>\n",
       "      <th>ox_code</th>\n",
       "      <th>population</th>\n",
       "      <th>label_aug</th>\n",
       "      <th>country</th>\n",
       "      <th>region</th>\n",
       "      <th>sex</th>\n",
       "      <th>m_s</th>\n",
       "      <th>kt_2la</th>\n",
       "      <th>kt_2rb</th>\n",
       "    </tr>\n",
       "    <tr>\n",
       "      <th>index</th>\n",
       "      <th></th>\n",
       "      <th></th>\n",
       "      <th></th>\n",
       "      <th></th>\n",
       "      <th></th>\n",
       "      <th></th>\n",
       "      <th></th>\n",
       "      <th></th>\n",
       "      <th></th>\n",
       "      <th></th>\n",
       "    </tr>\n",
       "  </thead>\n",
       "  <tbody>\n",
       "    <tr>\n",
       "      <th>0</th>\n",
       "      <td>AB0085-Ca</td>\n",
       "      <td>AB0085-C</td>\n",
       "      <td>BFS</td>\n",
       "      <td>AB0085-Ca [Burkina Faso, Pala, S, F]</td>\n",
       "      <td>Burkina Faso</td>\n",
       "      <td>Pala</td>\n",
       "      <td>F</td>\n",
       "      <td>S</td>\n",
       "      <td>2.0</td>\n",
       "      <td>2.0</td>\n",
       "    </tr>\n",
       "    <tr>\n",
       "      <th>1</th>\n",
       "      <td>AB0085-Cb</td>\n",
       "      <td>AB0085-C</td>\n",
       "      <td>BFS</td>\n",
       "      <td>AB0085-Cb [Burkina Faso, Pala, S, F]</td>\n",
       "      <td>Burkina Faso</td>\n",
       "      <td>Pala</td>\n",
       "      <td>F</td>\n",
       "      <td>S</td>\n",
       "      <td>2.0</td>\n",
       "      <td>2.0</td>\n",
       "    </tr>\n",
       "    <tr>\n",
       "      <th>2</th>\n",
       "      <td>AB0087-Ca</td>\n",
       "      <td>AB0087-C</td>\n",
       "      <td>BFM</td>\n",
       "      <td>AB0087-Ca [Burkina Faso, Bana, M, F]</td>\n",
       "      <td>Burkina Faso</td>\n",
       "      <td>Bana</td>\n",
       "      <td>F</td>\n",
       "      <td>M</td>\n",
       "      <td>2.0</td>\n",
       "      <td>1.0</td>\n",
       "    </tr>\n",
       "    <tr>\n",
       "      <th>3</th>\n",
       "      <td>AB0087-Cb</td>\n",
       "      <td>AB0087-C</td>\n",
       "      <td>BFM</td>\n",
       "      <td>AB0087-Cb [Burkina Faso, Bana, M, F]</td>\n",
       "      <td>Burkina Faso</td>\n",
       "      <td>Bana</td>\n",
       "      <td>F</td>\n",
       "      <td>M</td>\n",
       "      <td>2.0</td>\n",
       "      <td>1.0</td>\n",
       "    </tr>\n",
       "    <tr>\n",
       "      <th>4</th>\n",
       "      <td>AB0088-Ca</td>\n",
       "      <td>AB0088-C</td>\n",
       "      <td>BFM</td>\n",
       "      <td>AB0088-Ca [Burkina Faso, Bana, M, F]</td>\n",
       "      <td>Burkina Faso</td>\n",
       "      <td>Bana</td>\n",
       "      <td>F</td>\n",
       "      <td>M</td>\n",
       "      <td>2.0</td>\n",
       "      <td>0.0</td>\n",
       "    </tr>\n",
       "  </tbody>\n",
       "</table>\n",
       "</div>"
      ],
      "text/plain": [
       "           label   ox_code population                             label_aug  \\\n",
       "index                                                                         \n",
       "0      AB0085-Ca  AB0085-C        BFS  AB0085-Ca [Burkina Faso, Pala, S, F]   \n",
       "1      AB0085-Cb  AB0085-C        BFS  AB0085-Cb [Burkina Faso, Pala, S, F]   \n",
       "2      AB0087-Ca  AB0087-C        BFM  AB0087-Ca [Burkina Faso, Bana, M, F]   \n",
       "3      AB0087-Cb  AB0087-C        BFM  AB0087-Cb [Burkina Faso, Bana, M, F]   \n",
       "4      AB0088-Ca  AB0088-C        BFM  AB0088-Ca [Burkina Faso, Bana, M, F]   \n",
       "\n",
       "            country region sex m_s  kt_2la  kt_2rb  \n",
       "index                                               \n",
       "0      Burkina Faso   Pala   F   S     2.0     2.0  \n",
       "1      Burkina Faso   Pala   F   S     2.0     2.0  \n",
       "2      Burkina Faso   Bana   F   M     2.0     1.0  \n",
       "3      Burkina Faso   Bana   F   M     2.0     1.0  \n",
       "4      Burkina Faso   Bana   F   M     2.0     0.0  "
      ]
     },
     "execution_count": 5,
     "metadata": {},
     "output_type": "execute_result"
    }
   ],
   "source": [
    "df_haplotypes = phase1_ar31.df_haplotypes\n",
    "df_haplotypes = df_haplotypes[df_haplotypes.population != 'colony']\n",
    "df_haplotypes.head()"
   ]
  },
  {
   "cell_type": "code",
   "execution_count": 6,
   "metadata": {
    "collapsed": true
   },
   "outputs": [],
   "source": [
    "core_pos = pos_kdr_f"
   ]
  },
  {
   "cell_type": "code",
   "execution_count": 7,
   "metadata": {},
   "outputs": [
    {
     "data": {
      "text/html": [
       "<div class=\"allel allel-DisplayAs2D\"><span>&lt;HaplotypeArray shape=(163963, 1530) dtype=int8&gt;</span><table><thead><tr><th></th><th style=\"text-align: center\">0</th><th style=\"text-align: center\">1</th><th style=\"text-align: center\">2</th><th style=\"text-align: center\">3</th><th style=\"text-align: center\">4</th><th style=\"text-align: center\">...</th><th style=\"text-align: center\">1525</th><th style=\"text-align: center\">1526</th><th style=\"text-align: center\">1527</th><th style=\"text-align: center\">1528</th><th style=\"text-align: center\">1529</th></tr></thead><tbody><tr><th style=\"text-align: center; background-color: white; border-right: 1px solid black; \">0</th><td style=\"text-align: center\">0</td><td style=\"text-align: center\">0</td><td style=\"text-align: center\">0</td><td style=\"text-align: center\">0</td><td style=\"text-align: center\">0</td><td style=\"text-align: center\">...</td><td style=\"text-align: center\">0</td><td style=\"text-align: center\">0</td><td style=\"text-align: center\">0</td><td style=\"text-align: center\">0</td><td style=\"text-align: center\">0</td></tr><tr><th style=\"text-align: center; background-color: white; border-right: 1px solid black; \">1</th><td style=\"text-align: center\">0</td><td style=\"text-align: center\">0</td><td style=\"text-align: center\">0</td><td style=\"text-align: center\">0</td><td style=\"text-align: center\">0</td><td style=\"text-align: center\">...</td><td style=\"text-align: center\">0</td><td style=\"text-align: center\">0</td><td style=\"text-align: center\">0</td><td style=\"text-align: center\">0</td><td style=\"text-align: center\">0</td></tr><tr><th style=\"text-align: center; background-color: white; border-right: 1px solid black; \">2</th><td style=\"text-align: center\">0</td><td style=\"text-align: center\">0</td><td style=\"text-align: center\">0</td><td style=\"text-align: center\">0</td><td style=\"text-align: center\">0</td><td style=\"text-align: center\">...</td><td style=\"text-align: center\">0</td><td style=\"text-align: center\">0</td><td style=\"text-align: center\">0</td><td style=\"text-align: center\">0</td><td style=\"text-align: center\">0</td></tr><tr><th style=\"text-align: center; background-color: white; border-right: 1px solid black; \">...</th><td style=\"text-align: center\" colspan=\"12\">...</td></tr><tr><th style=\"text-align: center; background-color: white; border-right: 1px solid black; \">163960</th><td style=\"text-align: center\">0</td><td style=\"text-align: center\">0</td><td style=\"text-align: center\">0</td><td style=\"text-align: center\">0</td><td style=\"text-align: center\">0</td><td style=\"text-align: center\">...</td><td style=\"text-align: center\">0</td><td style=\"text-align: center\">0</td><td style=\"text-align: center\">0</td><td style=\"text-align: center\">0</td><td style=\"text-align: center\">0</td></tr><tr><th style=\"text-align: center; background-color: white; border-right: 1px solid black; \">163961</th><td style=\"text-align: center\">0</td><td style=\"text-align: center\">0</td><td style=\"text-align: center\">0</td><td style=\"text-align: center\">0</td><td style=\"text-align: center\">0</td><td style=\"text-align: center\">...</td><td style=\"text-align: center\">0</td><td style=\"text-align: center\">0</td><td style=\"text-align: center\">0</td><td style=\"text-align: center\">0</td><td style=\"text-align: center\">0</td></tr><tr><th style=\"text-align: center; background-color: white; border-right: 1px solid black; \">163962</th><td style=\"text-align: center\">0</td><td style=\"text-align: center\">0</td><td style=\"text-align: center\">0</td><td style=\"text-align: center\">0</td><td style=\"text-align: center\">0</td><td style=\"text-align: center\">...</td><td style=\"text-align: center\">0</td><td style=\"text-align: center\">0</td><td style=\"text-align: center\">0</td><td style=\"text-align: center\">0</td><td style=\"text-align: center\">0</td></tr></tbody></table></div>"
      ],
      "text/plain": [
       "<HaplotypeArray shape=(163963, 1530) dtype=int8>\n",
       "0 0 0 0 0 ... 0 0 0 0 0\n",
       "0 0 0 0 0 ... 0 0 0 0 0\n",
       "0 0 0 0 0 ... 0 0 0 0 0\n",
       "...\n",
       "0 0 0 0 0 ... 0 0 0 0 0\n",
       "0 0 0 0 0 ... 0 0 0 0 0\n",
       "0 0 0 0 0 ... 0 0 0 0 0"
      ]
     },
     "execution_count": 7,
     "metadata": {},
     "output_type": "execute_result"
    }
   ],
   "source": [
    "haps_region = genotypes_phased[loc_region].to_haplotypes()[:, :-16].compute()\n",
    "haps_region"
   ]
  },
  {
   "cell_type": "code",
   "execution_count": 8,
   "metadata": {
    "collapsed": true
   },
   "outputs": [],
   "source": [
    "# split the dataset\n",
    "dist_right, dist_left, haps_right, haps_left = hapclust.split_flanks(\n",
    "    haps_region, pos_phased_region, core_pos\n",
    ")"
   ]
  },
  {
   "cell_type": "code",
   "execution_count": 9,
   "metadata": {},
   "outputs": [
    {
     "data": {
      "text/plain": [
       "array([      0,      45,      82, ..., 1574726, 1574729, 1574734], dtype=int32)"
      ]
     },
     "execution_count": 9,
     "metadata": {},
     "output_type": "execute_result"
    }
   ],
   "source": [
    "dist_right"
   ]
  },
  {
   "cell_type": "code",
   "execution_count": 10,
   "metadata": {},
   "outputs": [
    {
     "data": {
      "text/html": [
       "<div class=\"allel allel-DisplayAs2D\"><span>&lt;HaplotypeArray shape=(137962, 1530) dtype=int8&gt;</span><table><thead><tr><th></th><th style=\"text-align: center\">0</th><th style=\"text-align: center\">1</th><th style=\"text-align: center\">2</th><th style=\"text-align: center\">3</th><th style=\"text-align: center\">4</th><th style=\"text-align: center\">...</th><th style=\"text-align: center\">1525</th><th style=\"text-align: center\">1526</th><th style=\"text-align: center\">1527</th><th style=\"text-align: center\">1528</th><th style=\"text-align: center\">1529</th></tr></thead><tbody><tr><th style=\"text-align: center; background-color: white; border-right: 1px solid black; \">0</th><td style=\"text-align: center\">1</td><td style=\"text-align: center\">1</td><td style=\"text-align: center\">0</td><td style=\"text-align: center\">1</td><td style=\"text-align: center\">1</td><td style=\"text-align: center\">...</td><td style=\"text-align: center\">1</td><td style=\"text-align: center\">1</td><td style=\"text-align: center\">1</td><td style=\"text-align: center\">1</td><td style=\"text-align: center\">1</td></tr><tr><th style=\"text-align: center; background-color: white; border-right: 1px solid black; \">1</th><td style=\"text-align: center\">0</td><td style=\"text-align: center\">0</td><td style=\"text-align: center\">0</td><td style=\"text-align: center\">0</td><td style=\"text-align: center\">0</td><td style=\"text-align: center\">...</td><td style=\"text-align: center\">0</td><td style=\"text-align: center\">0</td><td style=\"text-align: center\">0</td><td style=\"text-align: center\">0</td><td style=\"text-align: center\">0</td></tr><tr><th style=\"text-align: center; background-color: white; border-right: 1px solid black; \">2</th><td style=\"text-align: center\">0</td><td style=\"text-align: center\">0</td><td style=\"text-align: center\">0</td><td style=\"text-align: center\">0</td><td style=\"text-align: center\">0</td><td style=\"text-align: center\">...</td><td style=\"text-align: center\">0</td><td style=\"text-align: center\">0</td><td style=\"text-align: center\">0</td><td style=\"text-align: center\">0</td><td style=\"text-align: center\">0</td></tr><tr><th style=\"text-align: center; background-color: white; border-right: 1px solid black; \">...</th><td style=\"text-align: center\" colspan=\"12\">...</td></tr><tr><th style=\"text-align: center; background-color: white; border-right: 1px solid black; \">137959</th><td style=\"text-align: center\">0</td><td style=\"text-align: center\">0</td><td style=\"text-align: center\">0</td><td style=\"text-align: center\">0</td><td style=\"text-align: center\">0</td><td style=\"text-align: center\">...</td><td style=\"text-align: center\">0</td><td style=\"text-align: center\">0</td><td style=\"text-align: center\">0</td><td style=\"text-align: center\">0</td><td style=\"text-align: center\">0</td></tr><tr><th style=\"text-align: center; background-color: white; border-right: 1px solid black; \">137960</th><td style=\"text-align: center\">0</td><td style=\"text-align: center\">0</td><td style=\"text-align: center\">0</td><td style=\"text-align: center\">0</td><td style=\"text-align: center\">0</td><td style=\"text-align: center\">...</td><td style=\"text-align: center\">0</td><td style=\"text-align: center\">0</td><td style=\"text-align: center\">0</td><td style=\"text-align: center\">0</td><td style=\"text-align: center\">0</td></tr><tr><th style=\"text-align: center; background-color: white; border-right: 1px solid black; \">137961</th><td style=\"text-align: center\">0</td><td style=\"text-align: center\">0</td><td style=\"text-align: center\">0</td><td style=\"text-align: center\">0</td><td style=\"text-align: center\">0</td><td style=\"text-align: center\">...</td><td style=\"text-align: center\">0</td><td style=\"text-align: center\">0</td><td style=\"text-align: center\">0</td><td style=\"text-align: center\">0</td><td style=\"text-align: center\">0</td></tr></tbody></table></div>"
      ],
      "text/plain": [
       "<HaplotypeArray shape=(137962, 1530) dtype=int8>\n",
       "1 1 0 1 1 ... 1 1 1 1 1\n",
       "0 0 0 0 0 ... 0 0 0 0 0\n",
       "0 0 0 0 0 ... 0 0 0 0 0\n",
       "...\n",
       "0 0 0 0 0 ... 0 0 0 0 0\n",
       "0 0 0 0 0 ... 0 0 0 0 0\n",
       "0 0 0 0 0 ... 0 0 0 0 0"
      ]
     },
     "execution_count": 10,
     "metadata": {},
     "output_type": "execute_result"
    }
   ],
   "source": [
    "haps_right"
   ]
  },
  {
   "cell_type": "code",
   "execution_count": 11,
   "metadata": {},
   "outputs": [
    {
     "data": {
      "text/html": [
       "<div class=\"allel allel-DisplayAs2D\"><span>&lt;HaplotypeArray shape=(26001, 1530) dtype=int8&gt;</span><table><thead><tr><th></th><th style=\"text-align: center\">0</th><th style=\"text-align: center\">1</th><th style=\"text-align: center\">2</th><th style=\"text-align: center\">3</th><th style=\"text-align: center\">4</th><th style=\"text-align: center\">...</th><th style=\"text-align: center\">1525</th><th style=\"text-align: center\">1526</th><th style=\"text-align: center\">1527</th><th style=\"text-align: center\">1528</th><th style=\"text-align: center\">1529</th></tr></thead><tbody><tr><th style=\"text-align: center; background-color: white; border-right: 1px solid black; \">0</th><td style=\"text-align: center\">0</td><td style=\"text-align: center\">0</td><td style=\"text-align: center\">0</td><td style=\"text-align: center\">0</td><td style=\"text-align: center\">0</td><td style=\"text-align: center\">...</td><td style=\"text-align: center\">0</td><td style=\"text-align: center\">0</td><td style=\"text-align: center\">0</td><td style=\"text-align: center\">0</td><td style=\"text-align: center\">0</td></tr><tr><th style=\"text-align: center; background-color: white; border-right: 1px solid black; \">1</th><td style=\"text-align: center\">0</td><td style=\"text-align: center\">0</td><td style=\"text-align: center\">0</td><td style=\"text-align: center\">0</td><td style=\"text-align: center\">0</td><td style=\"text-align: center\">...</td><td style=\"text-align: center\">0</td><td style=\"text-align: center\">0</td><td style=\"text-align: center\">0</td><td style=\"text-align: center\">0</td><td style=\"text-align: center\">0</td></tr><tr><th style=\"text-align: center; background-color: white; border-right: 1px solid black; \">2</th><td style=\"text-align: center\">0</td><td style=\"text-align: center\">0</td><td style=\"text-align: center\">0</td><td style=\"text-align: center\">0</td><td style=\"text-align: center\">0</td><td style=\"text-align: center\">...</td><td style=\"text-align: center\">0</td><td style=\"text-align: center\">0</td><td style=\"text-align: center\">0</td><td style=\"text-align: center\">0</td><td style=\"text-align: center\">0</td></tr><tr><th style=\"text-align: center; background-color: white; border-right: 1px solid black; \">...</th><td style=\"text-align: center\" colspan=\"12\">...</td></tr><tr><th style=\"text-align: center; background-color: white; border-right: 1px solid black; \">25998</th><td style=\"text-align: center\">0</td><td style=\"text-align: center\">0</td><td style=\"text-align: center\">0</td><td style=\"text-align: center\">0</td><td style=\"text-align: center\">0</td><td style=\"text-align: center\">...</td><td style=\"text-align: center\">0</td><td style=\"text-align: center\">0</td><td style=\"text-align: center\">0</td><td style=\"text-align: center\">0</td><td style=\"text-align: center\">0</td></tr><tr><th style=\"text-align: center; background-color: white; border-right: 1px solid black; \">25999</th><td style=\"text-align: center\">0</td><td style=\"text-align: center\">0</td><td style=\"text-align: center\">0</td><td style=\"text-align: center\">0</td><td style=\"text-align: center\">0</td><td style=\"text-align: center\">...</td><td style=\"text-align: center\">0</td><td style=\"text-align: center\">0</td><td style=\"text-align: center\">0</td><td style=\"text-align: center\">0</td><td style=\"text-align: center\">0</td></tr><tr><th style=\"text-align: center; background-color: white; border-right: 1px solid black; \">26000</th><td style=\"text-align: center\">0</td><td style=\"text-align: center\">0</td><td style=\"text-align: center\">0</td><td style=\"text-align: center\">0</td><td style=\"text-align: center\">0</td><td style=\"text-align: center\">...</td><td style=\"text-align: center\">0</td><td style=\"text-align: center\">0</td><td style=\"text-align: center\">0</td><td style=\"text-align: center\">0</td><td style=\"text-align: center\">0</td></tr></tbody></table></div>"
      ],
      "text/plain": [
       "<HaplotypeArray shape=(26001, 1530) dtype=int8>\n",
       "0 0 0 0 0 ... 0 0 0 0 0\n",
       "0 0 0 0 0 ... 0 0 0 0 0\n",
       "0 0 0 0 0 ... 0 0 0 0 0\n",
       "...\n",
       "0 0 0 0 0 ... 0 0 0 0 0\n",
       "0 0 0 0 0 ... 0 0 0 0 0\n",
       "0 0 0 0 0 ... 0 0 0 0 0"
      ]
     },
     "execution_count": 11,
     "metadata": {},
     "output_type": "execute_result"
    }
   ],
   "source": [
    "haps_left"
   ]
  },
  {
   "cell_type": "markdown",
   "metadata": {},
   "source": [
    "## Sandbox"
   ]
  },
  {
   "cell_type": "code",
   "execution_count": 12,
   "metadata": {
    "collapsed": true
   },
   "outputs": [],
   "source": [
    "h = haps_right"
   ]
  },
  {
   "cell_type": "code",
   "execution_count": 13,
   "metadata": {},
   "outputs": [
    {
     "data": {
      "text/plain": [
       "(137962, 1530)"
      ]
     },
     "execution_count": 13,
     "metadata": {},
     "output_type": "execute_result"
    }
   ],
   "source": [
    "h.shape"
   ]
  },
  {
   "cell_type": "code",
   "execution_count": 125,
   "metadata": {},
   "outputs": [
    {
     "name": "stdout",
     "output_type": "stream",
     "text": [
      "CPU times: user 180 ms, sys: 0 ns, total: 180 ms\n",
      "Wall time: 181 ms\n"
     ]
    },
    {
     "data": {
      "text/plain": [
       "array([1743, 2000,  784, ..., 2000, 1743, 2000])"
      ]
     },
     "execution_count": 125,
     "metadata": {},
     "output_type": "execute_result"
    }
   ],
   "source": [
    "%time hapclust.locate_breakpoints_by_4gametes(h[:2000, :], seed=1)"
   ]
  },
  {
   "cell_type": "code",
   "execution_count": 126,
   "metadata": {},
   "outputs": [
    {
     "name": "stdout",
     "output_type": "stream",
     "text": [
      "138 ms ± 3.74 ms per loop (mean ± std. dev. of 7 runs, 10 loops each)\n"
     ]
    }
   ],
   "source": [
    "%timeit hapclust.locate_breakpoints_by_4gametes(h[:2000, :], seed=1)"
   ]
  },
  {
   "cell_type": "code",
   "execution_count": 46,
   "metadata": {},
   "outputs": [
    {
     "name": "stdout",
     "output_type": "stream",
     "text": [
      "141 ms ± 1.38 ms per loop (mean ± std. dev. of 7 runs, 10 loops each)\n"
     ]
    }
   ],
   "source": [
    "%timeit hapclust.locate_breakpoints_by_4gametes(h[:2000, :], seed=1)"
   ]
  },
  {
   "cell_type": "code",
   "execution_count": 127,
   "metadata": {},
   "outputs": [
    {
     "name": "stdout",
     "output_type": "stream",
     "text": [
      "CPU times: user 3.98 s, sys: 0 ns, total: 3.98 s\n",
      "Wall time: 3.97 s\n"
     ]
    },
    {
     "data": {
      "text/plain": [
       "array([ 1743, 14218,   784, ...,  4801,  1743,  4326])"
      ]
     },
     "execution_count": 127,
     "metadata": {},
     "output_type": "execute_result"
    }
   ],
   "source": [
    "%time hapclust.locate_breakpoints_by_4gametes(h[:, :], seed=1)"
   ]
  },
  {
   "cell_type": "code",
   "execution_count": 47,
   "metadata": {},
   "outputs": [
    {
     "name": "stdout",
     "output_type": "stream",
     "text": [
      "CPU times: user 4.02 s, sys: 0 ns, total: 4.02 s\n",
      "Wall time: 4.02 s\n"
     ]
    },
    {
     "data": {
      "text/plain": [
       "array([ 1743, 14218,   784, ...,  4801,  1743,  4326])"
      ]
     },
     "execution_count": 47,
     "metadata": {},
     "output_type": "execute_result"
    }
   ],
   "source": [
    "%time hapclust.locate_breakpoints_by_4gametes(h[:, :], seed=1)"
   ]
  },
  {
   "cell_type": "code",
   "execution_count": 49,
   "metadata": {},
   "outputs": [
    {
     "name": "stdout",
     "output_type": "stream",
     "text": [
      "6324 952\n",
      "44.4 µs ± 550 ns per loop (mean ± std. dev. of 7 runs, 10000 loops each)\n",
      "44 µs ± 163 ns per loop (mean ± std. dev. of 7 runs, 10000 loops each)\n"
     ]
    }
   ],
   "source": [
    "a = set(np.random.randint(1, 10000, 10000))\n",
    "b = set(np.random.randint(1, 10000, 1000))\n",
    "print(len(a), len(b))\n",
    "%timeit a.intersection(b)\n",
    "%timeit b.intersection(a)"
   ]
  },
  {
   "cell_type": "code",
   "execution_count": 32,
   "metadata": {},
   "outputs": [
    {
     "name": "stdout",
     "output_type": "stream",
     "text": [
      "57.4 ns ± 0.561 ns per loop (mean ± std. dev. of 7 runs, 10000000 loops each)\n"
     ]
    }
   ],
   "source": [
    "a = set(np.random.randint(1, 10000, 1000))\n",
    "%timeit len(a)"
   ]
  },
  {
   "cell_type": "code",
   "execution_count": 52,
   "metadata": {},
   "outputs": [
    {
     "name": "stdout",
     "output_type": "stream",
     "text": [
      "148 µs ± 2.88 µs per loop (mean ± std. dev. of 7 runs, 10000 loops each)\n"
     ]
    }
   ],
   "source": [
    "a = np.unique(np.random.randint(1, 10000, 10000))\n",
    "b = np.unique(np.random.randint(1, 10000, 1000))\n",
    "%timeit np.intersect1d(b, a, assume_unique=True)"
   ]
  },
  {
   "cell_type": "code",
   "execution_count": 63,
   "metadata": {},
   "outputs": [
    {
     "name": "stdout",
     "output_type": "stream",
     "text": [
      "1.02 µs ± 11.1 ns per loop (mean ± std. dev. of 7 runs, 1000000 loops each)\n"
     ]
    }
   ],
   "source": [
    "a = np.zeros(10000, dtype=bool)\n",
    "a[np.random.randint(1, 10000, 10000)] = True\n",
    "b = np.zeros(10000, dtype=bool)\n",
    "b[np.random.randint(1, 10000, 1000)] = True\n",
    "\n",
    "%timeit a & b"
   ]
  },
  {
   "cell_type": "code",
   "execution_count": 87,
   "metadata": {},
   "outputs": [
    {
     "name": "stdout",
     "output_type": "stream",
     "text": [
      "1.04 µs ± 13.4 ns per loop (mean ± std. dev. of 7 runs, 1000000 loops each)\n"
     ]
    }
   ],
   "source": [
    "a = np.zeros(10000, dtype=bool)\n",
    "a[np.random.randint(1, 10000, 10000)] = True\n",
    "b = np.zeros(10000, dtype=bool)\n",
    "b[np.random.randint(1, 10000, 1000)] = True\n",
    "\n",
    "%timeit np.logical_and(a, b, )"
   ]
  },
  {
   "cell_type": "code",
   "execution_count": 123,
   "metadata": {},
   "outputs": [
    {
     "name": "stdout",
     "output_type": "stream",
     "text": [
      "756 ns ± 4.45 ns per loop (mean ± std. dev. of 7 runs, 1000000 loops each)\n"
     ]
    }
   ],
   "source": [
    "%timeit np.count_nonzero(a)"
   ]
  },
  {
   "cell_type": "code",
   "execution_count": 122,
   "metadata": {},
   "outputs": [
    {
     "name": "stdout",
     "output_type": "stream",
     "text": [
      "10 µs ± 53.1 ns per loop (mean ± std. dev. of 7 runs, 100000 loops each)\n"
     ]
    }
   ],
   "source": [
    "%timeit a.sum()"
   ]
  },
  {
   "cell_type": "code",
   "execution_count": 117,
   "metadata": {},
   "outputs": [
    {
     "data": {
      "text/html": [
       "<!DOCTYPE html>\n",
       "<!-- Generated by Cython 0.25.2 -->\n",
       "<html>\n",
       "<head>\n",
       "    <meta http-equiv=\"Content-Type\" content=\"text/html; charset=utf-8\" />\n",
       "    <title>Cython: _cython_magic_484830abca14b482435ae73118fbca84.pyx</title>\n",
       "    <style type=\"text/css\">\n",
       "    \n",
       "body.cython { font-family: courier; font-size: 12; }\n",
       "\n",
       ".cython.tag  {  }\n",
       ".cython.line { margin: 0em }\n",
       ".cython.code { font-size: 9; color: #444444; display: none; margin: 0px 0px 0px 8px; border-left: 8px none; }\n",
       "\n",
       ".cython.line .run { background-color: #B0FFB0; }\n",
       ".cython.line .mis { background-color: #FFB0B0; }\n",
       ".cython.code.run  { border-left: 8px solid #B0FFB0; }\n",
       ".cython.code.mis  { border-left: 8px solid #FFB0B0; }\n",
       "\n",
       ".cython.code .py_c_api  { color: red; }\n",
       ".cython.code .py_macro_api  { color: #FF7000; }\n",
       ".cython.code .pyx_c_api  { color: #FF3000; }\n",
       ".cython.code .pyx_macro_api  { color: #FF7000; }\n",
       ".cython.code .refnanny  { color: #FFA000; }\n",
       ".cython.code .trace  { color: #FFA000; }\n",
       ".cython.code .error_goto  { color: #FFA000; }\n",
       "\n",
       ".cython.code .coerce  { color: #008000; border: 1px dotted #008000 }\n",
       ".cython.code .py_attr { color: #FF0000; font-weight: bold; }\n",
       ".cython.code .c_attr  { color: #0000FF; }\n",
       ".cython.code .py_call { color: #FF0000; font-weight: bold; }\n",
       ".cython.code .c_call  { color: #0000FF; }\n",
       "\n",
       ".cython.score-0 {background-color: #FFFFff;}\n",
       ".cython.score-1 {background-color: #FFFFe7;}\n",
       ".cython.score-2 {background-color: #FFFFd4;}\n",
       ".cython.score-3 {background-color: #FFFFc4;}\n",
       ".cython.score-4 {background-color: #FFFFb6;}\n",
       ".cython.score-5 {background-color: #FFFFaa;}\n",
       ".cython.score-6 {background-color: #FFFF9f;}\n",
       ".cython.score-7 {background-color: #FFFF96;}\n",
       ".cython.score-8 {background-color: #FFFF8d;}\n",
       ".cython.score-9 {background-color: #FFFF86;}\n",
       ".cython.score-10 {background-color: #FFFF7f;}\n",
       ".cython.score-11 {background-color: #FFFF79;}\n",
       ".cython.score-12 {background-color: #FFFF73;}\n",
       ".cython.score-13 {background-color: #FFFF6e;}\n",
       ".cython.score-14 {background-color: #FFFF6a;}\n",
       ".cython.score-15 {background-color: #FFFF66;}\n",
       ".cython.score-16 {background-color: #FFFF62;}\n",
       ".cython.score-17 {background-color: #FFFF5e;}\n",
       ".cython.score-18 {background-color: #FFFF5b;}\n",
       ".cython.score-19 {background-color: #FFFF57;}\n",
       ".cython.score-20 {background-color: #FFFF55;}\n",
       ".cython.score-21 {background-color: #FFFF52;}\n",
       ".cython.score-22 {background-color: #FFFF4f;}\n",
       ".cython.score-23 {background-color: #FFFF4d;}\n",
       ".cython.score-24 {background-color: #FFFF4b;}\n",
       ".cython.score-25 {background-color: #FFFF48;}\n",
       ".cython.score-26 {background-color: #FFFF46;}\n",
       ".cython.score-27 {background-color: #FFFF44;}\n",
       ".cython.score-28 {background-color: #FFFF43;}\n",
       ".cython.score-29 {background-color: #FFFF41;}\n",
       ".cython.score-30 {background-color: #FFFF3f;}\n",
       ".cython.score-31 {background-color: #FFFF3e;}\n",
       ".cython.score-32 {background-color: #FFFF3c;}\n",
       ".cython.score-33 {background-color: #FFFF3b;}\n",
       ".cython.score-34 {background-color: #FFFF39;}\n",
       ".cython.score-35 {background-color: #FFFF38;}\n",
       ".cython.score-36 {background-color: #FFFF37;}\n",
       ".cython.score-37 {background-color: #FFFF36;}\n",
       ".cython.score-38 {background-color: #FFFF35;}\n",
       ".cython.score-39 {background-color: #FFFF34;}\n",
       ".cython.score-40 {background-color: #FFFF33;}\n",
       ".cython.score-41 {background-color: #FFFF32;}\n",
       ".cython.score-42 {background-color: #FFFF31;}\n",
       ".cython.score-43 {background-color: #FFFF30;}\n",
       ".cython.score-44 {background-color: #FFFF2f;}\n",
       ".cython.score-45 {background-color: #FFFF2e;}\n",
       ".cython.score-46 {background-color: #FFFF2d;}\n",
       ".cython.score-47 {background-color: #FFFF2c;}\n",
       ".cython.score-48 {background-color: #FFFF2b;}\n",
       ".cython.score-49 {background-color: #FFFF2b;}\n",
       ".cython.score-50 {background-color: #FFFF2a;}\n",
       ".cython.score-51 {background-color: #FFFF29;}\n",
       ".cython.score-52 {background-color: #FFFF29;}\n",
       ".cython.score-53 {background-color: #FFFF28;}\n",
       ".cython.score-54 {background-color: #FFFF27;}\n",
       ".cython.score-55 {background-color: #FFFF27;}\n",
       ".cython.score-56 {background-color: #FFFF26;}\n",
       ".cython.score-57 {background-color: #FFFF26;}\n",
       ".cython.score-58 {background-color: #FFFF25;}\n",
       ".cython.score-59 {background-color: #FFFF24;}\n",
       ".cython.score-60 {background-color: #FFFF24;}\n",
       ".cython.score-61 {background-color: #FFFF23;}\n",
       ".cython.score-62 {background-color: #FFFF23;}\n",
       ".cython.score-63 {background-color: #FFFF22;}\n",
       ".cython.score-64 {background-color: #FFFF22;}\n",
       ".cython.score-65 {background-color: #FFFF22;}\n",
       ".cython.score-66 {background-color: #FFFF21;}\n",
       ".cython.score-67 {background-color: #FFFF21;}\n",
       ".cython.score-68 {background-color: #FFFF20;}\n",
       ".cython.score-69 {background-color: #FFFF20;}\n",
       ".cython.score-70 {background-color: #FFFF1f;}\n",
       ".cython.score-71 {background-color: #FFFF1f;}\n",
       ".cython.score-72 {background-color: #FFFF1f;}\n",
       ".cython.score-73 {background-color: #FFFF1e;}\n",
       ".cython.score-74 {background-color: #FFFF1e;}\n",
       ".cython.score-75 {background-color: #FFFF1e;}\n",
       ".cython.score-76 {background-color: #FFFF1d;}\n",
       ".cython.score-77 {background-color: #FFFF1d;}\n",
       ".cython.score-78 {background-color: #FFFF1c;}\n",
       ".cython.score-79 {background-color: #FFFF1c;}\n",
       ".cython.score-80 {background-color: #FFFF1c;}\n",
       ".cython.score-81 {background-color: #FFFF1c;}\n",
       ".cython.score-82 {background-color: #FFFF1b;}\n",
       ".cython.score-83 {background-color: #FFFF1b;}\n",
       ".cython.score-84 {background-color: #FFFF1b;}\n",
       ".cython.score-85 {background-color: #FFFF1a;}\n",
       ".cython.score-86 {background-color: #FFFF1a;}\n",
       ".cython.score-87 {background-color: #FFFF1a;}\n",
       ".cython.score-88 {background-color: #FFFF1a;}\n",
       ".cython.score-89 {background-color: #FFFF19;}\n",
       ".cython.score-90 {background-color: #FFFF19;}\n",
       ".cython.score-91 {background-color: #FFFF19;}\n",
       ".cython.score-92 {background-color: #FFFF19;}\n",
       ".cython.score-93 {background-color: #FFFF18;}\n",
       ".cython.score-94 {background-color: #FFFF18;}\n",
       ".cython.score-95 {background-color: #FFFF18;}\n",
       ".cython.score-96 {background-color: #FFFF18;}\n",
       ".cython.score-97 {background-color: #FFFF17;}\n",
       ".cython.score-98 {background-color: #FFFF17;}\n",
       ".cython.score-99 {background-color: #FFFF17;}\n",
       ".cython.score-100 {background-color: #FFFF17;}\n",
       ".cython.score-101 {background-color: #FFFF16;}\n",
       ".cython.score-102 {background-color: #FFFF16;}\n",
       ".cython.score-103 {background-color: #FFFF16;}\n",
       ".cython.score-104 {background-color: #FFFF16;}\n",
       ".cython.score-105 {background-color: #FFFF16;}\n",
       ".cython.score-106 {background-color: #FFFF15;}\n",
       ".cython.score-107 {background-color: #FFFF15;}\n",
       ".cython.score-108 {background-color: #FFFF15;}\n",
       ".cython.score-109 {background-color: #FFFF15;}\n",
       ".cython.score-110 {background-color: #FFFF15;}\n",
       ".cython.score-111 {background-color: #FFFF15;}\n",
       ".cython.score-112 {background-color: #FFFF14;}\n",
       ".cython.score-113 {background-color: #FFFF14;}\n",
       ".cython.score-114 {background-color: #FFFF14;}\n",
       ".cython.score-115 {background-color: #FFFF14;}\n",
       ".cython.score-116 {background-color: #FFFF14;}\n",
       ".cython.score-117 {background-color: #FFFF14;}\n",
       ".cython.score-118 {background-color: #FFFF13;}\n",
       ".cython.score-119 {background-color: #FFFF13;}\n",
       ".cython.score-120 {background-color: #FFFF13;}\n",
       ".cython.score-121 {background-color: #FFFF13;}\n",
       ".cython.score-122 {background-color: #FFFF13;}\n",
       ".cython.score-123 {background-color: #FFFF13;}\n",
       ".cython.score-124 {background-color: #FFFF13;}\n",
       ".cython.score-125 {background-color: #FFFF12;}\n",
       ".cython.score-126 {background-color: #FFFF12;}\n",
       ".cython.score-127 {background-color: #FFFF12;}\n",
       ".cython.score-128 {background-color: #FFFF12;}\n",
       ".cython.score-129 {background-color: #FFFF12;}\n",
       ".cython.score-130 {background-color: #FFFF12;}\n",
       ".cython.score-131 {background-color: #FFFF12;}\n",
       ".cython.score-132 {background-color: #FFFF11;}\n",
       ".cython.score-133 {background-color: #FFFF11;}\n",
       ".cython.score-134 {background-color: #FFFF11;}\n",
       ".cython.score-135 {background-color: #FFFF11;}\n",
       ".cython.score-136 {background-color: #FFFF11;}\n",
       ".cython.score-137 {background-color: #FFFF11;}\n",
       ".cython.score-138 {background-color: #FFFF11;}\n",
       ".cython.score-139 {background-color: #FFFF11;}\n",
       ".cython.score-140 {background-color: #FFFF11;}\n",
       ".cython.score-141 {background-color: #FFFF10;}\n",
       ".cython.score-142 {background-color: #FFFF10;}\n",
       ".cython.score-143 {background-color: #FFFF10;}\n",
       ".cython.score-144 {background-color: #FFFF10;}\n",
       ".cython.score-145 {background-color: #FFFF10;}\n",
       ".cython.score-146 {background-color: #FFFF10;}\n",
       ".cython.score-147 {background-color: #FFFF10;}\n",
       ".cython.score-148 {background-color: #FFFF10;}\n",
       ".cython.score-149 {background-color: #FFFF10;}\n",
       ".cython.score-150 {background-color: #FFFF0f;}\n",
       ".cython.score-151 {background-color: #FFFF0f;}\n",
       ".cython.score-152 {background-color: #FFFF0f;}\n",
       ".cython.score-153 {background-color: #FFFF0f;}\n",
       ".cython.score-154 {background-color: #FFFF0f;}\n",
       ".cython.score-155 {background-color: #FFFF0f;}\n",
       ".cython.score-156 {background-color: #FFFF0f;}\n",
       ".cython.score-157 {background-color: #FFFF0f;}\n",
       ".cython.score-158 {background-color: #FFFF0f;}\n",
       ".cython.score-159 {background-color: #FFFF0f;}\n",
       ".cython.score-160 {background-color: #FFFF0f;}\n",
       ".cython.score-161 {background-color: #FFFF0e;}\n",
       ".cython.score-162 {background-color: #FFFF0e;}\n",
       ".cython.score-163 {background-color: #FFFF0e;}\n",
       ".cython.score-164 {background-color: #FFFF0e;}\n",
       ".cython.score-165 {background-color: #FFFF0e;}\n",
       ".cython.score-166 {background-color: #FFFF0e;}\n",
       ".cython.score-167 {background-color: #FFFF0e;}\n",
       ".cython.score-168 {background-color: #FFFF0e;}\n",
       ".cython.score-169 {background-color: #FFFF0e;}\n",
       ".cython.score-170 {background-color: #FFFF0e;}\n",
       ".cython.score-171 {background-color: #FFFF0e;}\n",
       ".cython.score-172 {background-color: #FFFF0e;}\n",
       ".cython.score-173 {background-color: #FFFF0d;}\n",
       ".cython.score-174 {background-color: #FFFF0d;}\n",
       ".cython.score-175 {background-color: #FFFF0d;}\n",
       ".cython.score-176 {background-color: #FFFF0d;}\n",
       ".cython.score-177 {background-color: #FFFF0d;}\n",
       ".cython.score-178 {background-color: #FFFF0d;}\n",
       ".cython.score-179 {background-color: #FFFF0d;}\n",
       ".cython.score-180 {background-color: #FFFF0d;}\n",
       ".cython.score-181 {background-color: #FFFF0d;}\n",
       ".cython.score-182 {background-color: #FFFF0d;}\n",
       ".cython.score-183 {background-color: #FFFF0d;}\n",
       ".cython.score-184 {background-color: #FFFF0d;}\n",
       ".cython.score-185 {background-color: #FFFF0d;}\n",
       ".cython.score-186 {background-color: #FFFF0d;}\n",
       ".cython.score-187 {background-color: #FFFF0c;}\n",
       ".cython.score-188 {background-color: #FFFF0c;}\n",
       ".cython.score-189 {background-color: #FFFF0c;}\n",
       ".cython.score-190 {background-color: #FFFF0c;}\n",
       ".cython.score-191 {background-color: #FFFF0c;}\n",
       ".cython.score-192 {background-color: #FFFF0c;}\n",
       ".cython.score-193 {background-color: #FFFF0c;}\n",
       ".cython.score-194 {background-color: #FFFF0c;}\n",
       ".cython.score-195 {background-color: #FFFF0c;}\n",
       ".cython.score-196 {background-color: #FFFF0c;}\n",
       ".cython.score-197 {background-color: #FFFF0c;}\n",
       ".cython.score-198 {background-color: #FFFF0c;}\n",
       ".cython.score-199 {background-color: #FFFF0c;}\n",
       ".cython.score-200 {background-color: #FFFF0c;}\n",
       ".cython.score-201 {background-color: #FFFF0c;}\n",
       ".cython.score-202 {background-color: #FFFF0c;}\n",
       ".cython.score-203 {background-color: #FFFF0b;}\n",
       ".cython.score-204 {background-color: #FFFF0b;}\n",
       ".cython.score-205 {background-color: #FFFF0b;}\n",
       ".cython.score-206 {background-color: #FFFF0b;}\n",
       ".cython.score-207 {background-color: #FFFF0b;}\n",
       ".cython.score-208 {background-color: #FFFF0b;}\n",
       ".cython.score-209 {background-color: #FFFF0b;}\n",
       ".cython.score-210 {background-color: #FFFF0b;}\n",
       ".cython.score-211 {background-color: #FFFF0b;}\n",
       ".cython.score-212 {background-color: #FFFF0b;}\n",
       ".cython.score-213 {background-color: #FFFF0b;}\n",
       ".cython.score-214 {background-color: #FFFF0b;}\n",
       ".cython.score-215 {background-color: #FFFF0b;}\n",
       ".cython.score-216 {background-color: #FFFF0b;}\n",
       ".cython.score-217 {background-color: #FFFF0b;}\n",
       ".cython.score-218 {background-color: #FFFF0b;}\n",
       ".cython.score-219 {background-color: #FFFF0b;}\n",
       ".cython.score-220 {background-color: #FFFF0b;}\n",
       ".cython.score-221 {background-color: #FFFF0b;}\n",
       ".cython.score-222 {background-color: #FFFF0a;}\n",
       ".cython.score-223 {background-color: #FFFF0a;}\n",
       ".cython.score-224 {background-color: #FFFF0a;}\n",
       ".cython.score-225 {background-color: #FFFF0a;}\n",
       ".cython.score-226 {background-color: #FFFF0a;}\n",
       ".cython.score-227 {background-color: #FFFF0a;}\n",
       ".cython.score-228 {background-color: #FFFF0a;}\n",
       ".cython.score-229 {background-color: #FFFF0a;}\n",
       ".cython.score-230 {background-color: #FFFF0a;}\n",
       ".cython.score-231 {background-color: #FFFF0a;}\n",
       ".cython.score-232 {background-color: #FFFF0a;}\n",
       ".cython.score-233 {background-color: #FFFF0a;}\n",
       ".cython.score-234 {background-color: #FFFF0a;}\n",
       ".cython.score-235 {background-color: #FFFF0a;}\n",
       ".cython.score-236 {background-color: #FFFF0a;}\n",
       ".cython.score-237 {background-color: #FFFF0a;}\n",
       ".cython.score-238 {background-color: #FFFF0a;}\n",
       ".cython.score-239 {background-color: #FFFF0a;}\n",
       ".cython.score-240 {background-color: #FFFF0a;}\n",
       ".cython.score-241 {background-color: #FFFF0a;}\n",
       ".cython.score-242 {background-color: #FFFF0a;}\n",
       ".cython.score-243 {background-color: #FFFF0a;}\n",
       ".cython.score-244 {background-color: #FFFF0a;}\n",
       ".cython.score-245 {background-color: #FFFF0a;}\n",
       ".cython.score-246 {background-color: #FFFF09;}\n",
       ".cython.score-247 {background-color: #FFFF09;}\n",
       ".cython.score-248 {background-color: #FFFF09;}\n",
       ".cython.score-249 {background-color: #FFFF09;}\n",
       ".cython.score-250 {background-color: #FFFF09;}\n",
       ".cython.score-251 {background-color: #FFFF09;}\n",
       ".cython.score-252 {background-color: #FFFF09;}\n",
       ".cython.score-253 {background-color: #FFFF09;}\n",
       ".cython.score-254 {background-color: #FFFF09;}\n",
       ".cython .hll { background-color: #ffffcc }\n",
       ".cython  { background: #f8f8f8; }\n",
       ".cython .c { color: #408080; font-style: italic } /* Comment */\n",
       ".cython .err { border: 1px solid #FF0000 } /* Error */\n",
       ".cython .k { color: #008000; font-weight: bold } /* Keyword */\n",
       ".cython .o { color: #666666 } /* Operator */\n",
       ".cython .ch { color: #408080; font-style: italic } /* Comment.Hashbang */\n",
       ".cython .cm { color: #408080; font-style: italic } /* Comment.Multiline */\n",
       ".cython .cp { color: #BC7A00 } /* Comment.Preproc */\n",
       ".cython .cpf { color: #408080; font-style: italic } /* Comment.PreprocFile */\n",
       ".cython .c1 { color: #408080; font-style: italic } /* Comment.Single */\n",
       ".cython .cs { color: #408080; font-style: italic } /* Comment.Special */\n",
       ".cython .gd { color: #A00000 } /* Generic.Deleted */\n",
       ".cython .ge { font-style: italic } /* Generic.Emph */\n",
       ".cython .gr { color: #FF0000 } /* Generic.Error */\n",
       ".cython .gh { color: #000080; font-weight: bold } /* Generic.Heading */\n",
       ".cython .gi { color: #00A000 } /* Generic.Inserted */\n",
       ".cython .go { color: #888888 } /* Generic.Output */\n",
       ".cython .gp { color: #000080; font-weight: bold } /* Generic.Prompt */\n",
       ".cython .gs { font-weight: bold } /* Generic.Strong */\n",
       ".cython .gu { color: #800080; font-weight: bold } /* Generic.Subheading */\n",
       ".cython .gt { color: #0044DD } /* Generic.Traceback */\n",
       ".cython .kc { color: #008000; font-weight: bold } /* Keyword.Constant */\n",
       ".cython .kd { color: #008000; font-weight: bold } /* Keyword.Declaration */\n",
       ".cython .kn { color: #008000; font-weight: bold } /* Keyword.Namespace */\n",
       ".cython .kp { color: #008000 } /* Keyword.Pseudo */\n",
       ".cython .kr { color: #008000; font-weight: bold } /* Keyword.Reserved */\n",
       ".cython .kt { color: #B00040 } /* Keyword.Type */\n",
       ".cython .m { color: #666666 } /* Literal.Number */\n",
       ".cython .s { color: #BA2121 } /* Literal.String */\n",
       ".cython .na { color: #7D9029 } /* Name.Attribute */\n",
       ".cython .nb { color: #008000 } /* Name.Builtin */\n",
       ".cython .nc { color: #0000FF; font-weight: bold } /* Name.Class */\n",
       ".cython .no { color: #880000 } /* Name.Constant */\n",
       ".cython .nd { color: #AA22FF } /* Name.Decorator */\n",
       ".cython .ni { color: #999999; font-weight: bold } /* Name.Entity */\n",
       ".cython .ne { color: #D2413A; font-weight: bold } /* Name.Exception */\n",
       ".cython .nf { color: #0000FF } /* Name.Function */\n",
       ".cython .nl { color: #A0A000 } /* Name.Label */\n",
       ".cython .nn { color: #0000FF; font-weight: bold } /* Name.Namespace */\n",
       ".cython .nt { color: #008000; font-weight: bold } /* Name.Tag */\n",
       ".cython .nv { color: #19177C } /* Name.Variable */\n",
       ".cython .ow { color: #AA22FF; font-weight: bold } /* Operator.Word */\n",
       ".cython .w { color: #bbbbbb } /* Text.Whitespace */\n",
       ".cython .mb { color: #666666 } /* Literal.Number.Bin */\n",
       ".cython .mf { color: #666666 } /* Literal.Number.Float */\n",
       ".cython .mh { color: #666666 } /* Literal.Number.Hex */\n",
       ".cython .mi { color: #666666 } /* Literal.Number.Integer */\n",
       ".cython .mo { color: #666666 } /* Literal.Number.Oct */\n",
       ".cython .sa { color: #BA2121 } /* Literal.String.Affix */\n",
       ".cython .sb { color: #BA2121 } /* Literal.String.Backtick */\n",
       ".cython .sc { color: #BA2121 } /* Literal.String.Char */\n",
       ".cython .dl { color: #BA2121 } /* Literal.String.Delimiter */\n",
       ".cython .sd { color: #BA2121; font-style: italic } /* Literal.String.Doc */\n",
       ".cython .s2 { color: #BA2121 } /* Literal.String.Double */\n",
       ".cython .se { color: #BB6622; font-weight: bold } /* Literal.String.Escape */\n",
       ".cython .sh { color: #BA2121 } /* Literal.String.Heredoc */\n",
       ".cython .si { color: #BB6688; font-weight: bold } /* Literal.String.Interpol */\n",
       ".cython .sx { color: #008000 } /* Literal.String.Other */\n",
       ".cython .sr { color: #BB6688 } /* Literal.String.Regex */\n",
       ".cython .s1 { color: #BA2121 } /* Literal.String.Single */\n",
       ".cython .ss { color: #19177C } /* Literal.String.Symbol */\n",
       ".cython .bp { color: #008000 } /* Name.Builtin.Pseudo */\n",
       ".cython .fm { color: #0000FF } /* Name.Function.Magic */\n",
       ".cython .vc { color: #19177C } /* Name.Variable.Class */\n",
       ".cython .vg { color: #19177C } /* Name.Variable.Global */\n",
       ".cython .vi { color: #19177C } /* Name.Variable.Instance */\n",
       ".cython .vm { color: #19177C } /* Name.Variable.Magic */\n",
       ".cython .il { color: #666666 } /* Literal.Number.Integer.Long */\n",
       "    </style>\n",
       "    <script>\n",
       "    function toggleDiv(id) {\n",
       "        theDiv = id.nextElementSibling\n",
       "        if (theDiv.style.display != 'block') theDiv.style.display = 'block';\n",
       "        else theDiv.style.display = 'none';\n",
       "    }\n",
       "    </script>\n",
       "</head>\n",
       "<body class=\"cython\">\n",
       "<p><span style=\"border-bottom: solid 1px grey;\">Generated by Cython 0.25.2</span></p>\n",
       "<p>\n",
       "    <span style=\"background-color: #FFFF00\">Yellow lines</span> hint at Python interaction.<br />\n",
       "    Click on a line that starts with a \"<code>+</code>\" to see the C code that Cython generated for it.\n",
       "</p>\n",
       "<div class=\"cython\"><pre class=\"cython line score-11\" onclick='toggleDiv(this)'>+<span class=\"\">01</span>: <span class=\"c\"># cython: boundscheck=False</span></pre>\n",
       "<pre class='cython code score-11 '>  __pyx_t_1 = <span class='py_c_api'>PyDict_New</span>(); if (unlikely(!__pyx_t_1)) __PYX_ERR(0, 1, __pyx_L1_error)\n",
       "  <span class='refnanny'>__Pyx_GOTREF</span>(__pyx_t_1);\n",
       "  if (<span class='py_c_api'>PyDict_SetItem</span>(__pyx_d, __pyx_n_s_test, __pyx_t_1) &lt; 0) __PYX_ERR(0, 1, __pyx_L1_error)\n",
       "  <span class='pyx_macro_api'>__Pyx_DECREF</span>(__pyx_t_1); __pyx_t_1 = 0;\n",
       "</pre><pre class=\"cython line score-0\">&#xA0;<span class=\"\">02</span>: <span class=\"c\"># cython: wraparound=False</span></pre>\n",
       "<pre class=\"cython line score-0\">&#xA0;<span class=\"\">03</span>: </pre>\n",
       "<pre class=\"cython line score-0\">&#xA0;<span class=\"\">04</span>: </pre>\n",
       "<pre class=\"cython line score-8\" onclick='toggleDiv(this)'>+<span class=\"\">05</span>: <span class=\"k\">import</span> <span class=\"nn\">numpy</span> <span class=\"k\">as</span> <span class=\"nn\">np</span></pre>\n",
       "<pre class='cython code score-8 '>  __pyx_t_1 = <span class='pyx_c_api'>__Pyx_Import</span>(__pyx_n_s_numpy, 0, 0); if (unlikely(!__pyx_t_1)) __PYX_ERR(0, 5, __pyx_L1_error)\n",
       "  <span class='refnanny'>__Pyx_GOTREF</span>(__pyx_t_1);\n",
       "  if (<span class='py_c_api'>PyDict_SetItem</span>(__pyx_d, __pyx_n_s_np, __pyx_t_1) &lt; 0) __PYX_ERR(0, 5, __pyx_L1_error)\n",
       "  <span class='pyx_macro_api'>__Pyx_DECREF</span>(__pyx_t_1); __pyx_t_1 = 0;\n",
       "</pre><pre class=\"cython line score-0\">&#xA0;<span class=\"\">06</span>: <span class=\"k\">cimport</span> <span class=\"nn\">numpy</span> <span class=\"k\">as</span> <span class=\"nn\">np</span></pre>\n",
       "<pre class=\"cython line score-0\">&#xA0;<span class=\"\">07</span>: </pre>\n",
       "<pre class=\"cython line score-0\">&#xA0;<span class=\"\">08</span>: </pre>\n",
       "<pre class=\"cython line score-15\" onclick='toggleDiv(this)'>+<span class=\"\">09</span>: <span class=\"k\">def</span> <span class=\"nf\">myany</span><span class=\"p\">(</span><span class=\"n\">np</span><span class=\"o\">.</span><span class=\"n\">uint8_t</span><span class=\"p\">[:]</span> <span class=\"n\">a</span><span class=\"p\">):</span></pre>\n",
       "<pre class='cython code score-15 '>/* Python wrapper */\n",
       "static PyObject *__pyx_pw_46_cython_magic_484830abca14b482435ae73118fbca84_1myany(PyObject *__pyx_self, PyObject *__pyx_arg_a); /*proto*/\n",
       "static PyMethodDef __pyx_mdef_46_cython_magic_484830abca14b482435ae73118fbca84_1myany = {\"myany\", (PyCFunction)__pyx_pw_46_cython_magic_484830abca14b482435ae73118fbca84_1myany, METH_O, 0};\n",
       "static PyObject *__pyx_pw_46_cython_magic_484830abca14b482435ae73118fbca84_1myany(PyObject *__pyx_self, PyObject *__pyx_arg_a) {\n",
       "  __Pyx_memviewslice __pyx_v_a = { 0, 0, { 0 }, { 0 }, { 0 } };\n",
       "  PyObject *__pyx_r = 0;\n",
       "  <span class='refnanny'>__Pyx_RefNannyDeclarations</span>\n",
       "  <span class='refnanny'>__Pyx_RefNannySetupContext</span>(\"myany (wrapper)\", 0);\n",
       "  assert(__pyx_arg_a); {\n",
       "    __pyx_v_a = __Pyx_PyObject_to_MemoryviewSlice_ds_nn___pyx_t_5numpy_uint8_t(__pyx_arg_a); if (unlikely(!__pyx_v_a.memview)) __PYX_ERR(0, 9, __pyx_L3_error)\n",
       "  }\n",
       "  goto __pyx_L4_argument_unpacking_done;\n",
       "  __pyx_L3_error:;\n",
       "  <span class='pyx_c_api'>__Pyx_AddTraceback</span>(\"_cython_magic_484830abca14b482435ae73118fbca84.myany\", __pyx_clineno, __pyx_lineno, __pyx_filename);\n",
       "  <span class='refnanny'>__Pyx_RefNannyFinishContext</span>();\n",
       "  return NULL;\n",
       "  __pyx_L4_argument_unpacking_done:;\n",
       "  __pyx_r = __pyx_pf_46_cython_magic_484830abca14b482435ae73118fbca84_myany(__pyx_self, __pyx_v_a);\n",
       "\n",
       "  /* function exit code */\n",
       "  <span class='refnanny'>__Pyx_RefNannyFinishContext</span>();\n",
       "  return __pyx_r;\n",
       "}\n",
       "\n",
       "static PyObject *__pyx_pf_46_cython_magic_484830abca14b482435ae73118fbca84_myany(CYTHON_UNUSED PyObject *__pyx_self, __Pyx_memviewslice __pyx_v_a) {\n",
       "  int __pyx_v_i;\n",
       "  int __pyx_v_n;\n",
       "  __pyx_t_5numpy_uint8_t *__pyx_v_data;\n",
       "  PyObject *__pyx_r = NULL;\n",
       "  <span class='refnanny'>__Pyx_RefNannyDeclarations</span>\n",
       "  <span class='refnanny'>__Pyx_RefNannySetupContext</span>(\"myany\", 0);\n",
       "/* … */\n",
       "  /* function exit code */\n",
       "  __pyx_L0:;\n",
       "  __PYX_XDEC_MEMVIEW(&amp;__pyx_v_a, 1);\n",
       "  <span class='refnanny'>__Pyx_XGIVEREF</span>(__pyx_r);\n",
       "  <span class='refnanny'>__Pyx_RefNannyFinishContext</span>();\n",
       "  return __pyx_r;\n",
       "}\n",
       "/* … */\n",
       "  __pyx_tuple__23 = <span class='py_c_api'>PyTuple_Pack</span>(5, __pyx_n_s_a, __pyx_n_s_a, __pyx_n_s_i, __pyx_n_s_n, __pyx_n_s_data); if (unlikely(!__pyx_tuple__23)) __PYX_ERR(0, 9, __pyx_L1_error)\n",
       "  <span class='refnanny'>__Pyx_GOTREF</span>(__pyx_tuple__23);\n",
       "  <span class='refnanny'>__Pyx_GIVEREF</span>(__pyx_tuple__23);\n",
       "/* … */\n",
       "  __pyx_t_1 = PyCFunction_NewEx(&amp;__pyx_mdef_46_cython_magic_484830abca14b482435ae73118fbca84_1myany, NULL, __pyx_n_s_cython_magic_484830abca14b48243); if (unlikely(!__pyx_t_1)) __PYX_ERR(0, 9, __pyx_L1_error)\n",
       "  <span class='refnanny'>__Pyx_GOTREF</span>(__pyx_t_1);\n",
       "  if (<span class='py_c_api'>PyDict_SetItem</span>(__pyx_d, __pyx_n_s_myany, __pyx_t_1) &lt; 0) __PYX_ERR(0, 9, __pyx_L1_error)\n",
       "  <span class='pyx_macro_api'>__Pyx_DECREF</span>(__pyx_t_1); __pyx_t_1 = 0;\n",
       "  __pyx_codeobj__24 = (PyObject*)<span class='pyx_c_api'>__Pyx_PyCode_New</span>(1, 0, 5, 0, 0, __pyx_empty_bytes, __pyx_empty_tuple, __pyx_empty_tuple, __pyx_tuple__23, __pyx_empty_tuple, __pyx_empty_tuple, __pyx_kp_s_home_aliman_cache_ipython_cytho, __pyx_n_s_myany, 9, __pyx_empty_bytes); if (unlikely(!__pyx_codeobj__24)) __PYX_ERR(0, 9, __pyx_L1_error)\n",
       "</pre><pre class=\"cython line score-0\">&#xA0;<span class=\"\">10</span>:     <span class=\"k\">cdef</span><span class=\"p\">:</span></pre>\n",
       "<pre class=\"cython line score-0\">&#xA0;<span class=\"\">11</span>:         <span class=\"nb\">int</span> <span class=\"n\">i</span><span class=\"p\">,</span> <span class=\"n\">n</span></pre>\n",
       "<pre class=\"cython line score-0\" onclick='toggleDiv(this)'>+<span class=\"\">12</span>:         <span class=\"n\">np</span><span class=\"o\">.</span><span class=\"n\">uint8_t</span><span class=\"o\">*</span> <span class=\"n\">data</span> <span class=\"o\">=</span> <span class=\"o\">&amp;</span><span class=\"n\">a</span><span class=\"p\">[</span><span class=\"mf\">0</span><span class=\"p\">]</span></pre>\n",
       "<pre class='cython code score-0 '>  __pyx_t_1 = 0;\n",
       "  __pyx_v_data = (&amp;(*((__pyx_t_5numpy_uint8_t *) ( /* dim=0 */ (__pyx_v_a.data + __pyx_t_1 * __pyx_v_a.strides[0]) ))));\n",
       "</pre><pre class=\"cython line score-0\" onclick='toggleDiv(this)'>+<span class=\"\">13</span>:     <span class=\"n\">n</span> <span class=\"o\">=</span> <span class=\"n\">a</span><span class=\"o\">.</span><span class=\"n\">shape</span><span class=\"p\">[</span><span class=\"mf\">0</span><span class=\"p\">]</span></pre>\n",
       "<pre class='cython code score-0 '>  __pyx_v_n = (__pyx_v_a.shape[0]);\n",
       "</pre><pre class=\"cython line score-0\" onclick='toggleDiv(this)'>+<span class=\"\">14</span>:     <span class=\"k\">for</span> <span class=\"n\">i</span> <span class=\"ow\">in</span> <span class=\"nb\">range</span><span class=\"p\">(</span><span class=\"n\">n</span><span class=\"p\">):</span></pre>\n",
       "<pre class='cython code score-0 '>  __pyx_t_2 = __pyx_v_n;\n",
       "  for (__pyx_t_3 = 0; __pyx_t_3 &lt; __pyx_t_2; __pyx_t_3+=1) {\n",
       "    __pyx_v_i = __pyx_t_3;\n",
       "</pre><pre class=\"cython line score-0\" onclick='toggleDiv(this)'>+<span class=\"\">15</span>:         <span class=\"k\">if</span> <span class=\"n\">data</span><span class=\"p\">[</span><span class=\"n\">i</span><span class=\"p\">]</span> <span class=\"o\">!=</span> <span class=\"mf\">0</span><span class=\"p\">:</span></pre>\n",
       "<pre class='cython code score-0 '>    __pyx_t_4 = (((__pyx_v_data[__pyx_v_i]) != 0) != 0);\n",
       "    if (__pyx_t_4) {\n",
       "/* … */\n",
       "    }\n",
       "  }\n",
       "</pre><pre class=\"cython line score-2\" onclick='toggleDiv(this)'>+<span class=\"\">16</span>:             <span class=\"k\">return</span> <span class=\"bp\">True</span></pre>\n",
       "<pre class='cython code score-2 '>      <span class='pyx_macro_api'>__Pyx_XDECREF</span>(__pyx_r);\n",
       "      <span class='pyx_macro_api'>__Pyx_INCREF</span>(Py_True);\n",
       "      __pyx_r = Py_True;\n",
       "      goto __pyx_L0;\n",
       "</pre><pre class=\"cython line score-2\" onclick='toggleDiv(this)'>+<span class=\"\">17</span>:     <span class=\"k\">return</span> <span class=\"bp\">False</span></pre>\n",
       "<pre class='cython code score-2 '>  <span class='pyx_macro_api'>__Pyx_XDECREF</span>(__pyx_r);\n",
       "  <span class='pyx_macro_api'>__Pyx_INCREF</span>(Py_False);\n",
       "  __pyx_r = Py_False;\n",
       "  goto __pyx_L0;\n",
       "</pre><pre class=\"cython line score-0\">&#xA0;<span class=\"\">18</span>: </pre>\n",
       "<pre class=\"cython line score-0\">&#xA0;<span class=\"\">19</span>: </pre>\n",
       "<pre class=\"cython line score-18\" onclick='toggleDiv(this)'>+<span class=\"\">20</span>: <span class=\"k\">def</span> <span class=\"nf\">mynnz</span><span class=\"p\">(</span><span class=\"n\">np</span><span class=\"o\">.</span><span class=\"n\">uint8_t</span><span class=\"p\">[:]</span> <span class=\"n\">a</span><span class=\"p\">):</span></pre>\n",
       "<pre class='cython code score-18 '>/* Python wrapper */\n",
       "static PyObject *__pyx_pw_46_cython_magic_484830abca14b482435ae73118fbca84_3mynnz(PyObject *__pyx_self, PyObject *__pyx_arg_a); /*proto*/\n",
       "static PyMethodDef __pyx_mdef_46_cython_magic_484830abca14b482435ae73118fbca84_3mynnz = {\"mynnz\", (PyCFunction)__pyx_pw_46_cython_magic_484830abca14b482435ae73118fbca84_3mynnz, METH_O, 0};\n",
       "static PyObject *__pyx_pw_46_cython_magic_484830abca14b482435ae73118fbca84_3mynnz(PyObject *__pyx_self, PyObject *__pyx_arg_a) {\n",
       "  __Pyx_memviewslice __pyx_v_a = { 0, 0, { 0 }, { 0 }, { 0 } };\n",
       "  PyObject *__pyx_r = 0;\n",
       "  <span class='refnanny'>__Pyx_RefNannyDeclarations</span>\n",
       "  <span class='refnanny'>__Pyx_RefNannySetupContext</span>(\"mynnz (wrapper)\", 0);\n",
       "  assert(__pyx_arg_a); {\n",
       "    __pyx_v_a = __Pyx_PyObject_to_MemoryviewSlice_ds_nn___pyx_t_5numpy_uint8_t(__pyx_arg_a); if (unlikely(!__pyx_v_a.memview)) __PYX_ERR(0, 20, __pyx_L3_error)\n",
       "  }\n",
       "  goto __pyx_L4_argument_unpacking_done;\n",
       "  __pyx_L3_error:;\n",
       "  <span class='pyx_c_api'>__Pyx_AddTraceback</span>(\"_cython_magic_484830abca14b482435ae73118fbca84.mynnz\", __pyx_clineno, __pyx_lineno, __pyx_filename);\n",
       "  <span class='refnanny'>__Pyx_RefNannyFinishContext</span>();\n",
       "  return NULL;\n",
       "  __pyx_L4_argument_unpacking_done:;\n",
       "  __pyx_r = __pyx_pf_46_cython_magic_484830abca14b482435ae73118fbca84_2mynnz(__pyx_self, __pyx_v_a);\n",
       "\n",
       "  /* function exit code */\n",
       "  <span class='refnanny'>__Pyx_RefNannyFinishContext</span>();\n",
       "  return __pyx_r;\n",
       "}\n",
       "\n",
       "static PyObject *__pyx_pf_46_cython_magic_484830abca14b482435ae73118fbca84_2mynnz(CYTHON_UNUSED PyObject *__pyx_self, __Pyx_memviewslice __pyx_v_a) {\n",
       "  int __pyx_v_i;\n",
       "  int __pyx_v_n;\n",
       "  int __pyx_v_c;\n",
       "  __pyx_t_5numpy_uint8_t *__pyx_v_data;\n",
       "  PyObject *__pyx_r = NULL;\n",
       "  <span class='refnanny'>__Pyx_RefNannyDeclarations</span>\n",
       "  <span class='refnanny'>__Pyx_RefNannySetupContext</span>(\"mynnz\", 0);\n",
       "/* … */\n",
       "  /* function exit code */\n",
       "  __pyx_L1_error:;\n",
       "  <span class='pyx_macro_api'>__Pyx_XDECREF</span>(__pyx_t_5);\n",
       "  <span class='pyx_c_api'>__Pyx_AddTraceback</span>(\"_cython_magic_484830abca14b482435ae73118fbca84.mynnz\", __pyx_clineno, __pyx_lineno, __pyx_filename);\n",
       "  __pyx_r = NULL;\n",
       "  __pyx_L0:;\n",
       "  __PYX_XDEC_MEMVIEW(&amp;__pyx_v_a, 1);\n",
       "  <span class='refnanny'>__Pyx_XGIVEREF</span>(__pyx_r);\n",
       "  <span class='refnanny'>__Pyx_RefNannyFinishContext</span>();\n",
       "  return __pyx_r;\n",
       "}\n",
       "/* … */\n",
       "  __pyx_tuple__25 = <span class='py_c_api'>PyTuple_Pack</span>(6, __pyx_n_s_a, __pyx_n_s_a, __pyx_n_s_i, __pyx_n_s_n, __pyx_n_s_c, __pyx_n_s_data); if (unlikely(!__pyx_tuple__25)) __PYX_ERR(0, 20, __pyx_L1_error)\n",
       "  <span class='refnanny'>__Pyx_GOTREF</span>(__pyx_tuple__25);\n",
       "  <span class='refnanny'>__Pyx_GIVEREF</span>(__pyx_tuple__25);\n",
       "/* … */\n",
       "  __pyx_t_1 = PyCFunction_NewEx(&amp;__pyx_mdef_46_cython_magic_484830abca14b482435ae73118fbca84_3mynnz, NULL, __pyx_n_s_cython_magic_484830abca14b48243); if (unlikely(!__pyx_t_1)) __PYX_ERR(0, 20, __pyx_L1_error)\n",
       "  <span class='refnanny'>__Pyx_GOTREF</span>(__pyx_t_1);\n",
       "  if (<span class='py_c_api'>PyDict_SetItem</span>(__pyx_d, __pyx_n_s_mynnz, __pyx_t_1) &lt; 0) __PYX_ERR(0, 20, __pyx_L1_error)\n",
       "  <span class='pyx_macro_api'>__Pyx_DECREF</span>(__pyx_t_1); __pyx_t_1 = 0;\n",
       "  __pyx_codeobj__26 = (PyObject*)<span class='pyx_c_api'>__Pyx_PyCode_New</span>(1, 0, 6, 0, 0, __pyx_empty_bytes, __pyx_empty_tuple, __pyx_empty_tuple, __pyx_tuple__25, __pyx_empty_tuple, __pyx_empty_tuple, __pyx_kp_s_home_aliman_cache_ipython_cytho, __pyx_n_s_mynnz, 20, __pyx_empty_bytes); if (unlikely(!__pyx_codeobj__26)) __PYX_ERR(0, 20, __pyx_L1_error)\n",
       "</pre><pre class=\"cython line score-0\">&#xA0;<span class=\"\">21</span>:     <span class=\"k\">cdef</span><span class=\"p\">:</span></pre>\n",
       "<pre class=\"cython line score-0\">&#xA0;<span class=\"\">22</span>:         <span class=\"nb\">int</span> <span class=\"n\">i</span><span class=\"p\">,</span> <span class=\"n\">n</span><span class=\"p\">,</span> <span class=\"n\">c</span></pre>\n",
       "<pre class=\"cython line score-0\" onclick='toggleDiv(this)'>+<span class=\"\">23</span>:         <span class=\"n\">np</span><span class=\"o\">.</span><span class=\"n\">uint8_t</span><span class=\"o\">*</span> <span class=\"n\">data</span> <span class=\"o\">=</span> <span class=\"o\">&amp;</span><span class=\"n\">a</span><span class=\"p\">[</span><span class=\"mf\">0</span><span class=\"p\">]</span></pre>\n",
       "<pre class='cython code score-0 '>  __pyx_t_1 = 0;\n",
       "  __pyx_v_data = (&amp;(*((__pyx_t_5numpy_uint8_t *) ( /* dim=0 */ (__pyx_v_a.data + __pyx_t_1 * __pyx_v_a.strides[0]) ))));\n",
       "</pre><pre class=\"cython line score-0\" onclick='toggleDiv(this)'>+<span class=\"\">24</span>:     <span class=\"n\">c</span> <span class=\"o\">=</span> <span class=\"mf\">0</span></pre>\n",
       "<pre class='cython code score-0 '>  __pyx_v_c = 0;\n",
       "</pre><pre class=\"cython line score-0\" onclick='toggleDiv(this)'>+<span class=\"\">25</span>:     <span class=\"n\">n</span> <span class=\"o\">=</span> <span class=\"n\">a</span><span class=\"o\">.</span><span class=\"n\">shape</span><span class=\"p\">[</span><span class=\"mf\">0</span><span class=\"p\">]</span></pre>\n",
       "<pre class='cython code score-0 '>  __pyx_v_n = (__pyx_v_a.shape[0]);\n",
       "</pre><pre class=\"cython line score-0\" onclick='toggleDiv(this)'>+<span class=\"\">26</span>:     <span class=\"k\">for</span> <span class=\"n\">i</span> <span class=\"ow\">in</span> <span class=\"nb\">range</span><span class=\"p\">(</span><span class=\"n\">n</span><span class=\"p\">):</span></pre>\n",
       "<pre class='cython code score-0 '>  __pyx_t_2 = __pyx_v_n;\n",
       "  for (__pyx_t_3 = 0; __pyx_t_3 &lt; __pyx_t_2; __pyx_t_3+=1) {\n",
       "    __pyx_v_i = __pyx_t_3;\n",
       "</pre><pre class=\"cython line score-0\" onclick='toggleDiv(this)'>+<span class=\"\">27</span>:         <span class=\"k\">if</span> <span class=\"n\">data</span><span class=\"p\">[</span><span class=\"n\">i</span><span class=\"p\">]</span> <span class=\"o\">!=</span> <span class=\"mf\">0</span><span class=\"p\">:</span></pre>\n",
       "<pre class='cython code score-0 '>    __pyx_t_4 = (((__pyx_v_data[__pyx_v_i]) != 0) != 0);\n",
       "    if (__pyx_t_4) {\n",
       "/* … */\n",
       "    }\n",
       "  }\n",
       "</pre><pre class=\"cython line score-0\" onclick='toggleDiv(this)'>+<span class=\"\">28</span>:             <span class=\"n\">c</span> <span class=\"o\">+=</span> <span class=\"mf\">1</span></pre>\n",
       "<pre class='cython code score-0 '>      __pyx_v_c = (__pyx_v_c + 1);\n",
       "</pre><pre class=\"cython line score-3\" onclick='toggleDiv(this)'>+<span class=\"\">29</span>:     <span class=\"k\">return</span> <span class=\"n\">c</span></pre>\n",
       "<pre class='cython code score-3 '>  <span class='pyx_macro_api'>__Pyx_XDECREF</span>(__pyx_r);\n",
       "  __pyx_t_5 = <span class='pyx_c_api'>__Pyx_PyInt_From_int</span>(__pyx_v_c); if (unlikely(!__pyx_t_5)) __PYX_ERR(0, 29, __pyx_L1_error)\n",
       "  <span class='refnanny'>__Pyx_GOTREF</span>(__pyx_t_5);\n",
       "  __pyx_r = __pyx_t_5;\n",
       "  __pyx_t_5 = 0;\n",
       "  goto __pyx_L0;\n",
       "</pre><pre class=\"cython line score-0\">&#xA0;<span class=\"\">30</span>: </pre>\n",
       "</div></body></html>"
      ],
      "text/plain": [
       "<IPython.core.display.HTML object>"
      ]
     },
     "execution_count": 117,
     "metadata": {},
     "output_type": "execute_result"
    }
   ],
   "source": [
    "%%cython -a\n",
    "# cython: boundscheck=False\n",
    "# cython: wraparound=False\n",
    "\n",
    "\n",
    "import numpy as np\n",
    "cimport numpy as np\n",
    "\n",
    "\n",
    "def myany(np.uint8_t[:] a):\n",
    "    cdef:\n",
    "        int i, n\n",
    "        np.uint8_t* data = &a[0]\n",
    "    n = a.shape[0]\n",
    "    for i in range(n):\n",
    "        if data[i] != 0:\n",
    "            return True\n",
    "    return False\n",
    "    \n",
    "    \n",
    "def mynnz(np.uint8_t[:] a):\n",
    "    cdef:\n",
    "        int i, n, c\n",
    "        np.uint8_t* data = &a[0]\n",
    "    c = 0\n",
    "    n = a.shape[0]\n",
    "    for i in range(n):\n",
    "        if data[i] != 0:\n",
    "            c += 1\n",
    "    return c\n",
    "        "
   ]
  },
  {
   "cell_type": "code",
   "execution_count": 89,
   "metadata": {},
   "outputs": [
    {
     "name": "stdout",
     "output_type": "stream",
     "text": [
      "2.6 µs ± 125 ns per loop (mean ± std. dev. of 7 runs, 100000 loops each)\n"
     ]
    }
   ],
   "source": [
    "%timeit np.any(a)"
   ]
  },
  {
   "cell_type": "code",
   "execution_count": 116,
   "metadata": {},
   "outputs": [
    {
     "name": "stdout",
     "output_type": "stream",
     "text": [
      "384 ns ± 3.19 ns per loop (mean ± std. dev. of 7 runs, 1000000 loops each)\n"
     ]
    }
   ],
   "source": [
    "b = a.view('u1')\n",
    "%timeit myany(b)"
   ]
  },
  {
   "cell_type": "code",
   "execution_count": 118,
   "metadata": {},
   "outputs": [
    {
     "name": "stdout",
     "output_type": "stream",
     "text": [
      "6.35 µs ± 60.4 ns per loop (mean ± std. dev. of 7 runs, 100000 loops each)\n"
     ]
    }
   ],
   "source": [
    "b = a.view('u1')\n",
    "%timeit mynnz(b)"
   ]
  },
  {
   "cell_type": "code",
   "execution_count": 65,
   "metadata": {
    "collapsed": true
   },
   "outputs": [],
   "source": [
    "a = np.zeros(10000, dtype=bool)\n",
    "a[np.random.randint(1, 10000, 1000)] = True\n",
    "b = np.zeros(10000, dtype=bool)\n",
    "b[np.random.randint(1, 10000, 1000)] = True\n",
    "a = np.packbits(a)\n",
    "b = np.packbits(b)"
   ]
  },
  {
   "cell_type": "code",
   "execution_count": 66,
   "metadata": {},
   "outputs": [
    {
     "name": "stdout",
     "output_type": "stream",
     "text": [
      "686 ns ± 5.77 ns per loop (mean ± std. dev. of 7 runs, 1000000 loops each)\n"
     ]
    }
   ],
   "source": [
    "%timeit np.bitwise_and(a, b)"
   ]
  },
  {
   "cell_type": "code",
   "execution_count": 68,
   "metadata": {},
   "outputs": [
    {
     "data": {
      "text/plain": [
       "(10000,)"
      ]
     },
     "execution_count": 68,
     "metadata": {},
     "output_type": "execute_result"
    }
   ],
   "source": [
    "np.unpackbits(a).shape"
   ]
  },
  {
   "cell_type": "code",
   "execution_count": 69,
   "metadata": {},
   "outputs": [
    {
     "data": {
      "text/plain": [
       "array([64], dtype=uint8)"
      ]
     },
     "execution_count": 69,
     "metadata": {},
     "output_type": "execute_result"
    }
   ],
   "source": [
    "np.packbits([0, 1, 0])"
   ]
  },
  {
   "cell_type": "code",
   "execution_count": 72,
   "metadata": {},
   "outputs": [
    {
     "data": {
      "text/plain": [
       "array([0, 1, 0, 0, 0, 0, 0, 0], dtype=uint8)"
      ]
     },
     "execution_count": 72,
     "metadata": {},
     "output_type": "execute_result"
    }
   ],
   "source": [
    "np.unpackbits(np.array([64], dtype='uint8'))"
   ]
  },
  {
   "cell_type": "code",
   "execution_count": 46,
   "metadata": {
    "collapsed": true
   },
   "outputs": [],
   "source": [
    "a = b'012'\n",
    "b = b'121'"
   ]
  },
  {
   "cell_type": "code",
   "execution_count": 47,
   "metadata": {},
   "outputs": [
    {
     "ename": "TypeError",
     "evalue": "unsupported operand type(s) for |: 'bytes' and 'bytes'",
     "output_type": "error",
     "traceback": [
      "\u001b[0;31m---------------------------------------------------------------------------\u001b[0m",
      "\u001b[0;31mTypeError\u001b[0m                                 Traceback (most recent call last)",
      "\u001b[0;32m<ipython-input-47-9994be362380>\u001b[0m in \u001b[0;36m<module>\u001b[0;34m()\u001b[0m\n\u001b[0;32m----> 1\u001b[0;31m \u001b[0ma\u001b[0m \u001b[0;34m|\u001b[0m \u001b[0mb\u001b[0m\u001b[0;34m\u001b[0m\u001b[0m\n\u001b[0m",
      "\u001b[0;31mTypeError\u001b[0m: unsupported operand type(s) for |: 'bytes' and 'bytes'"
     ]
    }
   ],
   "source": [
    "a | b"
   ]
  },
  {
   "cell_type": "code",
   "execution_count": null,
   "metadata": {
    "collapsed": true
   },
   "outputs": [],
   "source": [
    "%timeit "
   ]
  },
  {
   "cell_type": "code",
   "execution_count": 29,
   "metadata": {},
   "outputs": [
    {
     "data": {
      "text/plain": [
       "88"
      ]
     },
     "execution_count": 29,
     "metadata": {},
     "output_type": "execute_result"
    }
   ],
   "source": [
    "np.count_nonzero(a & b)"
   ]
  },
  {
   "cell_type": "code",
   "execution_count": 26,
   "metadata": {},
   "outputs": [
    {
     "ename": "KeyboardInterrupt",
     "evalue": "",
     "output_type": "error",
     "traceback": [
      "\u001b[0;31m---------------------------------------------------------------------------\u001b[0m",
      "\u001b[0;31mKeyboardInterrupt\u001b[0m                         Traceback (most recent call last)",
      "\u001b[0;32m<timed eval>\u001b[0m in \u001b[0;36m<module>\u001b[0;34m()\u001b[0m\n",
      "\u001b[0;32m~/src/github/alimanfoo/agam-vgsc-report/agam-report-base/src/python/hapclust_opt.pyx\u001b[0m in \u001b[0;36mhapclust_opt.locate_breakpoints_by_4gametes_opt (/home/aliman/.pyxbld/temp.linux-x86_64-3.5/pyrex/hapclust_opt.c:4417)\u001b[0;34m()\u001b[0m\n",
      "\u001b[0;32m~/src/github/alimanfoo/agam-vgsc-report/agam-report-base/src/python/hapclust_opt.pyx\u001b[0m in \u001b[0;36mhapclust_opt._count_gametes (/home/aliman/.pyxbld/temp.linux-x86_64-3.5/pyrex/hapclust_opt.c:3112)\u001b[0;34m()\u001b[0m\n",
      "\u001b[0;32m~/src/github/alimanfoo/agam-vgsc-report/dependencies/miniconda/envs/agam-report-base/lib/python3.5/site-packages/numpy/core/fromnumeric.py\u001b[0m in \u001b[0;36msum\u001b[0;34m(a, axis, dtype, out, keepdims)\u001b[0m\n\u001b[1;32m   1812\u001b[0m             \u001b[0;32mreturn\u001b[0m \u001b[0msum\u001b[0m\u001b[0;34m(\u001b[0m\u001b[0maxis\u001b[0m\u001b[0;34m=\u001b[0m\u001b[0maxis\u001b[0m\u001b[0;34m,\u001b[0m \u001b[0mdtype\u001b[0m\u001b[0;34m=\u001b[0m\u001b[0mdtype\u001b[0m\u001b[0;34m,\u001b[0m \u001b[0mout\u001b[0m\u001b[0;34m=\u001b[0m\u001b[0mout\u001b[0m\u001b[0;34m,\u001b[0m \u001b[0;34m**\u001b[0m\u001b[0mkwargs\u001b[0m\u001b[0;34m)\u001b[0m\u001b[0;34m\u001b[0m\u001b[0m\n\u001b[1;32m   1813\u001b[0m     return _methods._sum(a, axis=axis, dtype=dtype,\n\u001b[0;32m-> 1814\u001b[0;31m                          out=out, **kwargs)\n\u001b[0m\u001b[1;32m   1815\u001b[0m \u001b[0;34m\u001b[0m\u001b[0m\n\u001b[1;32m   1816\u001b[0m \u001b[0;34m\u001b[0m\u001b[0m\n",
      "\u001b[0;32m~/src/github/alimanfoo/agam-vgsc-report/dependencies/miniconda/envs/agam-report-base/lib/python3.5/site-packages/numpy/core/_methods.py\u001b[0m in \u001b[0;36m_sum\u001b[0;34m(a, axis, dtype, out, keepdims)\u001b[0m\n\u001b[1;32m     30\u001b[0m \u001b[0;34m\u001b[0m\u001b[0m\n\u001b[1;32m     31\u001b[0m \u001b[0;32mdef\u001b[0m \u001b[0m_sum\u001b[0m\u001b[0;34m(\u001b[0m\u001b[0ma\u001b[0m\u001b[0;34m,\u001b[0m \u001b[0maxis\u001b[0m\u001b[0;34m=\u001b[0m\u001b[0;32mNone\u001b[0m\u001b[0;34m,\u001b[0m \u001b[0mdtype\u001b[0m\u001b[0;34m=\u001b[0m\u001b[0;32mNone\u001b[0m\u001b[0;34m,\u001b[0m \u001b[0mout\u001b[0m\u001b[0;34m=\u001b[0m\u001b[0;32mNone\u001b[0m\u001b[0;34m,\u001b[0m \u001b[0mkeepdims\u001b[0m\u001b[0;34m=\u001b[0m\u001b[0;32mFalse\u001b[0m\u001b[0;34m)\u001b[0m\u001b[0;34m:\u001b[0m\u001b[0;34m\u001b[0m\u001b[0m\n\u001b[0;32m---> 32\u001b[0;31m     \u001b[0;32mreturn\u001b[0m \u001b[0mumr_sum\u001b[0m\u001b[0;34m(\u001b[0m\u001b[0ma\u001b[0m\u001b[0;34m,\u001b[0m \u001b[0maxis\u001b[0m\u001b[0;34m,\u001b[0m \u001b[0mdtype\u001b[0m\u001b[0;34m,\u001b[0m \u001b[0mout\u001b[0m\u001b[0;34m,\u001b[0m \u001b[0mkeepdims\u001b[0m\u001b[0;34m)\u001b[0m\u001b[0;34m\u001b[0m\u001b[0m\n\u001b[0m\u001b[1;32m     33\u001b[0m \u001b[0;34m\u001b[0m\u001b[0m\n\u001b[1;32m     34\u001b[0m \u001b[0;32mdef\u001b[0m \u001b[0m_prod\u001b[0m\u001b[0;34m(\u001b[0m\u001b[0ma\u001b[0m\u001b[0;34m,\u001b[0m \u001b[0maxis\u001b[0m\u001b[0;34m=\u001b[0m\u001b[0;32mNone\u001b[0m\u001b[0;34m,\u001b[0m \u001b[0mdtype\u001b[0m\u001b[0;34m=\u001b[0m\u001b[0;32mNone\u001b[0m\u001b[0;34m,\u001b[0m \u001b[0mout\u001b[0m\u001b[0;34m=\u001b[0m\u001b[0;32mNone\u001b[0m\u001b[0;34m,\u001b[0m \u001b[0mkeepdims\u001b[0m\u001b[0;34m=\u001b[0m\u001b[0;32mFalse\u001b[0m\u001b[0;34m)\u001b[0m\u001b[0;34m:\u001b[0m\u001b[0;34m\u001b[0m\u001b[0m\n",
      "\u001b[0;31mKeyboardInterrupt\u001b[0m: "
     ]
    }
   ],
   "source": [
    "%time hapclust.locate_breakpoints_by_4gametes_opt(h[:, :], seed=1)"
   ]
  },
  {
   "cell_type": "code",
   "execution_count": 24,
   "metadata": {
    "collapsed": true
   },
   "outputs": [],
   "source": [
    "from hapclust import locate_breakpoints_by_4gametes"
   ]
  },
  {
   "cell_type": "code",
   "execution_count": 25,
   "metadata": {},
   "outputs": [
    {
     "name": "stdout",
     "output_type": "stream",
     "text": [
      "The line_profiler extension is already loaded. To reload it, use:\n",
      "  %reload_ext line_profiler\n"
     ]
    }
   ],
   "source": [
    "import line_profiler\n",
    "%load_ext line_profiler"
   ]
  },
  {
   "cell_type": "code",
   "execution_count": 77,
   "metadata": {
    "collapsed": true
   },
   "outputs": [],
   "source": [
    "%lprun -f locate_breakpoints_by_4gametes locate_breakpoints_by_4gametes(h[:5000, :])"
   ]
  },
  {
   "cell_type": "code",
   "execution_count": 21,
   "metadata": {},
   "outputs": [
    {
     "name": "stdout",
     "output_type": "stream",
     "text": [
      "foo\n"
     ]
    }
   ],
   "source": [
    "%lprun -f locate_breakpoints_by_4gametes_opt locate_breakpoints_by_4gametes_opt(h[:100, :1000])"
   ]
  },
  {
   "cell_type": "code",
   "execution_count": 21,
   "metadata": {},
   "outputs": [
    {
     "data": {
      "text/plain": [
       "1"
      ]
     },
     "execution_count": 21,
     "metadata": {},
     "output_type": "execute_result"
    }
   ],
   "source": [
    "random.seed(42)\n",
    "\n",
    "import random\n",
    "random.choice([1, 2])"
   ]
  },
  {
   "cell_type": "code",
   "execution_count": 48,
   "metadata": {
    "collapsed": true
   },
   "outputs": [],
   "source": [
    "hs = h[:, h.prefix_argsort()]"
   ]
  },
  {
   "cell_type": "code",
   "execution_count": 57,
   "metadata": {
    "collapsed": true
   },
   "outputs": [],
   "source": [
    "def spike_breaks(n, randomize=True, seed=None):\n",
    "\n",
    "    breaks = hapclust.locate_breakpoints_by_4gametes(hs[:, :n], randomize=randomize, seed=seed)\n",
    "#     print(breaks)\n",
    "\n",
    "    breaks[breaks == hs.shape[0]] = hs.shape[0] - 1\n",
    "    breaks_dist = dist_right[breaks]\n",
    "\n",
    "    breaks_pdist = np.zeros((n, n), dtype=int)\n",
    "    for i, j in itertools.combinations(range(n), 2):\n",
    "        d = min(breaks_dist[[i, j]])\n",
    "        breaks_pdist[i, j] = d\n",
    "        breaks_pdist[j, i] = d\n",
    "\n",
    "    breaks_pdist_cond = scipy.spatial.distance.squareform(breaks_pdist)\n",
    "\n",
    "    return breaks_pdist_cond\n"
   ]
  },
  {
   "cell_type": "code",
   "execution_count": 58,
   "metadata": {
    "collapsed": true
   },
   "outputs": [],
   "source": [
    "x1 = spike_breaks(100, randomize=False)"
   ]
  },
  {
   "cell_type": "code",
   "execution_count": 61,
   "metadata": {},
   "outputs": [
    {
     "data": {
      "application/javascript": [
       "/* Put everything inside the global mpl namespace */\n",
       "window.mpl = {};\n",
       "\n",
       "\n",
       "mpl.get_websocket_type = function() {\n",
       "    if (typeof(WebSocket) !== 'undefined') {\n",
       "        return WebSocket;\n",
       "    } else if (typeof(MozWebSocket) !== 'undefined') {\n",
       "        return MozWebSocket;\n",
       "    } else {\n",
       "        alert('Your browser does not have WebSocket support.' +\n",
       "              'Please try Chrome, Safari or Firefox ≥ 6. ' +\n",
       "              'Firefox 4 and 5 are also supported but you ' +\n",
       "              'have to enable WebSockets in about:config.');\n",
       "    };\n",
       "}\n",
       "\n",
       "mpl.figure = function(figure_id, websocket, ondownload, parent_element) {\n",
       "    this.id = figure_id;\n",
       "\n",
       "    this.ws = websocket;\n",
       "\n",
       "    this.supports_binary = (this.ws.binaryType != undefined);\n",
       "\n",
       "    if (!this.supports_binary) {\n",
       "        var warnings = document.getElementById(\"mpl-warnings\");\n",
       "        if (warnings) {\n",
       "            warnings.style.display = 'block';\n",
       "            warnings.textContent = (\n",
       "                \"This browser does not support binary websocket messages. \" +\n",
       "                    \"Performance may be slow.\");\n",
       "        }\n",
       "    }\n",
       "\n",
       "    this.imageObj = new Image();\n",
       "\n",
       "    this.context = undefined;\n",
       "    this.message = undefined;\n",
       "    this.canvas = undefined;\n",
       "    this.rubberband_canvas = undefined;\n",
       "    this.rubberband_context = undefined;\n",
       "    this.format_dropdown = undefined;\n",
       "\n",
       "    this.image_mode = 'full';\n",
       "\n",
       "    this.root = $('<div/>');\n",
       "    this._root_extra_style(this.root)\n",
       "    this.root.attr('style', 'display: inline-block');\n",
       "\n",
       "    $(parent_element).append(this.root);\n",
       "\n",
       "    this._init_header(this);\n",
       "    this._init_canvas(this);\n",
       "    this._init_toolbar(this);\n",
       "\n",
       "    var fig = this;\n",
       "\n",
       "    this.waiting = false;\n",
       "\n",
       "    this.ws.onopen =  function () {\n",
       "            fig.send_message(\"supports_binary\", {value: fig.supports_binary});\n",
       "            fig.send_message(\"send_image_mode\", {});\n",
       "            if (mpl.ratio != 1) {\n",
       "                fig.send_message(\"set_dpi_ratio\", {'dpi_ratio': mpl.ratio});\n",
       "            }\n",
       "            fig.send_message(\"refresh\", {});\n",
       "        }\n",
       "\n",
       "    this.imageObj.onload = function() {\n",
       "            if (fig.image_mode == 'full') {\n",
       "                // Full images could contain transparency (where diff images\n",
       "                // almost always do), so we need to clear the canvas so that\n",
       "                // there is no ghosting.\n",
       "                fig.context.clearRect(0, 0, fig.canvas.width, fig.canvas.height);\n",
       "            }\n",
       "            fig.context.drawImage(fig.imageObj, 0, 0);\n",
       "        };\n",
       "\n",
       "    this.imageObj.onunload = function() {\n",
       "        this.ws.close();\n",
       "    }\n",
       "\n",
       "    this.ws.onmessage = this._make_on_message_function(this);\n",
       "\n",
       "    this.ondownload = ondownload;\n",
       "}\n",
       "\n",
       "mpl.figure.prototype._init_header = function() {\n",
       "    var titlebar = $(\n",
       "        '<div class=\"ui-dialog-titlebar ui-widget-header ui-corner-all ' +\n",
       "        'ui-helper-clearfix\"/>');\n",
       "    var titletext = $(\n",
       "        '<div class=\"ui-dialog-title\" style=\"width: 100%; ' +\n",
       "        'text-align: center; padding: 3px;\"/>');\n",
       "    titlebar.append(titletext)\n",
       "    this.root.append(titlebar);\n",
       "    this.header = titletext[0];\n",
       "}\n",
       "\n",
       "\n",
       "\n",
       "mpl.figure.prototype._canvas_extra_style = function(canvas_div) {\n",
       "\n",
       "}\n",
       "\n",
       "\n",
       "mpl.figure.prototype._root_extra_style = function(canvas_div) {\n",
       "\n",
       "}\n",
       "\n",
       "mpl.figure.prototype._init_canvas = function() {\n",
       "    var fig = this;\n",
       "\n",
       "    var canvas_div = $('<div/>');\n",
       "\n",
       "    canvas_div.attr('style', 'position: relative; clear: both; outline: 0');\n",
       "\n",
       "    function canvas_keyboard_event(event) {\n",
       "        return fig.key_event(event, event['data']);\n",
       "    }\n",
       "\n",
       "    canvas_div.keydown('key_press', canvas_keyboard_event);\n",
       "    canvas_div.keyup('key_release', canvas_keyboard_event);\n",
       "    this.canvas_div = canvas_div\n",
       "    this._canvas_extra_style(canvas_div)\n",
       "    this.root.append(canvas_div);\n",
       "\n",
       "    var canvas = $('<canvas/>');\n",
       "    canvas.addClass('mpl-canvas');\n",
       "    canvas.attr('style', \"left: 0; top: 0; z-index: 0; outline: 0\")\n",
       "\n",
       "    this.canvas = canvas[0];\n",
       "    this.context = canvas[0].getContext(\"2d\");\n",
       "\n",
       "    var backingStore = this.context.backingStorePixelRatio ||\n",
       "\tthis.context.webkitBackingStorePixelRatio ||\n",
       "\tthis.context.mozBackingStorePixelRatio ||\n",
       "\tthis.context.msBackingStorePixelRatio ||\n",
       "\tthis.context.oBackingStorePixelRatio ||\n",
       "\tthis.context.backingStorePixelRatio || 1;\n",
       "\n",
       "    mpl.ratio = (window.devicePixelRatio || 1) / backingStore;\n",
       "\n",
       "    var rubberband = $('<canvas/>');\n",
       "    rubberband.attr('style', \"position: absolute; left: 0; top: 0; z-index: 1;\")\n",
       "\n",
       "    var pass_mouse_events = true;\n",
       "\n",
       "    canvas_div.resizable({\n",
       "        start: function(event, ui) {\n",
       "            pass_mouse_events = false;\n",
       "        },\n",
       "        resize: function(event, ui) {\n",
       "            fig.request_resize(ui.size.width, ui.size.height);\n",
       "        },\n",
       "        stop: function(event, ui) {\n",
       "            pass_mouse_events = true;\n",
       "            fig.request_resize(ui.size.width, ui.size.height);\n",
       "        },\n",
       "    });\n",
       "\n",
       "    function mouse_event_fn(event) {\n",
       "        if (pass_mouse_events)\n",
       "            return fig.mouse_event(event, event['data']);\n",
       "    }\n",
       "\n",
       "    rubberband.mousedown('button_press', mouse_event_fn);\n",
       "    rubberband.mouseup('button_release', mouse_event_fn);\n",
       "    // Throttle sequential mouse events to 1 every 20ms.\n",
       "    rubberband.mousemove('motion_notify', mouse_event_fn);\n",
       "\n",
       "    rubberband.mouseenter('figure_enter', mouse_event_fn);\n",
       "    rubberband.mouseleave('figure_leave', mouse_event_fn);\n",
       "\n",
       "    canvas_div.on(\"wheel\", function (event) {\n",
       "        event = event.originalEvent;\n",
       "        event['data'] = 'scroll'\n",
       "        if (event.deltaY < 0) {\n",
       "            event.step = 1;\n",
       "        } else {\n",
       "            event.step = -1;\n",
       "        }\n",
       "        mouse_event_fn(event);\n",
       "    });\n",
       "\n",
       "    canvas_div.append(canvas);\n",
       "    canvas_div.append(rubberband);\n",
       "\n",
       "    this.rubberband = rubberband;\n",
       "    this.rubberband_canvas = rubberband[0];\n",
       "    this.rubberband_context = rubberband[0].getContext(\"2d\");\n",
       "    this.rubberband_context.strokeStyle = \"#000000\";\n",
       "\n",
       "    this._resize_canvas = function(width, height) {\n",
       "        // Keep the size of the canvas, canvas container, and rubber band\n",
       "        // canvas in synch.\n",
       "        canvas_div.css('width', width)\n",
       "        canvas_div.css('height', height)\n",
       "\n",
       "        canvas.attr('width', width * mpl.ratio);\n",
       "        canvas.attr('height', height * mpl.ratio);\n",
       "        canvas.attr('style', 'width: ' + width + 'px; height: ' + height + 'px;');\n",
       "\n",
       "        rubberband.attr('width', width);\n",
       "        rubberband.attr('height', height);\n",
       "    }\n",
       "\n",
       "    // Set the figure to an initial 600x600px, this will subsequently be updated\n",
       "    // upon first draw.\n",
       "    this._resize_canvas(600, 600);\n",
       "\n",
       "    // Disable right mouse context menu.\n",
       "    $(this.rubberband_canvas).bind(\"contextmenu\",function(e){\n",
       "        return false;\n",
       "    });\n",
       "\n",
       "    function set_focus () {\n",
       "        canvas.focus();\n",
       "        canvas_div.focus();\n",
       "    }\n",
       "\n",
       "    window.setTimeout(set_focus, 100);\n",
       "}\n",
       "\n",
       "mpl.figure.prototype._init_toolbar = function() {\n",
       "    var fig = this;\n",
       "\n",
       "    var nav_element = $('<div/>')\n",
       "    nav_element.attr('style', 'width: 100%');\n",
       "    this.root.append(nav_element);\n",
       "\n",
       "    // Define a callback function for later on.\n",
       "    function toolbar_event(event) {\n",
       "        return fig.toolbar_button_onclick(event['data']);\n",
       "    }\n",
       "    function toolbar_mouse_event(event) {\n",
       "        return fig.toolbar_button_onmouseover(event['data']);\n",
       "    }\n",
       "\n",
       "    for(var toolbar_ind in mpl.toolbar_items) {\n",
       "        var name = mpl.toolbar_items[toolbar_ind][0];\n",
       "        var tooltip = mpl.toolbar_items[toolbar_ind][1];\n",
       "        var image = mpl.toolbar_items[toolbar_ind][2];\n",
       "        var method_name = mpl.toolbar_items[toolbar_ind][3];\n",
       "\n",
       "        if (!name) {\n",
       "            // put a spacer in here.\n",
       "            continue;\n",
       "        }\n",
       "        var button = $('<button/>');\n",
       "        button.addClass('ui-button ui-widget ui-state-default ui-corner-all ' +\n",
       "                        'ui-button-icon-only');\n",
       "        button.attr('role', 'button');\n",
       "        button.attr('aria-disabled', 'false');\n",
       "        button.click(method_name, toolbar_event);\n",
       "        button.mouseover(tooltip, toolbar_mouse_event);\n",
       "\n",
       "        var icon_img = $('<span/>');\n",
       "        icon_img.addClass('ui-button-icon-primary ui-icon');\n",
       "        icon_img.addClass(image);\n",
       "        icon_img.addClass('ui-corner-all');\n",
       "\n",
       "        var tooltip_span = $('<span/>');\n",
       "        tooltip_span.addClass('ui-button-text');\n",
       "        tooltip_span.html(tooltip);\n",
       "\n",
       "        button.append(icon_img);\n",
       "        button.append(tooltip_span);\n",
       "\n",
       "        nav_element.append(button);\n",
       "    }\n",
       "\n",
       "    var fmt_picker_span = $('<span/>');\n",
       "\n",
       "    var fmt_picker = $('<select/>');\n",
       "    fmt_picker.addClass('mpl-toolbar-option ui-widget ui-widget-content');\n",
       "    fmt_picker_span.append(fmt_picker);\n",
       "    nav_element.append(fmt_picker_span);\n",
       "    this.format_dropdown = fmt_picker[0];\n",
       "\n",
       "    for (var ind in mpl.extensions) {\n",
       "        var fmt = mpl.extensions[ind];\n",
       "        var option = $(\n",
       "            '<option/>', {selected: fmt === mpl.default_extension}).html(fmt);\n",
       "        fmt_picker.append(option)\n",
       "    }\n",
       "\n",
       "    // Add hover states to the ui-buttons\n",
       "    $( \".ui-button\" ).hover(\n",
       "        function() { $(this).addClass(\"ui-state-hover\");},\n",
       "        function() { $(this).removeClass(\"ui-state-hover\");}\n",
       "    );\n",
       "\n",
       "    var status_bar = $('<span class=\"mpl-message\"/>');\n",
       "    nav_element.append(status_bar);\n",
       "    this.message = status_bar[0];\n",
       "}\n",
       "\n",
       "mpl.figure.prototype.request_resize = function(x_pixels, y_pixels) {\n",
       "    // Request matplotlib to resize the figure. Matplotlib will then trigger a resize in the client,\n",
       "    // which will in turn request a refresh of the image.\n",
       "    this.send_message('resize', {'width': x_pixels, 'height': y_pixels});\n",
       "}\n",
       "\n",
       "mpl.figure.prototype.send_message = function(type, properties) {\n",
       "    properties['type'] = type;\n",
       "    properties['figure_id'] = this.id;\n",
       "    this.ws.send(JSON.stringify(properties));\n",
       "}\n",
       "\n",
       "mpl.figure.prototype.send_draw_message = function() {\n",
       "    if (!this.waiting) {\n",
       "        this.waiting = true;\n",
       "        this.ws.send(JSON.stringify({type: \"draw\", figure_id: this.id}));\n",
       "    }\n",
       "}\n",
       "\n",
       "\n",
       "mpl.figure.prototype.handle_save = function(fig, msg) {\n",
       "    var format_dropdown = fig.format_dropdown;\n",
       "    var format = format_dropdown.options[format_dropdown.selectedIndex].value;\n",
       "    fig.ondownload(fig, format);\n",
       "}\n",
       "\n",
       "\n",
       "mpl.figure.prototype.handle_resize = function(fig, msg) {\n",
       "    var size = msg['size'];\n",
       "    if (size[0] != fig.canvas.width || size[1] != fig.canvas.height) {\n",
       "        fig._resize_canvas(size[0], size[1]);\n",
       "        fig.send_message(\"refresh\", {});\n",
       "    };\n",
       "}\n",
       "\n",
       "mpl.figure.prototype.handle_rubberband = function(fig, msg) {\n",
       "    var x0 = msg['x0'] / mpl.ratio;\n",
       "    var y0 = (fig.canvas.height - msg['y0']) / mpl.ratio;\n",
       "    var x1 = msg['x1'] / mpl.ratio;\n",
       "    var y1 = (fig.canvas.height - msg['y1']) / mpl.ratio;\n",
       "    x0 = Math.floor(x0) + 0.5;\n",
       "    y0 = Math.floor(y0) + 0.5;\n",
       "    x1 = Math.floor(x1) + 0.5;\n",
       "    y1 = Math.floor(y1) + 0.5;\n",
       "    var min_x = Math.min(x0, x1);\n",
       "    var min_y = Math.min(y0, y1);\n",
       "    var width = Math.abs(x1 - x0);\n",
       "    var height = Math.abs(y1 - y0);\n",
       "\n",
       "    fig.rubberband_context.clearRect(\n",
       "        0, 0, fig.canvas.width, fig.canvas.height);\n",
       "\n",
       "    fig.rubberband_context.strokeRect(min_x, min_y, width, height);\n",
       "}\n",
       "\n",
       "mpl.figure.prototype.handle_figure_label = function(fig, msg) {\n",
       "    // Updates the figure title.\n",
       "    fig.header.textContent = msg['label'];\n",
       "}\n",
       "\n",
       "mpl.figure.prototype.handle_cursor = function(fig, msg) {\n",
       "    var cursor = msg['cursor'];\n",
       "    switch(cursor)\n",
       "    {\n",
       "    case 0:\n",
       "        cursor = 'pointer';\n",
       "        break;\n",
       "    case 1:\n",
       "        cursor = 'default';\n",
       "        break;\n",
       "    case 2:\n",
       "        cursor = 'crosshair';\n",
       "        break;\n",
       "    case 3:\n",
       "        cursor = 'move';\n",
       "        break;\n",
       "    }\n",
       "    fig.rubberband_canvas.style.cursor = cursor;\n",
       "}\n",
       "\n",
       "mpl.figure.prototype.handle_message = function(fig, msg) {\n",
       "    fig.message.textContent = msg['message'];\n",
       "}\n",
       "\n",
       "mpl.figure.prototype.handle_draw = function(fig, msg) {\n",
       "    // Request the server to send over a new figure.\n",
       "    fig.send_draw_message();\n",
       "}\n",
       "\n",
       "mpl.figure.prototype.handle_image_mode = function(fig, msg) {\n",
       "    fig.image_mode = msg['mode'];\n",
       "}\n",
       "\n",
       "mpl.figure.prototype.updated_canvas_event = function() {\n",
       "    // Called whenever the canvas gets updated.\n",
       "    this.send_message(\"ack\", {});\n",
       "}\n",
       "\n",
       "// A function to construct a web socket function for onmessage handling.\n",
       "// Called in the figure constructor.\n",
       "mpl.figure.prototype._make_on_message_function = function(fig) {\n",
       "    return function socket_on_message(evt) {\n",
       "        if (evt.data instanceof Blob) {\n",
       "            /* FIXME: We get \"Resource interpreted as Image but\n",
       "             * transferred with MIME type text/plain:\" errors on\n",
       "             * Chrome.  But how to set the MIME type?  It doesn't seem\n",
       "             * to be part of the websocket stream */\n",
       "            evt.data.type = \"image/png\";\n",
       "\n",
       "            /* Free the memory for the previous frames */\n",
       "            if (fig.imageObj.src) {\n",
       "                (window.URL || window.webkitURL).revokeObjectURL(\n",
       "                    fig.imageObj.src);\n",
       "            }\n",
       "\n",
       "            fig.imageObj.src = (window.URL || window.webkitURL).createObjectURL(\n",
       "                evt.data);\n",
       "            fig.updated_canvas_event();\n",
       "            fig.waiting = false;\n",
       "            return;\n",
       "        }\n",
       "        else if (typeof evt.data === 'string' && evt.data.slice(0, 21) == \"data:image/png;base64\") {\n",
       "            fig.imageObj.src = evt.data;\n",
       "            fig.updated_canvas_event();\n",
       "            fig.waiting = false;\n",
       "            return;\n",
       "        }\n",
       "\n",
       "        var msg = JSON.parse(evt.data);\n",
       "        var msg_type = msg['type'];\n",
       "\n",
       "        // Call the  \"handle_{type}\" callback, which takes\n",
       "        // the figure and JSON message as its only arguments.\n",
       "        try {\n",
       "            var callback = fig[\"handle_\" + msg_type];\n",
       "        } catch (e) {\n",
       "            console.log(\"No handler for the '\" + msg_type + \"' message type: \", msg);\n",
       "            return;\n",
       "        }\n",
       "\n",
       "        if (callback) {\n",
       "            try {\n",
       "                // console.log(\"Handling '\" + msg_type + \"' message: \", msg);\n",
       "                callback(fig, msg);\n",
       "            } catch (e) {\n",
       "                console.log(\"Exception inside the 'handler_\" + msg_type + \"' callback:\", e, e.stack, msg);\n",
       "            }\n",
       "        }\n",
       "    };\n",
       "}\n",
       "\n",
       "// from http://stackoverflow.com/questions/1114465/getting-mouse-location-in-canvas\n",
       "mpl.findpos = function(e) {\n",
       "    //this section is from http://www.quirksmode.org/js/events_properties.html\n",
       "    var targ;\n",
       "    if (!e)\n",
       "        e = window.event;\n",
       "    if (e.target)\n",
       "        targ = e.target;\n",
       "    else if (e.srcElement)\n",
       "        targ = e.srcElement;\n",
       "    if (targ.nodeType == 3) // defeat Safari bug\n",
       "        targ = targ.parentNode;\n",
       "\n",
       "    // jQuery normalizes the pageX and pageY\n",
       "    // pageX,Y are the mouse positions relative to the document\n",
       "    // offset() returns the position of the element relative to the document\n",
       "    var x = e.pageX - $(targ).offset().left;\n",
       "    var y = e.pageY - $(targ).offset().top;\n",
       "\n",
       "    return {\"x\": x, \"y\": y};\n",
       "};\n",
       "\n",
       "/*\n",
       " * return a copy of an object with only non-object keys\n",
       " * we need this to avoid circular references\n",
       " * http://stackoverflow.com/a/24161582/3208463\n",
       " */\n",
       "function simpleKeys (original) {\n",
       "  return Object.keys(original).reduce(function (obj, key) {\n",
       "    if (typeof original[key] !== 'object')\n",
       "        obj[key] = original[key]\n",
       "    return obj;\n",
       "  }, {});\n",
       "}\n",
       "\n",
       "mpl.figure.prototype.mouse_event = function(event, name) {\n",
       "    var canvas_pos = mpl.findpos(event)\n",
       "\n",
       "    if (name === 'button_press')\n",
       "    {\n",
       "        this.canvas.focus();\n",
       "        this.canvas_div.focus();\n",
       "    }\n",
       "\n",
       "    var x = canvas_pos.x * mpl.ratio;\n",
       "    var y = canvas_pos.y * mpl.ratio;\n",
       "\n",
       "    this.send_message(name, {x: x, y: y, button: event.button,\n",
       "                             step: event.step,\n",
       "                             guiEvent: simpleKeys(event)});\n",
       "\n",
       "    /* This prevents the web browser from automatically changing to\n",
       "     * the text insertion cursor when the button is pressed.  We want\n",
       "     * to control all of the cursor setting manually through the\n",
       "     * 'cursor' event from matplotlib */\n",
       "    event.preventDefault();\n",
       "    return false;\n",
       "}\n",
       "\n",
       "mpl.figure.prototype._key_event_extra = function(event, name) {\n",
       "    // Handle any extra behaviour associated with a key event\n",
       "}\n",
       "\n",
       "mpl.figure.prototype.key_event = function(event, name) {\n",
       "\n",
       "    // Prevent repeat events\n",
       "    if (name == 'key_press')\n",
       "    {\n",
       "        if (event.which === this._key)\n",
       "            return;\n",
       "        else\n",
       "            this._key = event.which;\n",
       "    }\n",
       "    if (name == 'key_release')\n",
       "        this._key = null;\n",
       "\n",
       "    var value = '';\n",
       "    if (event.ctrlKey && event.which != 17)\n",
       "        value += \"ctrl+\";\n",
       "    if (event.altKey && event.which != 18)\n",
       "        value += \"alt+\";\n",
       "    if (event.shiftKey && event.which != 16)\n",
       "        value += \"shift+\";\n",
       "\n",
       "    value += 'k';\n",
       "    value += event.which.toString();\n",
       "\n",
       "    this._key_event_extra(event, name);\n",
       "\n",
       "    this.send_message(name, {key: value,\n",
       "                             guiEvent: simpleKeys(event)});\n",
       "    return false;\n",
       "}\n",
       "\n",
       "mpl.figure.prototype.toolbar_button_onclick = function(name) {\n",
       "    if (name == 'download') {\n",
       "        this.handle_save(this, null);\n",
       "    } else {\n",
       "        this.send_message(\"toolbar_button\", {name: name});\n",
       "    }\n",
       "};\n",
       "\n",
       "mpl.figure.prototype.toolbar_button_onmouseover = function(tooltip) {\n",
       "    this.message.textContent = tooltip;\n",
       "};\n",
       "mpl.toolbar_items = [[\"Home\", \"Reset original view\", \"fa fa-home icon-home\", \"home\"], [\"Back\", \"Back to  previous view\", \"fa fa-arrow-left icon-arrow-left\", \"back\"], [\"Forward\", \"Forward to next view\", \"fa fa-arrow-right icon-arrow-right\", \"forward\"], [\"\", \"\", \"\", \"\"], [\"Pan\", \"Pan axes with left mouse, zoom with right\", \"fa fa-arrows icon-move\", \"pan\"], [\"Zoom\", \"Zoom to rectangle\", \"fa fa-square-o icon-check-empty\", \"zoom\"], [\"\", \"\", \"\", \"\"], [\"Download\", \"Download plot\", \"fa fa-floppy-o icon-save\", \"download\"]];\n",
       "\n",
       "mpl.extensions = [\"eps\", \"jpeg\", \"pdf\", \"png\", \"ps\", \"raw\", \"svg\", \"tif\"];\n",
       "\n",
       "mpl.default_extension = \"png\";var comm_websocket_adapter = function(comm) {\n",
       "    // Create a \"websocket\"-like object which calls the given IPython comm\n",
       "    // object with the appropriate methods. Currently this is a non binary\n",
       "    // socket, so there is still some room for performance tuning.\n",
       "    var ws = {};\n",
       "\n",
       "    ws.close = function() {\n",
       "        comm.close()\n",
       "    };\n",
       "    ws.send = function(m) {\n",
       "        //console.log('sending', m);\n",
       "        comm.send(m);\n",
       "    };\n",
       "    // Register the callback with on_msg.\n",
       "    comm.on_msg(function(msg) {\n",
       "        //console.log('receiving', msg['content']['data'], msg);\n",
       "        // Pass the mpl event to the overriden (by mpl) onmessage function.\n",
       "        ws.onmessage(msg['content']['data'])\n",
       "    });\n",
       "    return ws;\n",
       "}\n",
       "\n",
       "mpl.mpl_figure_comm = function(comm, msg) {\n",
       "    // This is the function which gets called when the mpl process\n",
       "    // starts-up an IPython Comm through the \"matplotlib\" channel.\n",
       "\n",
       "    var id = msg.content.data.id;\n",
       "    // Get hold of the div created by the display call when the Comm\n",
       "    // socket was opened in Python.\n",
       "    var element = $(\"#\" + id);\n",
       "    var ws_proxy = comm_websocket_adapter(comm)\n",
       "\n",
       "    function ondownload(figure, format) {\n",
       "        window.open(figure.imageObj.src);\n",
       "    }\n",
       "\n",
       "    var fig = new mpl.figure(id, ws_proxy,\n",
       "                           ondownload,\n",
       "                           element.get(0));\n",
       "\n",
       "    // Call onopen now - mpl needs it, as it is assuming we've passed it a real\n",
       "    // web socket which is closed, not our websocket->open comm proxy.\n",
       "    ws_proxy.onopen();\n",
       "\n",
       "    fig.parent_element = element.get(0);\n",
       "    fig.cell_info = mpl.find_output_cell(\"<div id='\" + id + \"'></div>\");\n",
       "    if (!fig.cell_info) {\n",
       "        console.error(\"Failed to find cell for figure\", id, fig);\n",
       "        return;\n",
       "    }\n",
       "\n",
       "    var output_index = fig.cell_info[2]\n",
       "    var cell = fig.cell_info[0];\n",
       "\n",
       "};\n",
       "\n",
       "mpl.figure.prototype.handle_close = function(fig, msg) {\n",
       "    var width = fig.canvas.width/mpl.ratio\n",
       "    fig.root.unbind('remove')\n",
       "\n",
       "    // Update the output cell to use the data from the current canvas.\n",
       "    fig.push_to_output();\n",
       "    var dataURL = fig.canvas.toDataURL();\n",
       "    // Re-enable the keyboard manager in IPython - without this line, in FF,\n",
       "    // the notebook keyboard shortcuts fail.\n",
       "    IPython.keyboard_manager.enable()\n",
       "    $(fig.parent_element).html('<img src=\"' + dataURL + '\" width=\"' + width + '\">');\n",
       "    fig.close_ws(fig, msg);\n",
       "}\n",
       "\n",
       "mpl.figure.prototype.close_ws = function(fig, msg){\n",
       "    fig.send_message('closing', msg);\n",
       "    // fig.ws.close()\n",
       "}\n",
       "\n",
       "mpl.figure.prototype.push_to_output = function(remove_interactive) {\n",
       "    // Turn the data on the canvas into data in the output cell.\n",
       "    var width = this.canvas.width/mpl.ratio\n",
       "    var dataURL = this.canvas.toDataURL();\n",
       "    this.cell_info[1]['text/html'] = '<img src=\"' + dataURL + '\" width=\"' + width + '\">';\n",
       "}\n",
       "\n",
       "mpl.figure.prototype.updated_canvas_event = function() {\n",
       "    // Tell IPython that the notebook contents must change.\n",
       "    IPython.notebook.set_dirty(true);\n",
       "    this.send_message(\"ack\", {});\n",
       "    var fig = this;\n",
       "    // Wait a second, then push the new image to the DOM so\n",
       "    // that it is saved nicely (might be nice to debounce this).\n",
       "    setTimeout(function () { fig.push_to_output() }, 1000);\n",
       "}\n",
       "\n",
       "mpl.figure.prototype._init_toolbar = function() {\n",
       "    var fig = this;\n",
       "\n",
       "    var nav_element = $('<div/>')\n",
       "    nav_element.attr('style', 'width: 100%');\n",
       "    this.root.append(nav_element);\n",
       "\n",
       "    // Define a callback function for later on.\n",
       "    function toolbar_event(event) {\n",
       "        return fig.toolbar_button_onclick(event['data']);\n",
       "    }\n",
       "    function toolbar_mouse_event(event) {\n",
       "        return fig.toolbar_button_onmouseover(event['data']);\n",
       "    }\n",
       "\n",
       "    for(var toolbar_ind in mpl.toolbar_items){\n",
       "        var name = mpl.toolbar_items[toolbar_ind][0];\n",
       "        var tooltip = mpl.toolbar_items[toolbar_ind][1];\n",
       "        var image = mpl.toolbar_items[toolbar_ind][2];\n",
       "        var method_name = mpl.toolbar_items[toolbar_ind][3];\n",
       "\n",
       "        if (!name) { continue; };\n",
       "\n",
       "        var button = $('<button class=\"btn btn-default\" href=\"#\" title=\"' + name + '\"><i class=\"fa ' + image + ' fa-lg\"></i></button>');\n",
       "        button.click(method_name, toolbar_event);\n",
       "        button.mouseover(tooltip, toolbar_mouse_event);\n",
       "        nav_element.append(button);\n",
       "    }\n",
       "\n",
       "    // Add the status bar.\n",
       "    var status_bar = $('<span class=\"mpl-message\" style=\"text-align:right; float: right;\"/>');\n",
       "    nav_element.append(status_bar);\n",
       "    this.message = status_bar[0];\n",
       "\n",
       "    // Add the close button to the window.\n",
       "    var buttongrp = $('<div class=\"btn-group inline pull-right\"></div>');\n",
       "    var button = $('<button class=\"btn btn-mini btn-primary\" href=\"#\" title=\"Stop Interaction\"><i class=\"fa fa-power-off icon-remove icon-large\"></i></button>');\n",
       "    button.click(function (evt) { fig.handle_close(fig, {}); } );\n",
       "    button.mouseover('Stop Interaction', toolbar_mouse_event);\n",
       "    buttongrp.append(button);\n",
       "    var titlebar = this.root.find($('.ui-dialog-titlebar'));\n",
       "    titlebar.prepend(buttongrp);\n",
       "}\n",
       "\n",
       "mpl.figure.prototype._root_extra_style = function(el){\n",
       "    var fig = this\n",
       "    el.on(\"remove\", function(){\n",
       "\tfig.close_ws(fig, {});\n",
       "    });\n",
       "}\n",
       "\n",
       "mpl.figure.prototype._canvas_extra_style = function(el){\n",
       "    // this is important to make the div 'focusable\n",
       "    el.attr('tabindex', 0)\n",
       "    // reach out to IPython and tell the keyboard manager to turn it's self\n",
       "    // off when our div gets focus\n",
       "\n",
       "    // location in version 3\n",
       "    if (IPython.notebook.keyboard_manager) {\n",
       "        IPython.notebook.keyboard_manager.register_events(el);\n",
       "    }\n",
       "    else {\n",
       "        // location in version 2\n",
       "        IPython.keyboard_manager.register_events(el);\n",
       "    }\n",
       "\n",
       "}\n",
       "\n",
       "mpl.figure.prototype._key_event_extra = function(event, name) {\n",
       "    var manager = IPython.notebook.keyboard_manager;\n",
       "    if (!manager)\n",
       "        manager = IPython.keyboard_manager;\n",
       "\n",
       "    // Check for shift+enter\n",
       "    if (event.shiftKey && event.which == 13) {\n",
       "        this.canvas_div.blur();\n",
       "        // select the cell after this one\n",
       "        var index = IPython.notebook.find_cell_index(this.cell_info[0]);\n",
       "        IPython.notebook.select(index + 1);\n",
       "    }\n",
       "}\n",
       "\n",
       "mpl.figure.prototype.handle_save = function(fig, msg) {\n",
       "    fig.ondownload(fig, null);\n",
       "}\n",
       "\n",
       "\n",
       "mpl.find_output_cell = function(html_output) {\n",
       "    // Return the cell and output element which can be found *uniquely* in the notebook.\n",
       "    // Note - this is a bit hacky, but it is done because the \"notebook_saving.Notebook\"\n",
       "    // IPython event is triggered only after the cells have been serialised, which for\n",
       "    // our purposes (turning an active figure into a static one), is too late.\n",
       "    var cells = IPython.notebook.get_cells();\n",
       "    var ncells = cells.length;\n",
       "    for (var i=0; i<ncells; i++) {\n",
       "        var cell = cells[i];\n",
       "        if (cell.cell_type === 'code'){\n",
       "            for (var j=0; j<cell.output_area.outputs.length; j++) {\n",
       "                var data = cell.output_area.outputs[j];\n",
       "                if (data.data) {\n",
       "                    // IPython >= 3 moved mimebundle to data attribute of output\n",
       "                    data = data.data;\n",
       "                }\n",
       "                if (data['text/html'] == html_output) {\n",
       "                    return [cell, data, j];\n",
       "                }\n",
       "            }\n",
       "        }\n",
       "    }\n",
       "}\n",
       "\n",
       "// Register the function which deals with the matplotlib target/channel.\n",
       "// The kernel may be null if the page has been refreshed.\n",
       "if (IPython.notebook.kernel != null) {\n",
       "    IPython.notebook.kernel.comm_manager.register_target('matplotlib', mpl.mpl_figure_comm);\n",
       "}\n"
      ],
      "text/plain": [
       "<IPython.core.display.Javascript object>"
      ]
     },
     "metadata": {},
     "output_type": "display_data"
    },
    {
     "data": {
      "text/html": [
       "<img src=\"data:image/png;base64,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\" width=\"499.5652277483158\">"
      ],
      "text/plain": [
       "<IPython.core.display.HTML object>"
      ]
     },
     "metadata": {},
     "output_type": "display_data"
    }
   ],
   "source": [
    "x2 = spike_breaks(100, randomize=True)\n",
    "\n",
    "plt.figure(figsize=(5, 5))\n",
    "plt.plot(x1, x2, 'bo')\n",
    "vmax = max(x1.max(), x2.max())\n",
    "plt.ylim(0, vmax)\n",
    "plt.xlim(0, vmax)\n",
    "plt.plot([0, vmax], [0, vmax], 'k--')\n",
    "plt.tight_layout();"
   ]
  },
  {
   "cell_type": "code",
   "execution_count": 105,
   "metadata": {},
   "outputs": [
    {
     "data": {
      "application/javascript": [
       "/* Put everything inside the global mpl namespace */\n",
       "window.mpl = {};\n",
       "\n",
       "\n",
       "mpl.get_websocket_type = function() {\n",
       "    if (typeof(WebSocket) !== 'undefined') {\n",
       "        return WebSocket;\n",
       "    } else if (typeof(MozWebSocket) !== 'undefined') {\n",
       "        return MozWebSocket;\n",
       "    } else {\n",
       "        alert('Your browser does not have WebSocket support.' +\n",
       "              'Please try Chrome, Safari or Firefox ≥ 6. ' +\n",
       "              'Firefox 4 and 5 are also supported but you ' +\n",
       "              'have to enable WebSockets in about:config.');\n",
       "    };\n",
       "}\n",
       "\n",
       "mpl.figure = function(figure_id, websocket, ondownload, parent_element) {\n",
       "    this.id = figure_id;\n",
       "\n",
       "    this.ws = websocket;\n",
       "\n",
       "    this.supports_binary = (this.ws.binaryType != undefined);\n",
       "\n",
       "    if (!this.supports_binary) {\n",
       "        var warnings = document.getElementById(\"mpl-warnings\");\n",
       "        if (warnings) {\n",
       "            warnings.style.display = 'block';\n",
       "            warnings.textContent = (\n",
       "                \"This browser does not support binary websocket messages. \" +\n",
       "                    \"Performance may be slow.\");\n",
       "        }\n",
       "    }\n",
       "\n",
       "    this.imageObj = new Image();\n",
       "\n",
       "    this.context = undefined;\n",
       "    this.message = undefined;\n",
       "    this.canvas = undefined;\n",
       "    this.rubberband_canvas = undefined;\n",
       "    this.rubberband_context = undefined;\n",
       "    this.format_dropdown = undefined;\n",
       "\n",
       "    this.image_mode = 'full';\n",
       "\n",
       "    this.root = $('<div/>');\n",
       "    this._root_extra_style(this.root)\n",
       "    this.root.attr('style', 'display: inline-block');\n",
       "\n",
       "    $(parent_element).append(this.root);\n",
       "\n",
       "    this._init_header(this);\n",
       "    this._init_canvas(this);\n",
       "    this._init_toolbar(this);\n",
       "\n",
       "    var fig = this;\n",
       "\n",
       "    this.waiting = false;\n",
       "\n",
       "    this.ws.onopen =  function () {\n",
       "            fig.send_message(\"supports_binary\", {value: fig.supports_binary});\n",
       "            fig.send_message(\"send_image_mode\", {});\n",
       "            if (mpl.ratio != 1) {\n",
       "                fig.send_message(\"set_dpi_ratio\", {'dpi_ratio': mpl.ratio});\n",
       "            }\n",
       "            fig.send_message(\"refresh\", {});\n",
       "        }\n",
       "\n",
       "    this.imageObj.onload = function() {\n",
       "            if (fig.image_mode == 'full') {\n",
       "                // Full images could contain transparency (where diff images\n",
       "                // almost always do), so we need to clear the canvas so that\n",
       "                // there is no ghosting.\n",
       "                fig.context.clearRect(0, 0, fig.canvas.width, fig.canvas.height);\n",
       "            }\n",
       "            fig.context.drawImage(fig.imageObj, 0, 0);\n",
       "        };\n",
       "\n",
       "    this.imageObj.onunload = function() {\n",
       "        this.ws.close();\n",
       "    }\n",
       "\n",
       "    this.ws.onmessage = this._make_on_message_function(this);\n",
       "\n",
       "    this.ondownload = ondownload;\n",
       "}\n",
       "\n",
       "mpl.figure.prototype._init_header = function() {\n",
       "    var titlebar = $(\n",
       "        '<div class=\"ui-dialog-titlebar ui-widget-header ui-corner-all ' +\n",
       "        'ui-helper-clearfix\"/>');\n",
       "    var titletext = $(\n",
       "        '<div class=\"ui-dialog-title\" style=\"width: 100%; ' +\n",
       "        'text-align: center; padding: 3px;\"/>');\n",
       "    titlebar.append(titletext)\n",
       "    this.root.append(titlebar);\n",
       "    this.header = titletext[0];\n",
       "}\n",
       "\n",
       "\n",
       "\n",
       "mpl.figure.prototype._canvas_extra_style = function(canvas_div) {\n",
       "\n",
       "}\n",
       "\n",
       "\n",
       "mpl.figure.prototype._root_extra_style = function(canvas_div) {\n",
       "\n",
       "}\n",
       "\n",
       "mpl.figure.prototype._init_canvas = function() {\n",
       "    var fig = this;\n",
       "\n",
       "    var canvas_div = $('<div/>');\n",
       "\n",
       "    canvas_div.attr('style', 'position: relative; clear: both; outline: 0');\n",
       "\n",
       "    function canvas_keyboard_event(event) {\n",
       "        return fig.key_event(event, event['data']);\n",
       "    }\n",
       "\n",
       "    canvas_div.keydown('key_press', canvas_keyboard_event);\n",
       "    canvas_div.keyup('key_release', canvas_keyboard_event);\n",
       "    this.canvas_div = canvas_div\n",
       "    this._canvas_extra_style(canvas_div)\n",
       "    this.root.append(canvas_div);\n",
       "\n",
       "    var canvas = $('<canvas/>');\n",
       "    canvas.addClass('mpl-canvas');\n",
       "    canvas.attr('style', \"left: 0; top: 0; z-index: 0; outline: 0\")\n",
       "\n",
       "    this.canvas = canvas[0];\n",
       "    this.context = canvas[0].getContext(\"2d\");\n",
       "\n",
       "    var backingStore = this.context.backingStorePixelRatio ||\n",
       "\tthis.context.webkitBackingStorePixelRatio ||\n",
       "\tthis.context.mozBackingStorePixelRatio ||\n",
       "\tthis.context.msBackingStorePixelRatio ||\n",
       "\tthis.context.oBackingStorePixelRatio ||\n",
       "\tthis.context.backingStorePixelRatio || 1;\n",
       "\n",
       "    mpl.ratio = (window.devicePixelRatio || 1) / backingStore;\n",
       "\n",
       "    var rubberband = $('<canvas/>');\n",
       "    rubberband.attr('style', \"position: absolute; left: 0; top: 0; z-index: 1;\")\n",
       "\n",
       "    var pass_mouse_events = true;\n",
       "\n",
       "    canvas_div.resizable({\n",
       "        start: function(event, ui) {\n",
       "            pass_mouse_events = false;\n",
       "        },\n",
       "        resize: function(event, ui) {\n",
       "            fig.request_resize(ui.size.width, ui.size.height);\n",
       "        },\n",
       "        stop: function(event, ui) {\n",
       "            pass_mouse_events = true;\n",
       "            fig.request_resize(ui.size.width, ui.size.height);\n",
       "        },\n",
       "    });\n",
       "\n",
       "    function mouse_event_fn(event) {\n",
       "        if (pass_mouse_events)\n",
       "            return fig.mouse_event(event, event['data']);\n",
       "    }\n",
       "\n",
       "    rubberband.mousedown('button_press', mouse_event_fn);\n",
       "    rubberband.mouseup('button_release', mouse_event_fn);\n",
       "    // Throttle sequential mouse events to 1 every 20ms.\n",
       "    rubberband.mousemove('motion_notify', mouse_event_fn);\n",
       "\n",
       "    rubberband.mouseenter('figure_enter', mouse_event_fn);\n",
       "    rubberband.mouseleave('figure_leave', mouse_event_fn);\n",
       "\n",
       "    canvas_div.on(\"wheel\", function (event) {\n",
       "        event = event.originalEvent;\n",
       "        event['data'] = 'scroll'\n",
       "        if (event.deltaY < 0) {\n",
       "            event.step = 1;\n",
       "        } else {\n",
       "            event.step = -1;\n",
       "        }\n",
       "        mouse_event_fn(event);\n",
       "    });\n",
       "\n",
       "    canvas_div.append(canvas);\n",
       "    canvas_div.append(rubberband);\n",
       "\n",
       "    this.rubberband = rubberband;\n",
       "    this.rubberband_canvas = rubberband[0];\n",
       "    this.rubberband_context = rubberband[0].getContext(\"2d\");\n",
       "    this.rubberband_context.strokeStyle = \"#000000\";\n",
       "\n",
       "    this._resize_canvas = function(width, height) {\n",
       "        // Keep the size of the canvas, canvas container, and rubber band\n",
       "        // canvas in synch.\n",
       "        canvas_div.css('width', width)\n",
       "        canvas_div.css('height', height)\n",
       "\n",
       "        canvas.attr('width', width * mpl.ratio);\n",
       "        canvas.attr('height', height * mpl.ratio);\n",
       "        canvas.attr('style', 'width: ' + width + 'px; height: ' + height + 'px;');\n",
       "\n",
       "        rubberband.attr('width', width);\n",
       "        rubberband.attr('height', height);\n",
       "    }\n",
       "\n",
       "    // Set the figure to an initial 600x600px, this will subsequently be updated\n",
       "    // upon first draw.\n",
       "    this._resize_canvas(600, 600);\n",
       "\n",
       "    // Disable right mouse context menu.\n",
       "    $(this.rubberband_canvas).bind(\"contextmenu\",function(e){\n",
       "        return false;\n",
       "    });\n",
       "\n",
       "    function set_focus () {\n",
       "        canvas.focus();\n",
       "        canvas_div.focus();\n",
       "    }\n",
       "\n",
       "    window.setTimeout(set_focus, 100);\n",
       "}\n",
       "\n",
       "mpl.figure.prototype._init_toolbar = function() {\n",
       "    var fig = this;\n",
       "\n",
       "    var nav_element = $('<div/>')\n",
       "    nav_element.attr('style', 'width: 100%');\n",
       "    this.root.append(nav_element);\n",
       "\n",
       "    // Define a callback function for later on.\n",
       "    function toolbar_event(event) {\n",
       "        return fig.toolbar_button_onclick(event['data']);\n",
       "    }\n",
       "    function toolbar_mouse_event(event) {\n",
       "        return fig.toolbar_button_onmouseover(event['data']);\n",
       "    }\n",
       "\n",
       "    for(var toolbar_ind in mpl.toolbar_items) {\n",
       "        var name = mpl.toolbar_items[toolbar_ind][0];\n",
       "        var tooltip = mpl.toolbar_items[toolbar_ind][1];\n",
       "        var image = mpl.toolbar_items[toolbar_ind][2];\n",
       "        var method_name = mpl.toolbar_items[toolbar_ind][3];\n",
       "\n",
       "        if (!name) {\n",
       "            // put a spacer in here.\n",
       "            continue;\n",
       "        }\n",
       "        var button = $('<button/>');\n",
       "        button.addClass('ui-button ui-widget ui-state-default ui-corner-all ' +\n",
       "                        'ui-button-icon-only');\n",
       "        button.attr('role', 'button');\n",
       "        button.attr('aria-disabled', 'false');\n",
       "        button.click(method_name, toolbar_event);\n",
       "        button.mouseover(tooltip, toolbar_mouse_event);\n",
       "\n",
       "        var icon_img = $('<span/>');\n",
       "        icon_img.addClass('ui-button-icon-primary ui-icon');\n",
       "        icon_img.addClass(image);\n",
       "        icon_img.addClass('ui-corner-all');\n",
       "\n",
       "        var tooltip_span = $('<span/>');\n",
       "        tooltip_span.addClass('ui-button-text');\n",
       "        tooltip_span.html(tooltip);\n",
       "\n",
       "        button.append(icon_img);\n",
       "        button.append(tooltip_span);\n",
       "\n",
       "        nav_element.append(button);\n",
       "    }\n",
       "\n",
       "    var fmt_picker_span = $('<span/>');\n",
       "\n",
       "    var fmt_picker = $('<select/>');\n",
       "    fmt_picker.addClass('mpl-toolbar-option ui-widget ui-widget-content');\n",
       "    fmt_picker_span.append(fmt_picker);\n",
       "    nav_element.append(fmt_picker_span);\n",
       "    this.format_dropdown = fmt_picker[0];\n",
       "\n",
       "    for (var ind in mpl.extensions) {\n",
       "        var fmt = mpl.extensions[ind];\n",
       "        var option = $(\n",
       "            '<option/>', {selected: fmt === mpl.default_extension}).html(fmt);\n",
       "        fmt_picker.append(option)\n",
       "    }\n",
       "\n",
       "    // Add hover states to the ui-buttons\n",
       "    $( \".ui-button\" ).hover(\n",
       "        function() { $(this).addClass(\"ui-state-hover\");},\n",
       "        function() { $(this).removeClass(\"ui-state-hover\");}\n",
       "    );\n",
       "\n",
       "    var status_bar = $('<span class=\"mpl-message\"/>');\n",
       "    nav_element.append(status_bar);\n",
       "    this.message = status_bar[0];\n",
       "}\n",
       "\n",
       "mpl.figure.prototype.request_resize = function(x_pixels, y_pixels) {\n",
       "    // Request matplotlib to resize the figure. Matplotlib will then trigger a resize in the client,\n",
       "    // which will in turn request a refresh of the image.\n",
       "    this.send_message('resize', {'width': x_pixels, 'height': y_pixels});\n",
       "}\n",
       "\n",
       "mpl.figure.prototype.send_message = function(type, properties) {\n",
       "    properties['type'] = type;\n",
       "    properties['figure_id'] = this.id;\n",
       "    this.ws.send(JSON.stringify(properties));\n",
       "}\n",
       "\n",
       "mpl.figure.prototype.send_draw_message = function() {\n",
       "    if (!this.waiting) {\n",
       "        this.waiting = true;\n",
       "        this.ws.send(JSON.stringify({type: \"draw\", figure_id: this.id}));\n",
       "    }\n",
       "}\n",
       "\n",
       "\n",
       "mpl.figure.prototype.handle_save = function(fig, msg) {\n",
       "    var format_dropdown = fig.format_dropdown;\n",
       "    var format = format_dropdown.options[format_dropdown.selectedIndex].value;\n",
       "    fig.ondownload(fig, format);\n",
       "}\n",
       "\n",
       "\n",
       "mpl.figure.prototype.handle_resize = function(fig, msg) {\n",
       "    var size = msg['size'];\n",
       "    if (size[0] != fig.canvas.width || size[1] != fig.canvas.height) {\n",
       "        fig._resize_canvas(size[0], size[1]);\n",
       "        fig.send_message(\"refresh\", {});\n",
       "    };\n",
       "}\n",
       "\n",
       "mpl.figure.prototype.handle_rubberband = function(fig, msg) {\n",
       "    var x0 = msg['x0'] / mpl.ratio;\n",
       "    var y0 = (fig.canvas.height - msg['y0']) / mpl.ratio;\n",
       "    var x1 = msg['x1'] / mpl.ratio;\n",
       "    var y1 = (fig.canvas.height - msg['y1']) / mpl.ratio;\n",
       "    x0 = Math.floor(x0) + 0.5;\n",
       "    y0 = Math.floor(y0) + 0.5;\n",
       "    x1 = Math.floor(x1) + 0.5;\n",
       "    y1 = Math.floor(y1) + 0.5;\n",
       "    var min_x = Math.min(x0, x1);\n",
       "    var min_y = Math.min(y0, y1);\n",
       "    var width = Math.abs(x1 - x0);\n",
       "    var height = Math.abs(y1 - y0);\n",
       "\n",
       "    fig.rubberband_context.clearRect(\n",
       "        0, 0, fig.canvas.width, fig.canvas.height);\n",
       "\n",
       "    fig.rubberband_context.strokeRect(min_x, min_y, width, height);\n",
       "}\n",
       "\n",
       "mpl.figure.prototype.handle_figure_label = function(fig, msg) {\n",
       "    // Updates the figure title.\n",
       "    fig.header.textContent = msg['label'];\n",
       "}\n",
       "\n",
       "mpl.figure.prototype.handle_cursor = function(fig, msg) {\n",
       "    var cursor = msg['cursor'];\n",
       "    switch(cursor)\n",
       "    {\n",
       "    case 0:\n",
       "        cursor = 'pointer';\n",
       "        break;\n",
       "    case 1:\n",
       "        cursor = 'default';\n",
       "        break;\n",
       "    case 2:\n",
       "        cursor = 'crosshair';\n",
       "        break;\n",
       "    case 3:\n",
       "        cursor = 'move';\n",
       "        break;\n",
       "    }\n",
       "    fig.rubberband_canvas.style.cursor = cursor;\n",
       "}\n",
       "\n",
       "mpl.figure.prototype.handle_message = function(fig, msg) {\n",
       "    fig.message.textContent = msg['message'];\n",
       "}\n",
       "\n",
       "mpl.figure.prototype.handle_draw = function(fig, msg) {\n",
       "    // Request the server to send over a new figure.\n",
       "    fig.send_draw_message();\n",
       "}\n",
       "\n",
       "mpl.figure.prototype.handle_image_mode = function(fig, msg) {\n",
       "    fig.image_mode = msg['mode'];\n",
       "}\n",
       "\n",
       "mpl.figure.prototype.updated_canvas_event = function() {\n",
       "    // Called whenever the canvas gets updated.\n",
       "    this.send_message(\"ack\", {});\n",
       "}\n",
       "\n",
       "// A function to construct a web socket function for onmessage handling.\n",
       "// Called in the figure constructor.\n",
       "mpl.figure.prototype._make_on_message_function = function(fig) {\n",
       "    return function socket_on_message(evt) {\n",
       "        if (evt.data instanceof Blob) {\n",
       "            /* FIXME: We get \"Resource interpreted as Image but\n",
       "             * transferred with MIME type text/plain:\" errors on\n",
       "             * Chrome.  But how to set the MIME type?  It doesn't seem\n",
       "             * to be part of the websocket stream */\n",
       "            evt.data.type = \"image/png\";\n",
       "\n",
       "            /* Free the memory for the previous frames */\n",
       "            if (fig.imageObj.src) {\n",
       "                (window.URL || window.webkitURL).revokeObjectURL(\n",
       "                    fig.imageObj.src);\n",
       "            }\n",
       "\n",
       "            fig.imageObj.src = (window.URL || window.webkitURL).createObjectURL(\n",
       "                evt.data);\n",
       "            fig.updated_canvas_event();\n",
       "            fig.waiting = false;\n",
       "            return;\n",
       "        }\n",
       "        else if (typeof evt.data === 'string' && evt.data.slice(0, 21) == \"data:image/png;base64\") {\n",
       "            fig.imageObj.src = evt.data;\n",
       "            fig.updated_canvas_event();\n",
       "            fig.waiting = false;\n",
       "            return;\n",
       "        }\n",
       "\n",
       "        var msg = JSON.parse(evt.data);\n",
       "        var msg_type = msg['type'];\n",
       "\n",
       "        // Call the  \"handle_{type}\" callback, which takes\n",
       "        // the figure and JSON message as its only arguments.\n",
       "        try {\n",
       "            var callback = fig[\"handle_\" + msg_type];\n",
       "        } catch (e) {\n",
       "            console.log(\"No handler for the '\" + msg_type + \"' message type: \", msg);\n",
       "            return;\n",
       "        }\n",
       "\n",
       "        if (callback) {\n",
       "            try {\n",
       "                // console.log(\"Handling '\" + msg_type + \"' message: \", msg);\n",
       "                callback(fig, msg);\n",
       "            } catch (e) {\n",
       "                console.log(\"Exception inside the 'handler_\" + msg_type + \"' callback:\", e, e.stack, msg);\n",
       "            }\n",
       "        }\n",
       "    };\n",
       "}\n",
       "\n",
       "// from http://stackoverflow.com/questions/1114465/getting-mouse-location-in-canvas\n",
       "mpl.findpos = function(e) {\n",
       "    //this section is from http://www.quirksmode.org/js/events_properties.html\n",
       "    var targ;\n",
       "    if (!e)\n",
       "        e = window.event;\n",
       "    if (e.target)\n",
       "        targ = e.target;\n",
       "    else if (e.srcElement)\n",
       "        targ = e.srcElement;\n",
       "    if (targ.nodeType == 3) // defeat Safari bug\n",
       "        targ = targ.parentNode;\n",
       "\n",
       "    // jQuery normalizes the pageX and pageY\n",
       "    // pageX,Y are the mouse positions relative to the document\n",
       "    // offset() returns the position of the element relative to the document\n",
       "    var x = e.pageX - $(targ).offset().left;\n",
       "    var y = e.pageY - $(targ).offset().top;\n",
       "\n",
       "    return {\"x\": x, \"y\": y};\n",
       "};\n",
       "\n",
       "/*\n",
       " * return a copy of an object with only non-object keys\n",
       " * we need this to avoid circular references\n",
       " * http://stackoverflow.com/a/24161582/3208463\n",
       " */\n",
       "function simpleKeys (original) {\n",
       "  return Object.keys(original).reduce(function (obj, key) {\n",
       "    if (typeof original[key] !== 'object')\n",
       "        obj[key] = original[key]\n",
       "    return obj;\n",
       "  }, {});\n",
       "}\n",
       "\n",
       "mpl.figure.prototype.mouse_event = function(event, name) {\n",
       "    var canvas_pos = mpl.findpos(event)\n",
       "\n",
       "    if (name === 'button_press')\n",
       "    {\n",
       "        this.canvas.focus();\n",
       "        this.canvas_div.focus();\n",
       "    }\n",
       "\n",
       "    var x = canvas_pos.x * mpl.ratio;\n",
       "    var y = canvas_pos.y * mpl.ratio;\n",
       "\n",
       "    this.send_message(name, {x: x, y: y, button: event.button,\n",
       "                             step: event.step,\n",
       "                             guiEvent: simpleKeys(event)});\n",
       "\n",
       "    /* This prevents the web browser from automatically changing to\n",
       "     * the text insertion cursor when the button is pressed.  We want\n",
       "     * to control all of the cursor setting manually through the\n",
       "     * 'cursor' event from matplotlib */\n",
       "    event.preventDefault();\n",
       "    return false;\n",
       "}\n",
       "\n",
       "mpl.figure.prototype._key_event_extra = function(event, name) {\n",
       "    // Handle any extra behaviour associated with a key event\n",
       "}\n",
       "\n",
       "mpl.figure.prototype.key_event = function(event, name) {\n",
       "\n",
       "    // Prevent repeat events\n",
       "    if (name == 'key_press')\n",
       "    {\n",
       "        if (event.which === this._key)\n",
       "            return;\n",
       "        else\n",
       "            this._key = event.which;\n",
       "    }\n",
       "    if (name == 'key_release')\n",
       "        this._key = null;\n",
       "\n",
       "    var value = '';\n",
       "    if (event.ctrlKey && event.which != 17)\n",
       "        value += \"ctrl+\";\n",
       "    if (event.altKey && event.which != 18)\n",
       "        value += \"alt+\";\n",
       "    if (event.shiftKey && event.which != 16)\n",
       "        value += \"shift+\";\n",
       "\n",
       "    value += 'k';\n",
       "    value += event.which.toString();\n",
       "\n",
       "    this._key_event_extra(event, name);\n",
       "\n",
       "    this.send_message(name, {key: value,\n",
       "                             guiEvent: simpleKeys(event)});\n",
       "    return false;\n",
       "}\n",
       "\n",
       "mpl.figure.prototype.toolbar_button_onclick = function(name) {\n",
       "    if (name == 'download') {\n",
       "        this.handle_save(this, null);\n",
       "    } else {\n",
       "        this.send_message(\"toolbar_button\", {name: name});\n",
       "    }\n",
       "};\n",
       "\n",
       "mpl.figure.prototype.toolbar_button_onmouseover = function(tooltip) {\n",
       "    this.message.textContent = tooltip;\n",
       "};\n",
       "mpl.toolbar_items = [[\"Home\", \"Reset original view\", \"fa fa-home icon-home\", \"home\"], [\"Back\", \"Back to  previous view\", \"fa fa-arrow-left icon-arrow-left\", \"back\"], [\"Forward\", \"Forward to next view\", \"fa fa-arrow-right icon-arrow-right\", \"forward\"], [\"\", \"\", \"\", \"\"], [\"Pan\", \"Pan axes with left mouse, zoom with right\", \"fa fa-arrows icon-move\", \"pan\"], [\"Zoom\", \"Zoom to rectangle\", \"fa fa-square-o icon-check-empty\", \"zoom\"], [\"\", \"\", \"\", \"\"], [\"Download\", \"Download plot\", \"fa fa-floppy-o icon-save\", \"download\"]];\n",
       "\n",
       "mpl.extensions = [\"eps\", \"jpeg\", \"pdf\", \"png\", \"ps\", \"raw\", \"svg\", \"tif\"];\n",
       "\n",
       "mpl.default_extension = \"png\";var comm_websocket_adapter = function(comm) {\n",
       "    // Create a \"websocket\"-like object which calls the given IPython comm\n",
       "    // object with the appropriate methods. Currently this is a non binary\n",
       "    // socket, so there is still some room for performance tuning.\n",
       "    var ws = {};\n",
       "\n",
       "    ws.close = function() {\n",
       "        comm.close()\n",
       "    };\n",
       "    ws.send = function(m) {\n",
       "        //console.log('sending', m);\n",
       "        comm.send(m);\n",
       "    };\n",
       "    // Register the callback with on_msg.\n",
       "    comm.on_msg(function(msg) {\n",
       "        //console.log('receiving', msg['content']['data'], msg);\n",
       "        // Pass the mpl event to the overriden (by mpl) onmessage function.\n",
       "        ws.onmessage(msg['content']['data'])\n",
       "    });\n",
       "    return ws;\n",
       "}\n",
       "\n",
       "mpl.mpl_figure_comm = function(comm, msg) {\n",
       "    // This is the function which gets called when the mpl process\n",
       "    // starts-up an IPython Comm through the \"matplotlib\" channel.\n",
       "\n",
       "    var id = msg.content.data.id;\n",
       "    // Get hold of the div created by the display call when the Comm\n",
       "    // socket was opened in Python.\n",
       "    var element = $(\"#\" + id);\n",
       "    var ws_proxy = comm_websocket_adapter(comm)\n",
       "\n",
       "    function ondownload(figure, format) {\n",
       "        window.open(figure.imageObj.src);\n",
       "    }\n",
       "\n",
       "    var fig = new mpl.figure(id, ws_proxy,\n",
       "                           ondownload,\n",
       "                           element.get(0));\n",
       "\n",
       "    // Call onopen now - mpl needs it, as it is assuming we've passed it a real\n",
       "    // web socket which is closed, not our websocket->open comm proxy.\n",
       "    ws_proxy.onopen();\n",
       "\n",
       "    fig.parent_element = element.get(0);\n",
       "    fig.cell_info = mpl.find_output_cell(\"<div id='\" + id + \"'></div>\");\n",
       "    if (!fig.cell_info) {\n",
       "        console.error(\"Failed to find cell for figure\", id, fig);\n",
       "        return;\n",
       "    }\n",
       "\n",
       "    var output_index = fig.cell_info[2]\n",
       "    var cell = fig.cell_info[0];\n",
       "\n",
       "};\n",
       "\n",
       "mpl.figure.prototype.handle_close = function(fig, msg) {\n",
       "    var width = fig.canvas.width/mpl.ratio\n",
       "    fig.root.unbind('remove')\n",
       "\n",
       "    // Update the output cell to use the data from the current canvas.\n",
       "    fig.push_to_output();\n",
       "    var dataURL = fig.canvas.toDataURL();\n",
       "    // Re-enable the keyboard manager in IPython - without this line, in FF,\n",
       "    // the notebook keyboard shortcuts fail.\n",
       "    IPython.keyboard_manager.enable()\n",
       "    $(fig.parent_element).html('<img src=\"' + dataURL + '\" width=\"' + width + '\">');\n",
       "    fig.close_ws(fig, msg);\n",
       "}\n",
       "\n",
       "mpl.figure.prototype.close_ws = function(fig, msg){\n",
       "    fig.send_message('closing', msg);\n",
       "    // fig.ws.close()\n",
       "}\n",
       "\n",
       "mpl.figure.prototype.push_to_output = function(remove_interactive) {\n",
       "    // Turn the data on the canvas into data in the output cell.\n",
       "    var width = this.canvas.width/mpl.ratio\n",
       "    var dataURL = this.canvas.toDataURL();\n",
       "    this.cell_info[1]['text/html'] = '<img src=\"' + dataURL + '\" width=\"' + width + '\">';\n",
       "}\n",
       "\n",
       "mpl.figure.prototype.updated_canvas_event = function() {\n",
       "    // Tell IPython that the notebook contents must change.\n",
       "    IPython.notebook.set_dirty(true);\n",
       "    this.send_message(\"ack\", {});\n",
       "    var fig = this;\n",
       "    // Wait a second, then push the new image to the DOM so\n",
       "    // that it is saved nicely (might be nice to debounce this).\n",
       "    setTimeout(function () { fig.push_to_output() }, 1000);\n",
       "}\n",
       "\n",
       "mpl.figure.prototype._init_toolbar = function() {\n",
       "    var fig = this;\n",
       "\n",
       "    var nav_element = $('<div/>')\n",
       "    nav_element.attr('style', 'width: 100%');\n",
       "    this.root.append(nav_element);\n",
       "\n",
       "    // Define a callback function for later on.\n",
       "    function toolbar_event(event) {\n",
       "        return fig.toolbar_button_onclick(event['data']);\n",
       "    }\n",
       "    function toolbar_mouse_event(event) {\n",
       "        return fig.toolbar_button_onmouseover(event['data']);\n",
       "    }\n",
       "\n",
       "    for(var toolbar_ind in mpl.toolbar_items){\n",
       "        var name = mpl.toolbar_items[toolbar_ind][0];\n",
       "        var tooltip = mpl.toolbar_items[toolbar_ind][1];\n",
       "        var image = mpl.toolbar_items[toolbar_ind][2];\n",
       "        var method_name = mpl.toolbar_items[toolbar_ind][3];\n",
       "\n",
       "        if (!name) { continue; };\n",
       "\n",
       "        var button = $('<button class=\"btn btn-default\" href=\"#\" title=\"' + name + '\"><i class=\"fa ' + image + ' fa-lg\"></i></button>');\n",
       "        button.click(method_name, toolbar_event);\n",
       "        button.mouseover(tooltip, toolbar_mouse_event);\n",
       "        nav_element.append(button);\n",
       "    }\n",
       "\n",
       "    // Add the status bar.\n",
       "    var status_bar = $('<span class=\"mpl-message\" style=\"text-align:right; float: right;\"/>');\n",
       "    nav_element.append(status_bar);\n",
       "    this.message = status_bar[0];\n",
       "\n",
       "    // Add the close button to the window.\n",
       "    var buttongrp = $('<div class=\"btn-group inline pull-right\"></div>');\n",
       "    var button = $('<button class=\"btn btn-mini btn-primary\" href=\"#\" title=\"Stop Interaction\"><i class=\"fa fa-power-off icon-remove icon-large\"></i></button>');\n",
       "    button.click(function (evt) { fig.handle_close(fig, {}); } );\n",
       "    button.mouseover('Stop Interaction', toolbar_mouse_event);\n",
       "    buttongrp.append(button);\n",
       "    var titlebar = this.root.find($('.ui-dialog-titlebar'));\n",
       "    titlebar.prepend(buttongrp);\n",
       "}\n",
       "\n",
       "mpl.figure.prototype._root_extra_style = function(el){\n",
       "    var fig = this\n",
       "    el.on(\"remove\", function(){\n",
       "\tfig.close_ws(fig, {});\n",
       "    });\n",
       "}\n",
       "\n",
       "mpl.figure.prototype._canvas_extra_style = function(el){\n",
       "    // this is important to make the div 'focusable\n",
       "    el.attr('tabindex', 0)\n",
       "    // reach out to IPython and tell the keyboard manager to turn it's self\n",
       "    // off when our div gets focus\n",
       "\n",
       "    // location in version 3\n",
       "    if (IPython.notebook.keyboard_manager) {\n",
       "        IPython.notebook.keyboard_manager.register_events(el);\n",
       "    }\n",
       "    else {\n",
       "        // location in version 2\n",
       "        IPython.keyboard_manager.register_events(el);\n",
       "    }\n",
       "\n",
       "}\n",
       "\n",
       "mpl.figure.prototype._key_event_extra = function(event, name) {\n",
       "    var manager = IPython.notebook.keyboard_manager;\n",
       "    if (!manager)\n",
       "        manager = IPython.keyboard_manager;\n",
       "\n",
       "    // Check for shift+enter\n",
       "    if (event.shiftKey && event.which == 13) {\n",
       "        this.canvas_div.blur();\n",
       "        // select the cell after this one\n",
       "        var index = IPython.notebook.find_cell_index(this.cell_info[0]);\n",
       "        IPython.notebook.select(index + 1);\n",
       "    }\n",
       "}\n",
       "\n",
       "mpl.figure.prototype.handle_save = function(fig, msg) {\n",
       "    fig.ondownload(fig, null);\n",
       "}\n",
       "\n",
       "\n",
       "mpl.find_output_cell = function(html_output) {\n",
       "    // Return the cell and output element which can be found *uniquely* in the notebook.\n",
       "    // Note - this is a bit hacky, but it is done because the \"notebook_saving.Notebook\"\n",
       "    // IPython event is triggered only after the cells have been serialised, which for\n",
       "    // our purposes (turning an active figure into a static one), is too late.\n",
       "    var cells = IPython.notebook.get_cells();\n",
       "    var ncells = cells.length;\n",
       "    for (var i=0; i<ncells; i++) {\n",
       "        var cell = cells[i];\n",
       "        if (cell.cell_type === 'code'){\n",
       "            for (var j=0; j<cell.output_area.outputs.length; j++) {\n",
       "                var data = cell.output_area.outputs[j];\n",
       "                if (data.data) {\n",
       "                    // IPython >= 3 moved mimebundle to data attribute of output\n",
       "                    data = data.data;\n",
       "                }\n",
       "                if (data['text/html'] == html_output) {\n",
       "                    return [cell, data, j];\n",
       "                }\n",
       "            }\n",
       "        }\n",
       "    }\n",
       "}\n",
       "\n",
       "// Register the function which deals with the matplotlib target/channel.\n",
       "// The kernel may be null if the page has been refreshed.\n",
       "if (IPython.notebook.kernel != null) {\n",
       "    IPython.notebook.kernel.comm_manager.register_target('matplotlib', mpl.mpl_figure_comm);\n",
       "}\n"
      ],
      "text/plain": [
       "<IPython.core.display.Javascript object>"
      ]
     },
     "metadata": {},
     "output_type": "display_data"
    },
    {
     "data": {
      "text/html": [
       "<img src=\"data:image/png;base64,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\" width=\"639.9209558530772\">"
      ],
      "text/plain": [
       "<IPython.core.display.HTML object>"
      ]
     },
     "metadata": {},
     "output_type": "display_data"
    }
   ],
   "source": [
    "plt.hist(breaks_pdist_cond, bins=np.linspace(0, dist_right.max(), 50));"
   ]
  },
  {
   "cell_type": "code",
   "execution_count": 40,
   "metadata": {},
   "outputs": [
    {
     "name": "stdout",
     "output_type": "stream",
     "text": [
      "CPU times: user 10.7 s, sys: 28 ms, total: 10.7 s\n",
      "Wall time: 10.7 s\n"
     ]
    },
    {
     "data": {
      "text/plain": [
       "array([ 1706, 14218,   784, ...,  4801,  1706,  4326])"
      ]
     },
     "execution_count": 40,
     "metadata": {},
     "output_type": "execute_result"
    }
   ],
   "source": [
    "%time hapclust.locate_breakpoints_by_4gametes(h[:, :])"
   ]
  },
  {
   "cell_type": "code",
   "execution_count": 20,
   "metadata": {},
   "outputs": [
    {
     "data": {
      "text/plain": [
       "1176829"
      ]
     },
     "execution_count": 20,
     "metadata": {},
     "output_type": "execute_result"
    }
   ],
   "source": [
    "dist_right[78716]"
   ]
  },
  {
   "cell_type": "code",
   "execution_count": 136,
   "metadata": {
    "scrolled": false
   },
   "outputs": [
    {
     "name": "stdout",
     "output_type": "stream",
     "text": [
      "single split, splitting cluster 0\n",
      "iteration 010 minor allele 1 mac 9 haps [0 0 1 0 0 0 1 0 1 1 1 0 1 1 1 0 0 0 1 0] clusters [0 0 1 0 0 0 1 0 1 1 1 0 1 1 1 0 0 0 1 0] breakpoints [0 0 0 0 0 0 0 0 0 0 0 0 0 0 0 0 0 0 0 0]\n",
      "single split, splitting cluster 1\n",
      "iteration 4255 minor allele 1 mac 8 haps [0 0 1 0 0 0 1 0 1 1 0 0 1 1 1 0 0 0 1 0] clusters [0 0 2 0 0 0 2 0 2 2 1 0 2 2 2 0 0 0 2 0] breakpoints [0 0 0 0 0 0 0 0 0 0 0 0 0 0 0 0 0 0 0 0]\n",
      "multiple splits, recombination detected\n",
      "iteration 4313 minor allele 1 mac 9 haps [0 0 1 0 0 0 1 0 1 1 1 0 1 1 1 0 0 0 1 0] clusters [0 0 2 0 0 0 2 0 2 2 1 0 2 2 2 0 0 0 2 0] breakpoints [   0    0    0    0    0    0    0    0    0    0 4313    0    0    0    0\n",
      "    0    0    0    0    0]\n",
      "single split, splitting cluster 2\n",
      "iteration 6362 minor allele 1 mac 8 haps [0 0 1 0 0 0 1 0 1 0 1 0 1 1 1 0 0 0 1 0] clusters [0 0 3 0 0 0 3 0 3 2 1 0 3 3 3 0 0 0 3 0] breakpoints [   0    0    0    0    0    0    0    0    0    0 4313    0    0    0    0\n",
      "    0    0    0    0    0]\n",
      "multiple splits, recombination detected\n",
      "iteration 6555 minor allele 1 mac 9 haps [0 0 1 0 0 0 1 0 1 1 1 0 1 1 1 0 0 0 1 0] clusters [0 0 3 0 0 0 3 0 3 2 1 0 3 3 3 0 0 0 3 0] breakpoints [   0    0    0    0    0    0    0    0    0 6555 4313    0    0    0    0\n",
      "    0    0    0    0    0]\n",
      "single split, splitting cluster 3\n",
      "iteration 7242 minor allele 1 mac 8 haps [0 0 1 0 0 0 1 0 0 1 1 0 1 1 1 0 0 0 1 0] clusters [0 0 4 0 0 0 4 0 3 2 1 0 4 4 4 0 0 0 4 0] breakpoints [   0    0    0    0    0    0    0    0    0 6555 4313    0    0    0    0\n",
      "    0    0    0    0    0]\n",
      "multiple splits, recombination detected\n",
      "iteration 7252 minor allele 0 mac 9 haps [1 1 0 1 1 1 0 1 0 0 0 1 0 0 0 1 1 1 0 1] clusters [0 0 4 0 0 0 4 0 3 2 1 0 4 4 4 0 0 0 4 0] breakpoints [   0    0    0    0    0    0    0    0 7252 6555 4313    0    0    0    0\n",
      "    0    0    0    0    0]\n",
      "single split, splitting cluster 4\n",
      "iteration 8665 minor allele 1 mac 7 haps [0 0 1 0 0 0 1 0 1 0 1 0 0 1 1 0 0 0 1 0] clusters [0 0 5 0 0 0 5 0 3 2 1 0 4 5 5 0 0 0 5 0] breakpoints [   0    0    0    0    0    0    0    0 7252 6555 4313    0    0    0    0\n",
      "    0    0    0    0    0]\n",
      "multiple splits, recombination detected\n",
      "iteration 8671 minor allele 0 mac 9 haps [1 1 0 1 1 1 0 1 0 0 0 1 0 0 0 1 1 1 0 1] clusters [0 0 5 0 0 0 5 0 3 2 1 0 4 5 5 0 0 0 5 0] breakpoints [   0    0    0    0    0    0    0    0 7252 6555 4313    0 8671    0    0\n",
      "    0    0    0    0    0]\n",
      "multiple splits, recombination detected\n",
      "iteration 10618 minor allele 0 mac 10 haps [1 1 0 1 1 1 0 1 0 0 0 1 0 0 0 1 0 1 0 1] clusters [0 0 5 0 0 0 5 0 3 2 1 0 4 5 5 0 6 0 5 0] breakpoints [    0     0     0     0     0     0     0     0  7252  6555  4313     0\n",
      "  8671     0     0     0 10618     0     0     0]\n",
      "multiple splits, recombination detected\n",
      "iteration 10641 minor allele 0 mac 10 haps [1 1 0 0 1 1 0 1 0 0 0 1 0 0 0 1 1 1 0 1] clusters [0 0 5 7 0 0 5 0 3 2 1 0 4 5 5 0 6 0 5 0] breakpoints [    0     0     0 10641     0     0     0     0  7252  6555  4313     0\n",
      "  8671     0     0     0 10618     0     0     0]\n",
      "single split, splitting cluster 5\n",
      "iteration 11115 minor allele 1 mac 6 haps [0 0 1 0 0 0 1 0 1 0 1 0 0 1 1 0 0 0 0 0] clusters [0 0 8 7 0 0 8 0 3 2 1 0 4 8 8 0 6 0 5 0] breakpoints [    0     0     0 10641     0     0     0     0  7252  6555  4313     0\n",
      "  8671     0     0     0 10618     0     0     0]\n",
      "multiple splits, recombination detected\n",
      "iteration 11147 minor allele 0 mac 8 haps [1 1 0 1 1 1 0 1 0 1 0 1 0 0 0 1 1 1 0 1] clusters [0 0 8 7 0 0 8 0 3 2 1 0 4 8 8 0 6 0 5 0] breakpoints [    0     0     0 10641     0     0     0     0  7252  6555  4313     0\n",
      "  8671     0     0     0 10618     0 11147     0]\n",
      "multiple splits, recombination detected\n",
      "splitting cluster 8\n",
      "iteration 14218 minor allele 0 mac 3 haps [1 0 0 1 1 1 1 1 1 1 1 1 1 0 1 1 1 1 1 1] clusters [ 0 10  9  7  0  0  8  0  3  2  1  0  4  9  8  0  6  0  5  0] breakpoints [    0 14218     0 10641     0     0     0     0  7252  6555  4313     0\n",
      "  8671     0     0     0 10618     0 11147     0]\n",
      "multiple splits, recombination detected\n",
      "iteration 14267 minor allele 0 mac 9 haps [1 1 0 1 1 1 0 1 0 0 0 1 0 0 0 1 1 1 0 1] clusters [ 0 10  9  7  0  0  8  0  3  2  1  0  4  9  8  0  6  0  5  0] breakpoints [    0 14218 14267 10641     0     0     0     0  7252  6555  4313     0\n",
      "  8671 14267     0     0 10618     0 11147     0]\n",
      "multiple splits, recombination detected\n",
      "iteration 14602 minor allele 0 mac 10 haps [1 1 0 1 0 1 0 1 0 0 0 1 0 0 0 1 1 1 0 1] clusters [ 0 10  9  7 11  0  8  0  3  2  1  0  4  9  8  0  6  0  5  0] breakpoints [    0 14218 14267 10641 14602     0     0     0  7252  6555  4313     0\n",
      "  8671 14267     0     0 10618     0 11147     0]\n",
      "multiple splits, recombination detected\n",
      "iteration 20032 minor allele 0 mac 10 haps [1 1 0 1 1 1 0 0 0 0 0 1 0 0 0 1 1 1 0 1] clusters [ 0 10  9  7 11  0  8 12  3  2  1  0  4  9  8  0  6  0  5  0] breakpoints [    0 14218 14267 10641 14602     0     0 20032  7252  6555  4313     0\n",
      "  8671 14267     0     0 10618     0 11147     0]\n",
      "single split, splitting cluster 0\n",
      "iteration 25039 minor allele 1 mac 8 haps [1 0 0 1 1 0 0 1 0 0 0 1 0 0 0 1 1 0 0 1] clusters [13 10  9  7 11  0  8 12  3  2  1 13  4  9  8 13  6  0  5 13] breakpoints [    0 14218 14267 10641 14602     0     0 20032  7252  6555  4313     0\n",
      "  8671 14267     0     0 10618     0 11147     0]\n",
      "multiple splits, recombination detected\n",
      "splitting cluster 13\n",
      "iteration 26790 minor allele 1 mac 9 haps [0 1 0 1 0 1 0 1 0 0 0 1 0 0 0 1 1 1 0 1] clusters [13 10  9  7 11  0  8 12  3  2  1 14  4  9  8 14  6  0  5 14] breakpoints [    0 14218 14267 10641 14602 26790     0 20032  7252  6555  4313     0\n",
      "  8671 14267     0     0 10618 26790 11147     0]\n",
      "single split, splitting cluster 8\n",
      "iteration 63688 minor allele 1 mac 5 haps [0 0 0 0 0 0 0 0 0 1 1 0 0 1 1 0 0 0 1 0] clusters [13 10  9  7 11  0  8 12  3  2  1 14  4  9 15 14  6  0  5 14] breakpoints [    0 14218 14267 10641 14602 26790     0 20032  7252  6555  4313     0\n",
      "  8671 14267     0     0 10618 26790 11147     0]\n",
      "multiple splits, recombination detected\n",
      "terminating singleton cluster 8\n",
      "iteration 63690 minor allele 1 mac 5 haps [0 0 0 0 0 0 1 0 0 1 0 0 0 1 1 0 0 0 1 0] clusters [13 10  9  7 11  0  8 12  3  2  1 14  4  9 15 14  6  0  5 14] breakpoints [    0 14218 14267 10641 14602 26790 63690 20032  7252  6555  4313     0\n",
      "  8671 14267 63690     0 10618 26790 11147     0]\n",
      "single split, splitting cluster 14\n",
      "iteration 65214 minor allele 1 mac 9 haps [0 0 1 0 0 0 1 1 0 1 1 1 0 1 1 0 0 0 1 0] clusters [13 10  9  7 11  0  8 12  3  2  1 16  4  9 15 14  6  0  5 14] breakpoints [    0 14218 14267 10641 14602 26790 63690 20032  7252  6555  4313     0\n",
      "  8671 14267 63690     0 10618 26790 11147     0]\n",
      "multiple splits, recombination detected\n",
      "terminating singleton cluster 13\n",
      "iteration 68045 minor allele 0 mac 10 haps [0 0 1 0 0 0 1 0 1 1 1 0 1 1 1 1 0 0 1 0] clusters [13 10  9  7 11  0  8 12  3  2  1 16  4  9 15 14  6  0  5 17] breakpoints [68045 14218 14267 10641 14602 26790 63690 20032  7252  6555  4313 68045\n",
      "  8671 14267 63690     0 10618 26790 11147 68045]\n",
      "terminating final haplotype\n",
      "iteration 68045 minor allele 0 mac 10 haps [0 0 1 0 0 0 1 0 1 1 1 0 1 1 1 1 0 0 1 0] clusters [13 10  9  7 11  0  8 12  3  2  1 16  4  9 15 14  6  0  5 17] breakpoints [68045 14218 14267 10641 14602 26790 63690 20032  7252  6555  4313 68045\n",
      "  8671 14267 63690 68045 10618 26790 11147 68045]\n"
     ]
    }
   ],
   "source": [
    "locate_recombination_by_splits_flank(h[:, :20])"
   ]
  },
  {
   "cell_type": "code",
   "execution_count": 132,
   "metadata": {},
   "outputs": [
    {
     "data": {
      "text/plain": [
       "1077495"
      ]
     },
     "execution_count": 132,
     "metadata": {},
     "output_type": "execute_result"
    }
   ],
   "source": [
    "dist_right[68045]"
   ]
  },
  {
   "cell_type": "code",
   "execution_count": 133,
   "metadata": {
    "collapsed": true
   },
   "outputs": [],
   "source": [
    "np.argmax?"
   ]
  },
  {
   "cell_type": "code",
   "execution_count": null,
   "metadata": {
    "collapsed": true
   },
   "outputs": [],
   "source": []
  },
  {
   "cell_type": "code",
   "execution_count": 77,
   "metadata": {
    "collapsed": true
   },
   "outputs": [],
   "source": [
    "def locate_recombination(h):\n",
    "    ac = h.count_alleles()\n",
    "    splits = [set(range(h.shape[1]))]\n",
    "    for i in range(h.shape[0]):\n",
    "        minor_allele = ac[i].argmin()\n",
    "        minor_allele_count = ac[i, minor_allele]\n",
    "        log('iteration', i, 'minor allele', minor_allele, 'mac', minor_allele_count)\n",
    "        if minor_allele_count > 1:\n",
    "            split = set(np.nonzero(h[i] == minor_allele)[0])\n",
    "            log('split', split)\n",
    "        "
   ]
  },
  {
   "cell_type": "code",
   "execution_count": 80,
   "metadata": {
    "collapsed": true
   },
   "outputs": [],
   "source": [
    "x = set([1, 2, 3])"
   ]
  },
  {
   "cell_type": "code",
   "execution_count": 82,
   "metadata": {},
   "outputs": [
    {
     "data": {
      "text/plain": [
       "False"
      ]
     },
     "execution_count": 82,
     "metadata": {},
     "output_type": "execute_result"
    }
   ],
   "source": [
    "x.issubset(set([1, 2, 4]))"
   ]
  },
  {
   "cell_type": "code",
   "execution_count": 78,
   "metadata": {},
   "outputs": [
    {
     "name": "stdout",
     "output_type": "stream",
     "text": [
      "iteration 0 minor allele 1 mac 4\n",
      "split {8, 9, 2, 6}\n",
      "iteration 1 minor allele 0 mac 4\n",
      "split {8, 9, 2, 6}\n",
      "iteration 2 minor allele 1 mac 4\n",
      "split {8, 9, 2, 6}\n",
      "iteration 3 minor allele 1 mac 4\n",
      "split {8, 9, 2, 6}\n",
      "iteration 4 minor allele 0 mac 4\n",
      "split {8, 9, 2, 6}\n",
      "iteration 5 minor allele 1 mac 4\n",
      "split {8, 9, 2, 6}\n",
      "iteration 6 minor allele 0 mac 4\n",
      "split {8, 9, 2, 6}\n",
      "iteration 7 minor allele 1 mac 4\n",
      "split {8, 9, 2, 6}\n",
      "iteration 8 minor allele 1 mac 4\n",
      "split {8, 9, 2, 6}\n",
      "iteration 9 minor allele 0 mac 4\n",
      "split {8, 9, 2, 6}\n"
     ]
    }
   ],
   "source": [
    "locate_recombination(hseg[:10])"
   ]
  },
  {
   "cell_type": "code",
   "execution_count": 65,
   "metadata": {
    "collapsed": true
   },
   "outputs": [],
   "source": [
    "# def locate_breakpoints(h):\n",
    "#     # take a copy\n",
    "#     h = np.array(h, dtype='i1')\n",
    "#     # iterate away from core\n",
    "#     for i in range(2, h.shape[0]):\n",
    "# #         log('iteration', i)\n",
    "#         hf = h[:i]\n",
    "#         recombinants = hapclust.locate_recombinants(hf)[0]\n",
    "#         if recombinants:\n",
    "#             nonrec = [i for i in range(h.shape[1]) if i not in recombinants]\n",
    "#             h = h[:, nonrec]\n",
    "#             log('variant %s; found recombinant: %r; haps remaining: %s' % (i, recombinants, h.shape[1]))\n"
   ]
  },
  {
   "cell_type": "code",
   "execution_count": 66,
   "metadata": {},
   "outputs": [
    {
     "name": "stdout",
     "output_type": "stream",
     "text": [
      "variant 356; found recombinant: {9}; haps remaining: 9\n"
     ]
    },
    {
     "ename": "KeyboardInterrupt",
     "evalue": "",
     "output_type": "error",
     "traceback": [
      "\u001b[0;31m---------------------------------------------------------------------------\u001b[0m",
      "\u001b[0;31mKeyboardInterrupt\u001b[0m                         Traceback (most recent call last)",
      "\u001b[0;32m<ipython-input-66-77a4f0a6375d>\u001b[0m in \u001b[0;36m<module>\u001b[0;34m()\u001b[0m\n\u001b[0;32m----> 1\u001b[0;31m \u001b[0mlocate_breakpoints\u001b[0m\u001b[0;34m(\u001b[0m\u001b[0mhseg\u001b[0m\u001b[0;34m[\u001b[0m\u001b[0;34m:\u001b[0m\u001b[0;36m1000\u001b[0m\u001b[0;34m]\u001b[0m\u001b[0;34m)\u001b[0m\u001b[0;34m\u001b[0m\u001b[0m\n\u001b[0m",
      "\u001b[0;32m<ipython-input-65-61da6b1dceeb>\u001b[0m in \u001b[0;36mlocate_breakpoints\u001b[0;34m(h)\u001b[0m\n\u001b[1;32m      6\u001b[0m \u001b[0;31m#         log('iteration', i)\u001b[0m\u001b[0;34m\u001b[0m\u001b[0;34m\u001b[0m\u001b[0m\n\u001b[1;32m      7\u001b[0m         \u001b[0mhf\u001b[0m \u001b[0;34m=\u001b[0m \u001b[0mh\u001b[0m\u001b[0;34m[\u001b[0m\u001b[0;34m:\u001b[0m\u001b[0mi\u001b[0m\u001b[0;34m]\u001b[0m\u001b[0;34m\u001b[0m\u001b[0m\n\u001b[0;32m----> 8\u001b[0;31m         \u001b[0mrecombinants\u001b[0m \u001b[0;34m=\u001b[0m \u001b[0mhapclust\u001b[0m\u001b[0;34m.\u001b[0m\u001b[0mlocate_recombinants\u001b[0m\u001b[0;34m(\u001b[0m\u001b[0mhf\u001b[0m\u001b[0;34m)\u001b[0m\u001b[0;34m[\u001b[0m\u001b[0;36m0\u001b[0m\u001b[0;34m]\u001b[0m\u001b[0;34m\u001b[0m\u001b[0m\n\u001b[0m\u001b[1;32m      9\u001b[0m         \u001b[0;32mif\u001b[0m \u001b[0mrecombinants\u001b[0m\u001b[0;34m:\u001b[0m\u001b[0;34m\u001b[0m\u001b[0m\n\u001b[1;32m     10\u001b[0m             \u001b[0mnonrec\u001b[0m \u001b[0;34m=\u001b[0m \u001b[0;34m[\u001b[0m\u001b[0mi\u001b[0m \u001b[0;32mfor\u001b[0m \u001b[0mi\u001b[0m \u001b[0;32min\u001b[0m \u001b[0mrange\u001b[0m\u001b[0;34m(\u001b[0m\u001b[0mh\u001b[0m\u001b[0;34m.\u001b[0m\u001b[0mshape\u001b[0m\u001b[0;34m[\u001b[0m\u001b[0;36m1\u001b[0m\u001b[0;34m]\u001b[0m\u001b[0;34m)\u001b[0m \u001b[0;32mif\u001b[0m \u001b[0mi\u001b[0m \u001b[0;32mnot\u001b[0m \u001b[0;32min\u001b[0m \u001b[0mrecombinants\u001b[0m\u001b[0;34m]\u001b[0m\u001b[0;34m\u001b[0m\u001b[0m\n",
      "\u001b[0;32m/home/aliman/src/github/alimanfoo/agam-vgsc-report/agam-report-base/src/python/hapclust.py\u001b[0m in \u001b[0;36mlocate_recombinants\u001b[0;34m(h, debug)\u001b[0m\n\u001b[1;32m    831\u001b[0m             \u001b[0;32mif\u001b[0m \u001b[0mdebug\u001b[0m\u001b[0;34m:\u001b[0m\u001b[0;34m\u001b[0m\u001b[0m\n\u001b[1;32m    832\u001b[0m                 \u001b[0mprint\u001b[0m\u001b[0;34m(\u001b[0m\u001b[0mi\u001b[0m\u001b[0;34m,\u001b[0m \u001b[0mj\u001b[0m\u001b[0;34m,\u001b[0m \u001b[0mcount\u001b[0m\u001b[0;34m[\u001b[0m\u001b[0mi\u001b[0m\u001b[0;34m,\u001b[0m \u001b[0mj\u001b[0m\u001b[0;34m]\u001b[0m\u001b[0;34m.\u001b[0m\u001b[0mflatten\u001b[0m\u001b[0;34m(\u001b[0m\u001b[0;34m)\u001b[0m\u001b[0;34m,\u001b[0m \u001b[0mleast_frequent_gamete\u001b[0m\u001b[0;34m,\u001b[0m \u001b[0mrecombinant_haps_idx\u001b[0m\u001b[0;34m)\u001b[0m\u001b[0;34m\u001b[0m\u001b[0m\n\u001b[0;32m--> 833\u001b[0;31m             \u001b[0mnew_solutions\u001b[0m\u001b[0;34m.\u001b[0m\u001b[0mextend\u001b[0m\u001b[0;34m(\u001b[0m\u001b[0;34m[\u001b[0m\u001b[0ms\u001b[0m\u001b[0;34m.\u001b[0m\u001b[0munion\u001b[0m\u001b[0;34m(\u001b[0m\u001b[0mrecombinant_haps_idx\u001b[0m\u001b[0;34m)\u001b[0m \u001b[0;32mfor\u001b[0m \u001b[0ms\u001b[0m \u001b[0;32min\u001b[0m \u001b[0msolutions\u001b[0m\u001b[0;34m]\u001b[0m\u001b[0;34m)\u001b[0m\u001b[0;34m\u001b[0m\u001b[0m\n\u001b[0m\u001b[1;32m    834\u001b[0m         \u001b[0msolutions\u001b[0m \u001b[0;34m=\u001b[0m \u001b[0mnew_solutions\u001b[0m\u001b[0;34m\u001b[0m\u001b[0m\n\u001b[1;32m    835\u001b[0m     \u001b[0;31m# sort solutions by size\u001b[0m\u001b[0;34m\u001b[0m\u001b[0;34m\u001b[0m\u001b[0m\n",
      "\u001b[0;32m/home/aliman/src/github/alimanfoo/agam-vgsc-report/agam-report-base/src/python/hapclust.py\u001b[0m in \u001b[0;36m<listcomp>\u001b[0;34m(.0)\u001b[0m\n\u001b[1;32m    831\u001b[0m             \u001b[0;32mif\u001b[0m \u001b[0mdebug\u001b[0m\u001b[0;34m:\u001b[0m\u001b[0;34m\u001b[0m\u001b[0m\n\u001b[1;32m    832\u001b[0m                 \u001b[0mprint\u001b[0m\u001b[0;34m(\u001b[0m\u001b[0mi\u001b[0m\u001b[0;34m,\u001b[0m \u001b[0mj\u001b[0m\u001b[0;34m,\u001b[0m \u001b[0mcount\u001b[0m\u001b[0;34m[\u001b[0m\u001b[0mi\u001b[0m\u001b[0;34m,\u001b[0m \u001b[0mj\u001b[0m\u001b[0;34m]\u001b[0m\u001b[0;34m.\u001b[0m\u001b[0mflatten\u001b[0m\u001b[0;34m(\u001b[0m\u001b[0;34m)\u001b[0m\u001b[0;34m,\u001b[0m \u001b[0mleast_frequent_gamete\u001b[0m\u001b[0;34m,\u001b[0m \u001b[0mrecombinant_haps_idx\u001b[0m\u001b[0;34m)\u001b[0m\u001b[0;34m\u001b[0m\u001b[0m\n\u001b[0;32m--> 833\u001b[0;31m             \u001b[0mnew_solutions\u001b[0m\u001b[0;34m.\u001b[0m\u001b[0mextend\u001b[0m\u001b[0;34m(\u001b[0m\u001b[0;34m[\u001b[0m\u001b[0ms\u001b[0m\u001b[0;34m.\u001b[0m\u001b[0munion\u001b[0m\u001b[0;34m(\u001b[0m\u001b[0mrecombinant_haps_idx\u001b[0m\u001b[0;34m)\u001b[0m \u001b[0;32mfor\u001b[0m \u001b[0ms\u001b[0m \u001b[0;32min\u001b[0m \u001b[0msolutions\u001b[0m\u001b[0;34m]\u001b[0m\u001b[0;34m)\u001b[0m\u001b[0;34m\u001b[0m\u001b[0m\n\u001b[0m\u001b[1;32m    834\u001b[0m         \u001b[0msolutions\u001b[0m \u001b[0;34m=\u001b[0m \u001b[0mnew_solutions\u001b[0m\u001b[0;34m\u001b[0m\u001b[0m\n\u001b[1;32m    835\u001b[0m     \u001b[0;31m# sort solutions by size\u001b[0m\u001b[0;34m\u001b[0m\u001b[0;34m\u001b[0m\u001b[0m\n",
      "\u001b[0;31mKeyboardInterrupt\u001b[0m: "
     ]
    }
   ],
   "source": [
    "locate_breakpoints(hseg[:1000])"
   ]
  },
  {
   "cell_type": "code",
   "execution_count": 53,
   "metadata": {},
   "outputs": [
    {
     "data": {
      "text/html": [
       "<div class=\"allel allel-DisplayAs2D\"><span>&lt;HaplotypeArray shape=(40, 4) dtype=int8&gt;</span><table><tr><th></th><th style=\"text-align: center\">0</th><th style=\"text-align: center\">1</th><th style=\"text-align: center\">2</th><th style=\"text-align: center\">3</th></tr><tr><th style=\"text-align: center\">0</th><td style=\"text-align: center\">1</td><td style=\"text-align: center\">1</td><td style=\"text-align: center\">0</td><td style=\"text-align: center\">1</td></tr><tr><th style=\"text-align: center\">1</th><td style=\"text-align: center\">1</td><td style=\"text-align: center\">1</td><td style=\"text-align: center\">0</td><td style=\"text-align: center\">1</td></tr><tr><th style=\"text-align: center\">2</th><td style=\"text-align: center\">1</td><td style=\"text-align: center\">0</td><td style=\"text-align: center\">1</td><td style=\"text-align: center\">1</td></tr><tr><th style=\"text-align: center\">3</th><td style=\"text-align: center\">1</td><td style=\"text-align: center\">1</td><td style=\"text-align: center\">1</td><td style=\"text-align: center\">0</td></tr><tr><th style=\"text-align: center\">4</th><td style=\"text-align: center\">1</td><td style=\"text-align: center\">1</td><td style=\"text-align: center\">0</td><td style=\"text-align: center\">1</td></tr><tr><th style=\"text-align: center\">5</th><td style=\"text-align: center\">1</td><td style=\"text-align: center\">0</td><td style=\"text-align: center\">1</td><td style=\"text-align: center\">1</td></tr><tr><th style=\"text-align: center\">6</th><td style=\"text-align: center\">0</td><td style=\"text-align: center\">1</td><td style=\"text-align: center\">1</td><td style=\"text-align: center\">0</td></tr><tr><th style=\"text-align: center\">7</th><td style=\"text-align: center\">1</td><td style=\"text-align: center\">0</td><td style=\"text-align: center\">1</td><td style=\"text-align: center\">1</td></tr><tr><th style=\"text-align: center\">8</th><td style=\"text-align: center\">1</td><td style=\"text-align: center\">1</td><td style=\"text-align: center\">1</td><td style=\"text-align: center\">0</td></tr><tr><th style=\"text-align: center\">9</th><td style=\"text-align: center\">1</td><td style=\"text-align: center\">1</td><td style=\"text-align: center\">0</td><td style=\"text-align: center\">1</td></tr><tr><th style=\"text-align: center\">10</th><td style=\"text-align: center\">0</td><td style=\"text-align: center\">1</td><td style=\"text-align: center\">1</td><td style=\"text-align: center\">1</td></tr><tr><th style=\"text-align: center\">11</th><td style=\"text-align: center\">1</td><td style=\"text-align: center\">1</td><td style=\"text-align: center\">0</td><td style=\"text-align: center\">1</td></tr><tr><th style=\"text-align: center\">12</th><td style=\"text-align: center\">1</td><td style=\"text-align: center\">1</td><td style=\"text-align: center\">0</td><td style=\"text-align: center\">1</td></tr><tr><th style=\"text-align: center\">13</th><td style=\"text-align: center\">1</td><td style=\"text-align: center\">1</td><td style=\"text-align: center\">0</td><td style=\"text-align: center\">1</td></tr><tr><th style=\"text-align: center\">14</th><td style=\"text-align: center\">1</td><td style=\"text-align: center\">1</td><td style=\"text-align: center\">0</td><td style=\"text-align: center\">1</td></tr><tr><th style=\"text-align: center\">15</th><td style=\"text-align: center\">1</td><td style=\"text-align: center\">1</td><td style=\"text-align: center\">0</td><td style=\"text-align: center\">1</td></tr><tr><th style=\"text-align: center\">16</th><td style=\"text-align: center\">1</td><td style=\"text-align: center\">1</td><td style=\"text-align: center\">0</td><td style=\"text-align: center\">1</td></tr><tr><th style=\"text-align: center\">17</th><td style=\"text-align: center\">1</td><td style=\"text-align: center\">1</td><td style=\"text-align: center\">0</td><td style=\"text-align: center\">1</td></tr><tr><th style=\"text-align: center\">18</th><td style=\"text-align: center\">1</td><td style=\"text-align: center\">1</td><td style=\"text-align: center\">0</td><td style=\"text-align: center\">1</td></tr><tr><th style=\"text-align: center\">19</th><td style=\"text-align: center\">1</td><td style=\"text-align: center\">0</td><td style=\"text-align: center\">1</td><td style=\"text-align: center\">1</td></tr><tr><th style=\"text-align: center\">20</th><td style=\"text-align: center\">1</td><td style=\"text-align: center\">0</td><td style=\"text-align: center\">1</td><td style=\"text-align: center\">1</td></tr><tr><th style=\"text-align: center\">21</th><td style=\"text-align: center\">0</td><td style=\"text-align: center\">1</td><td style=\"text-align: center\">1</td><td style=\"text-align: center\">1</td></tr><tr><th style=\"text-align: center\">22</th><td style=\"text-align: center\">0</td><td style=\"text-align: center\">1</td><td style=\"text-align: center\">1</td><td style=\"text-align: center\">1</td></tr><tr><th style=\"text-align: center\">23</th><td style=\"text-align: center\">1</td><td style=\"text-align: center\">1</td><td style=\"text-align: center\">0</td><td style=\"text-align: center\">1</td></tr><tr><th style=\"text-align: center\">24</th><td style=\"text-align: center\">1</td><td style=\"text-align: center\">1</td><td style=\"text-align: center\">0</td><td style=\"text-align: center\">1</td></tr><tr><th style=\"text-align: center\">25</th><td style=\"text-align: center\">0</td><td style=\"text-align: center\">0</td><td style=\"text-align: center\">1</td><td style=\"text-align: center\">0</td></tr><tr><th style=\"text-align: center\">26</th><td style=\"text-align: center\">1</td><td style=\"text-align: center\">1</td><td style=\"text-align: center\">0</td><td style=\"text-align: center\">1</td></tr><tr><th style=\"text-align: center\">27</th><td style=\"text-align: center\">1</td><td style=\"text-align: center\">1</td><td style=\"text-align: center\">0</td><td style=\"text-align: center\">1</td></tr><tr><th style=\"text-align: center\">28</th><td style=\"text-align: center\">0</td><td style=\"text-align: center\">1</td><td style=\"text-align: center\">1</td><td style=\"text-align: center\">1</td></tr><tr><th style=\"text-align: center\">29</th><td style=\"text-align: center\">0</td><td style=\"text-align: center\">1</td><td style=\"text-align: center\">0</td><td style=\"text-align: center\">1</td></tr><tr><th style=\"text-align: center\">30</th><td style=\"text-align: center\">1</td><td style=\"text-align: center\">1</td><td style=\"text-align: center\">0</td><td style=\"text-align: center\">1</td></tr><tr><th style=\"text-align: center\">31</th><td style=\"text-align: center\">1</td><td style=\"text-align: center\">1</td><td style=\"text-align: center\">0</td><td style=\"text-align: center\">1</td></tr><tr><th style=\"text-align: center\">32</th><td style=\"text-align: center\">1</td><td style=\"text-align: center\">1</td><td style=\"text-align: center\">0</td><td style=\"text-align: center\">1</td></tr><tr><th style=\"text-align: center\">33</th><td style=\"text-align: center\">1</td><td style=\"text-align: center\">1</td><td style=\"text-align: center\">0</td><td style=\"text-align: center\">1</td></tr><tr><th style=\"text-align: center\">34</th><td style=\"text-align: center\">1</td><td style=\"text-align: center\">1</td><td style=\"text-align: center\">0</td><td style=\"text-align: center\">1</td></tr><tr><th style=\"text-align: center\">35</th><td style=\"text-align: center\">0</td><td style=\"text-align: center\">1</td><td style=\"text-align: center\">1</td><td style=\"text-align: center\">0</td></tr><tr><th style=\"text-align: center\">36</th><td style=\"text-align: center\">0</td><td style=\"text-align: center\">1</td><td style=\"text-align: center\">0</td><td style=\"text-align: center\">0</td></tr><tr><th style=\"text-align: center\">37</th><td style=\"text-align: center\">0</td><td style=\"text-align: center\">1</td><td style=\"text-align: center\">1</td><td style=\"text-align: center\">1</td></tr><tr><th style=\"text-align: center\">38</th><td style=\"text-align: center\">0</td><td style=\"text-align: center\">1</td><td style=\"text-align: center\">1</td><td style=\"text-align: center\">1</td></tr><tr><th style=\"text-align: center\">39</th><td style=\"text-align: center\">0</td><td style=\"text-align: center\">1</td><td style=\"text-align: center\">1</td><td style=\"text-align: center\">1</td></tr></table></div>"
      ]
     },
     "metadata": {},
     "output_type": "display_data"
    }
   ],
   "source": [
    "hseg[:40, [0, 1, 3, 4]].displayall()"
   ]
  },
  {
   "cell_type": "code",
   "execution_count": null,
   "metadata": {
    "collapsed": true
   },
   "outputs": [],
   "source": []
  }
 ],
 "metadata": {
  "kernelspec": {
   "display_name": "Python 3",
   "language": "python",
   "name": "python3"
  },
  "language_info": {
   "codemirror_mode": {
    "name": "ipython",
    "version": 3
   },
   "file_extension": ".py",
   "mimetype": "text/x-python",
   "name": "python",
   "nbconvert_exporter": "python",
   "pygments_lexer": "ipython3",
   "version": "3.5.3"
  }
 },
 "nbformat": 4,
 "nbformat_minor": 2
}
